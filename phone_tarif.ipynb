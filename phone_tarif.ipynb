{
  "cells": [
    {
      "cell_type": "markdown",
      "metadata": {
        "id": "view-in-github",
        "colab_type": "text"
      },
      "source": [
        "<a href=\"https://colab.research.google.com/github/kvik18/phone_tarif/blob/main/phone_tarif.ipynb\" target=\"_parent\"><img src=\"https://colab.research.google.com/assets/colab-badge.svg\" alt=\"Open In Colab\"/></a>"
      ]
    },
    {
      "cell_type": "markdown",
      "metadata": {
        "id": "F13WWF5P5Do1"
      },
      "source": [
        "# Анализ тарифов оператора сотовой связи\n",
        "### Описание данных\n",
        "Таблица users (информация о пользователях):\n",
        "- user_id — уникальный идентификатор пользователя\n",
        "- first_name — имя пользователя\n",
        "- last_name — фамилия пользователя\n",
        "- age — возраст пользователя (годы)\n",
        "- reg_date — дата подключения тарифа (день, месяц, год)\n",
        "- churn_date — дата прекращения пользования тарифом (если значение пропущено, то тариф ещё действовал на момент выгрузки данных)\n",
        "- city — город проживания пользователя\n",
        "- tariff — название тарифного плана\n",
        "\n",
        "Таблица calls (информация о звонках):\n",
        "- id — уникальный номер звонка\n",
        "- call_date — дата звонка\n",
        "- duration — длительность звонка в минутах\n",
        "- user_id — идентификатор пользователя, сделавшего звонок\n",
        "\n",
        "Таблица messages (информация о сообщениях):\n",
        "- id — уникальный номер сообщения\n",
        "- message_date — дата сообщения\n",
        "- user_id — идентификатор пользователя, отправившего сообщение\n",
        "\n",
        "Таблица internet (информация об интернет-сессиях):\n",
        "- id — уникальный номер сессии\n",
        "- mb_used — объём потраченного за сессию интернет-трафика (в мегабайтах)\n",
        "- session_date — дата интернет-сессии\n",
        "- user_id — идентификатор пользователя\n",
        "\n",
        "Таблица tariffs (информация о тарифах):\n",
        "- tariff_name — название тарифа\n",
        "- rub_monthly_fee — ежемесячная абонентская плата в рублях\n",
        "- minutes_included — количество минут разговора в месяц, включённых в абонентскую плату\n",
        "- messages_included — количество сообщений в месяц, включённых в абонентскую плату\n",
        "- mb_per_month_included — объём интернет-трафика, включённого в абонентскую плату (в мегабайтах)\n",
        "- rub_per_minute — стоимость минуты разговора сверх тарифного пакета (например, если в тарифе 100 минут разговора в месяц, то со 101 минуты будет взиматься плата)\n",
        "- rub_per_message — стоимость отправки сообщения сверх тарифного пакета\n",
        "- rub_per_gb — стоимость дополнительного гигабайта интернет-трафика сверх тарифного пакета (1 гигабайт = 1024 мегабайта)\n",
        "\n",
        "### План работ\n",
        "1. Подготовка данных.\n",
        "2. Подсчет израсходованных клиентами минут разговора, сообщений, интернер трафика.\n",
        "3. Подсчет помесячной выручки.\n",
        "4. Анализ расходов клиентов.\n",
        "5. Проверка гипотез."
      ]
    },
    {
      "cell_type": "markdown",
      "metadata": {
        "id": "mD8-18Tr5Do5"
      },
      "source": [
        "## Подготовка данных"
      ]
    },
    {
      "cell_type": "code",
      "execution_count": 19,
      "metadata": {
        "id": "IhcfZmLu5Do6"
      },
      "outputs": [],
      "source": [
        "# Импорт библиотек\n",
        "import pandas as pd\n",
        "import numpy as np\n",
        "from scipy import stats as st\n",
        "import math\n",
        "import datetime as dt\n",
        "import matplotlib.pyplot as plt"
      ]
    },
    {
      "cell_type": "markdown",
      "metadata": {
        "id": "bNQ1VqZ65Do9"
      },
      "source": [
        "Прочитаю данные файлы, просмотрю, получу общую информацию, проверю на пропуски и дубликаты. Для этого напишу функцию read_and_validate, которой по очереди передам каждый файл. "
      ]
    },
    {
      "cell_type": "code",
      "execution_count": 20,
      "metadata": {
        "id": "1BAnyRQd5Do-"
      },
      "outputs": [],
      "source": [
        "# функция чтения файла, просмотра 5 первых и последних строк, получения общей информации, \n",
        "# проверки на пропуски и дубликаты. Функция принимает имя файла и возвращает датафрейм.\n",
        "def read_and_validate(filename):\n",
        "    df_file = pd.read_csv(filename)\n",
        "    print('Файл', filename)\n",
        "    display(df_file)\n",
        "    print()\n",
        "    df_file.info()\n",
        "    print()\n",
        "    print('Дубликатов в данных:', df_file.duplicated().sum(), '\\n')\n",
        "    print('Пропусков в данных:', '\\n', df_file.isna().sum(), '\\n')\n",
        "    return df_file"
      ]
    },
    {
      "cell_type": "code",
      "execution_count": 21,
      "metadata": {
        "colab": {
          "base_uri": "https://localhost:8080/",
          "height": 1000
        },
        "id": "4hE1oCBm5Do_",
        "outputId": "06807c3c-f117-4589-eb75-5716e26b31e0"
      },
      "outputs": [
        {
          "output_type": "stream",
          "name": "stdout",
          "text": [
            "Файл calls.csv\n"
          ]
        },
        {
          "output_type": "display_data",
          "data": {
            "text/plain": [
              "              id   call_date  duration  user_id\n",
              "0         1000_0  2018-07-25      0.00     1000\n",
              "1         1000_1  2018-08-17      0.00     1000\n",
              "2         1000_2  2018-06-11      2.85     1000\n",
              "3         1000_3  2018-09-21     13.80     1000\n",
              "4         1000_4  2018-12-15      5.18     1000\n",
              "...          ...         ...       ...      ...\n",
              "202602  1499_215  2018-12-26      0.76     1499\n",
              "202603  1499_216  2018-10-18     18.83     1499\n",
              "202604  1499_217  2018-11-10     10.81     1499\n",
              "202605  1499_218  2018-10-06      4.27     1499\n",
              "202606  1499_219  2018-12-14     19.62     1499\n",
              "\n",
              "[202607 rows x 4 columns]"
            ],
            "text/html": [
              "\n",
              "  <div id=\"df-049aaa77-57f5-4d13-9e3e-07b4ddd863c3\">\n",
              "    <div class=\"colab-df-container\">\n",
              "      <div>\n",
              "<style scoped>\n",
              "    .dataframe tbody tr th:only-of-type {\n",
              "        vertical-align: middle;\n",
              "    }\n",
              "\n",
              "    .dataframe tbody tr th {\n",
              "        vertical-align: top;\n",
              "    }\n",
              "\n",
              "    .dataframe thead th {\n",
              "        text-align: right;\n",
              "    }\n",
              "</style>\n",
              "<table border=\"1\" class=\"dataframe\">\n",
              "  <thead>\n",
              "    <tr style=\"text-align: right;\">\n",
              "      <th></th>\n",
              "      <th>id</th>\n",
              "      <th>call_date</th>\n",
              "      <th>duration</th>\n",
              "      <th>user_id</th>\n",
              "    </tr>\n",
              "  </thead>\n",
              "  <tbody>\n",
              "    <tr>\n",
              "      <th>0</th>\n",
              "      <td>1000_0</td>\n",
              "      <td>2018-07-25</td>\n",
              "      <td>0.00</td>\n",
              "      <td>1000</td>\n",
              "    </tr>\n",
              "    <tr>\n",
              "      <th>1</th>\n",
              "      <td>1000_1</td>\n",
              "      <td>2018-08-17</td>\n",
              "      <td>0.00</td>\n",
              "      <td>1000</td>\n",
              "    </tr>\n",
              "    <tr>\n",
              "      <th>2</th>\n",
              "      <td>1000_2</td>\n",
              "      <td>2018-06-11</td>\n",
              "      <td>2.85</td>\n",
              "      <td>1000</td>\n",
              "    </tr>\n",
              "    <tr>\n",
              "      <th>3</th>\n",
              "      <td>1000_3</td>\n",
              "      <td>2018-09-21</td>\n",
              "      <td>13.80</td>\n",
              "      <td>1000</td>\n",
              "    </tr>\n",
              "    <tr>\n",
              "      <th>4</th>\n",
              "      <td>1000_4</td>\n",
              "      <td>2018-12-15</td>\n",
              "      <td>5.18</td>\n",
              "      <td>1000</td>\n",
              "    </tr>\n",
              "    <tr>\n",
              "      <th>...</th>\n",
              "      <td>...</td>\n",
              "      <td>...</td>\n",
              "      <td>...</td>\n",
              "      <td>...</td>\n",
              "    </tr>\n",
              "    <tr>\n",
              "      <th>202602</th>\n",
              "      <td>1499_215</td>\n",
              "      <td>2018-12-26</td>\n",
              "      <td>0.76</td>\n",
              "      <td>1499</td>\n",
              "    </tr>\n",
              "    <tr>\n",
              "      <th>202603</th>\n",
              "      <td>1499_216</td>\n",
              "      <td>2018-10-18</td>\n",
              "      <td>18.83</td>\n",
              "      <td>1499</td>\n",
              "    </tr>\n",
              "    <tr>\n",
              "      <th>202604</th>\n",
              "      <td>1499_217</td>\n",
              "      <td>2018-11-10</td>\n",
              "      <td>10.81</td>\n",
              "      <td>1499</td>\n",
              "    </tr>\n",
              "    <tr>\n",
              "      <th>202605</th>\n",
              "      <td>1499_218</td>\n",
              "      <td>2018-10-06</td>\n",
              "      <td>4.27</td>\n",
              "      <td>1499</td>\n",
              "    </tr>\n",
              "    <tr>\n",
              "      <th>202606</th>\n",
              "      <td>1499_219</td>\n",
              "      <td>2018-12-14</td>\n",
              "      <td>19.62</td>\n",
              "      <td>1499</td>\n",
              "    </tr>\n",
              "  </tbody>\n",
              "</table>\n",
              "<p>202607 rows × 4 columns</p>\n",
              "</div>\n",
              "      <button class=\"colab-df-convert\" onclick=\"convertToInteractive('df-049aaa77-57f5-4d13-9e3e-07b4ddd863c3')\"\n",
              "              title=\"Convert this dataframe to an interactive table.\"\n",
              "              style=\"display:none;\">\n",
              "        \n",
              "  <svg xmlns=\"http://www.w3.org/2000/svg\" height=\"24px\"viewBox=\"0 0 24 24\"\n",
              "       width=\"24px\">\n",
              "    <path d=\"M0 0h24v24H0V0z\" fill=\"none\"/>\n",
              "    <path d=\"M18.56 5.44l.94 2.06.94-2.06 2.06-.94-2.06-.94-.94-2.06-.94 2.06-2.06.94zm-11 1L8.5 8.5l.94-2.06 2.06-.94-2.06-.94L8.5 2.5l-.94 2.06-2.06.94zm10 10l.94 2.06.94-2.06 2.06-.94-2.06-.94-.94-2.06-.94 2.06-2.06.94z\"/><path d=\"M17.41 7.96l-1.37-1.37c-.4-.4-.92-.59-1.43-.59-.52 0-1.04.2-1.43.59L10.3 9.45l-7.72 7.72c-.78.78-.78 2.05 0 2.83L4 21.41c.39.39.9.59 1.41.59.51 0 1.02-.2 1.41-.59l7.78-7.78 2.81-2.81c.8-.78.8-2.07 0-2.86zM5.41 20L4 18.59l7.72-7.72 1.47 1.35L5.41 20z\"/>\n",
              "  </svg>\n",
              "      </button>\n",
              "      \n",
              "  <style>\n",
              "    .colab-df-container {\n",
              "      display:flex;\n",
              "      flex-wrap:wrap;\n",
              "      gap: 12px;\n",
              "    }\n",
              "\n",
              "    .colab-df-convert {\n",
              "      background-color: #E8F0FE;\n",
              "      border: none;\n",
              "      border-radius: 50%;\n",
              "      cursor: pointer;\n",
              "      display: none;\n",
              "      fill: #1967D2;\n",
              "      height: 32px;\n",
              "      padding: 0 0 0 0;\n",
              "      width: 32px;\n",
              "    }\n",
              "\n",
              "    .colab-df-convert:hover {\n",
              "      background-color: #E2EBFA;\n",
              "      box-shadow: 0px 1px 2px rgba(60, 64, 67, 0.3), 0px 1px 3px 1px rgba(60, 64, 67, 0.15);\n",
              "      fill: #174EA6;\n",
              "    }\n",
              "\n",
              "    [theme=dark] .colab-df-convert {\n",
              "      background-color: #3B4455;\n",
              "      fill: #D2E3FC;\n",
              "    }\n",
              "\n",
              "    [theme=dark] .colab-df-convert:hover {\n",
              "      background-color: #434B5C;\n",
              "      box-shadow: 0px 1px 3px 1px rgba(0, 0, 0, 0.15);\n",
              "      filter: drop-shadow(0px 1px 2px rgba(0, 0, 0, 0.3));\n",
              "      fill: #FFFFFF;\n",
              "    }\n",
              "  </style>\n",
              "\n",
              "      <script>\n",
              "        const buttonEl =\n",
              "          document.querySelector('#df-049aaa77-57f5-4d13-9e3e-07b4ddd863c3 button.colab-df-convert');\n",
              "        buttonEl.style.display =\n",
              "          google.colab.kernel.accessAllowed ? 'block' : 'none';\n",
              "\n",
              "        async function convertToInteractive(key) {\n",
              "          const element = document.querySelector('#df-049aaa77-57f5-4d13-9e3e-07b4ddd863c3');\n",
              "          const dataTable =\n",
              "            await google.colab.kernel.invokeFunction('convertToInteractive',\n",
              "                                                     [key], {});\n",
              "          if (!dataTable) return;\n",
              "\n",
              "          const docLinkHtml = 'Like what you see? Visit the ' +\n",
              "            '<a target=\"_blank\" href=https://colab.research.google.com/notebooks/data_table.ipynb>data table notebook</a>'\n",
              "            + ' to learn more about interactive tables.';\n",
              "          element.innerHTML = '';\n",
              "          dataTable['output_type'] = 'display_data';\n",
              "          await google.colab.output.renderOutput(dataTable, element);\n",
              "          const docLink = document.createElement('div');\n",
              "          docLink.innerHTML = docLinkHtml;\n",
              "          element.appendChild(docLink);\n",
              "        }\n",
              "      </script>\n",
              "    </div>\n",
              "  </div>\n",
              "  "
            ]
          },
          "metadata": {}
        },
        {
          "output_type": "stream",
          "name": "stdout",
          "text": [
            "\n",
            "<class 'pandas.core.frame.DataFrame'>\n",
            "RangeIndex: 202607 entries, 0 to 202606\n",
            "Data columns (total 4 columns):\n",
            " #   Column     Non-Null Count   Dtype  \n",
            "---  ------     --------------   -----  \n",
            " 0   id         202607 non-null  object \n",
            " 1   call_date  202607 non-null  object \n",
            " 2   duration   202607 non-null  float64\n",
            " 3   user_id    202607 non-null  int64  \n",
            "dtypes: float64(1), int64(1), object(2)\n",
            "memory usage: 6.2+ MB\n",
            "\n",
            "Дубликатов в данных: 0 \n",
            "\n",
            "Пропусков в данных: \n",
            " id           0\n",
            "call_date    0\n",
            "duration     0\n",
            "user_id      0\n",
            "dtype: int64 \n",
            "\n",
            "Файл internet.csv\n"
          ]
        },
        {
          "output_type": "display_data",
          "data": {
            "text/plain": [
              "        Unnamed: 0        id  mb_used session_date  user_id\n",
              "0                0    1000_0   112.95   2018-11-25     1000\n",
              "1                1    1000_1  1052.81   2018-09-07     1000\n",
              "2                2    1000_2  1197.26   2018-06-25     1000\n",
              "3                3    1000_3   550.27   2018-08-22     1000\n",
              "4                4    1000_4   302.56   2018-09-24     1000\n",
              "...            ...       ...      ...          ...      ...\n",
              "149391      149391  1499_152   318.90   2018-10-03     1499\n",
              "149392      149392  1499_153   490.13   2018-12-14     1499\n",
              "149393      149393  1499_154     0.00   2018-10-27     1499\n",
              "149394      149394  1499_155  1246.32   2018-11-26     1499\n",
              "149395      149395  1499_156   544.37   2018-10-26     1499\n",
              "\n",
              "[149396 rows x 5 columns]"
            ],
            "text/html": [
              "\n",
              "  <div id=\"df-f4b722e4-04af-4eb3-8723-25a90e3d89d7\">\n",
              "    <div class=\"colab-df-container\">\n",
              "      <div>\n",
              "<style scoped>\n",
              "    .dataframe tbody tr th:only-of-type {\n",
              "        vertical-align: middle;\n",
              "    }\n",
              "\n",
              "    .dataframe tbody tr th {\n",
              "        vertical-align: top;\n",
              "    }\n",
              "\n",
              "    .dataframe thead th {\n",
              "        text-align: right;\n",
              "    }\n",
              "</style>\n",
              "<table border=\"1\" class=\"dataframe\">\n",
              "  <thead>\n",
              "    <tr style=\"text-align: right;\">\n",
              "      <th></th>\n",
              "      <th>Unnamed: 0</th>\n",
              "      <th>id</th>\n",
              "      <th>mb_used</th>\n",
              "      <th>session_date</th>\n",
              "      <th>user_id</th>\n",
              "    </tr>\n",
              "  </thead>\n",
              "  <tbody>\n",
              "    <tr>\n",
              "      <th>0</th>\n",
              "      <td>0</td>\n",
              "      <td>1000_0</td>\n",
              "      <td>112.95</td>\n",
              "      <td>2018-11-25</td>\n",
              "      <td>1000</td>\n",
              "    </tr>\n",
              "    <tr>\n",
              "      <th>1</th>\n",
              "      <td>1</td>\n",
              "      <td>1000_1</td>\n",
              "      <td>1052.81</td>\n",
              "      <td>2018-09-07</td>\n",
              "      <td>1000</td>\n",
              "    </tr>\n",
              "    <tr>\n",
              "      <th>2</th>\n",
              "      <td>2</td>\n",
              "      <td>1000_2</td>\n",
              "      <td>1197.26</td>\n",
              "      <td>2018-06-25</td>\n",
              "      <td>1000</td>\n",
              "    </tr>\n",
              "    <tr>\n",
              "      <th>3</th>\n",
              "      <td>3</td>\n",
              "      <td>1000_3</td>\n",
              "      <td>550.27</td>\n",
              "      <td>2018-08-22</td>\n",
              "      <td>1000</td>\n",
              "    </tr>\n",
              "    <tr>\n",
              "      <th>4</th>\n",
              "      <td>4</td>\n",
              "      <td>1000_4</td>\n",
              "      <td>302.56</td>\n",
              "      <td>2018-09-24</td>\n",
              "      <td>1000</td>\n",
              "    </tr>\n",
              "    <tr>\n",
              "      <th>...</th>\n",
              "      <td>...</td>\n",
              "      <td>...</td>\n",
              "      <td>...</td>\n",
              "      <td>...</td>\n",
              "      <td>...</td>\n",
              "    </tr>\n",
              "    <tr>\n",
              "      <th>149391</th>\n",
              "      <td>149391</td>\n",
              "      <td>1499_152</td>\n",
              "      <td>318.90</td>\n",
              "      <td>2018-10-03</td>\n",
              "      <td>1499</td>\n",
              "    </tr>\n",
              "    <tr>\n",
              "      <th>149392</th>\n",
              "      <td>149392</td>\n",
              "      <td>1499_153</td>\n",
              "      <td>490.13</td>\n",
              "      <td>2018-12-14</td>\n",
              "      <td>1499</td>\n",
              "    </tr>\n",
              "    <tr>\n",
              "      <th>149393</th>\n",
              "      <td>149393</td>\n",
              "      <td>1499_154</td>\n",
              "      <td>0.00</td>\n",
              "      <td>2018-10-27</td>\n",
              "      <td>1499</td>\n",
              "    </tr>\n",
              "    <tr>\n",
              "      <th>149394</th>\n",
              "      <td>149394</td>\n",
              "      <td>1499_155</td>\n",
              "      <td>1246.32</td>\n",
              "      <td>2018-11-26</td>\n",
              "      <td>1499</td>\n",
              "    </tr>\n",
              "    <tr>\n",
              "      <th>149395</th>\n",
              "      <td>149395</td>\n",
              "      <td>1499_156</td>\n",
              "      <td>544.37</td>\n",
              "      <td>2018-10-26</td>\n",
              "      <td>1499</td>\n",
              "    </tr>\n",
              "  </tbody>\n",
              "</table>\n",
              "<p>149396 rows × 5 columns</p>\n",
              "</div>\n",
              "      <button class=\"colab-df-convert\" onclick=\"convertToInteractive('df-f4b722e4-04af-4eb3-8723-25a90e3d89d7')\"\n",
              "              title=\"Convert this dataframe to an interactive table.\"\n",
              "              style=\"display:none;\">\n",
              "        \n",
              "  <svg xmlns=\"http://www.w3.org/2000/svg\" height=\"24px\"viewBox=\"0 0 24 24\"\n",
              "       width=\"24px\">\n",
              "    <path d=\"M0 0h24v24H0V0z\" fill=\"none\"/>\n",
              "    <path d=\"M18.56 5.44l.94 2.06.94-2.06 2.06-.94-2.06-.94-.94-2.06-.94 2.06-2.06.94zm-11 1L8.5 8.5l.94-2.06 2.06-.94-2.06-.94L8.5 2.5l-.94 2.06-2.06.94zm10 10l.94 2.06.94-2.06 2.06-.94-2.06-.94-.94-2.06-.94 2.06-2.06.94z\"/><path d=\"M17.41 7.96l-1.37-1.37c-.4-.4-.92-.59-1.43-.59-.52 0-1.04.2-1.43.59L10.3 9.45l-7.72 7.72c-.78.78-.78 2.05 0 2.83L4 21.41c.39.39.9.59 1.41.59.51 0 1.02-.2 1.41-.59l7.78-7.78 2.81-2.81c.8-.78.8-2.07 0-2.86zM5.41 20L4 18.59l7.72-7.72 1.47 1.35L5.41 20z\"/>\n",
              "  </svg>\n",
              "      </button>\n",
              "      \n",
              "  <style>\n",
              "    .colab-df-container {\n",
              "      display:flex;\n",
              "      flex-wrap:wrap;\n",
              "      gap: 12px;\n",
              "    }\n",
              "\n",
              "    .colab-df-convert {\n",
              "      background-color: #E8F0FE;\n",
              "      border: none;\n",
              "      border-radius: 50%;\n",
              "      cursor: pointer;\n",
              "      display: none;\n",
              "      fill: #1967D2;\n",
              "      height: 32px;\n",
              "      padding: 0 0 0 0;\n",
              "      width: 32px;\n",
              "    }\n",
              "\n",
              "    .colab-df-convert:hover {\n",
              "      background-color: #E2EBFA;\n",
              "      box-shadow: 0px 1px 2px rgba(60, 64, 67, 0.3), 0px 1px 3px 1px rgba(60, 64, 67, 0.15);\n",
              "      fill: #174EA6;\n",
              "    }\n",
              "\n",
              "    [theme=dark] .colab-df-convert {\n",
              "      background-color: #3B4455;\n",
              "      fill: #D2E3FC;\n",
              "    }\n",
              "\n",
              "    [theme=dark] .colab-df-convert:hover {\n",
              "      background-color: #434B5C;\n",
              "      box-shadow: 0px 1px 3px 1px rgba(0, 0, 0, 0.15);\n",
              "      filter: drop-shadow(0px 1px 2px rgba(0, 0, 0, 0.3));\n",
              "      fill: #FFFFFF;\n",
              "    }\n",
              "  </style>\n",
              "\n",
              "      <script>\n",
              "        const buttonEl =\n",
              "          document.querySelector('#df-f4b722e4-04af-4eb3-8723-25a90e3d89d7 button.colab-df-convert');\n",
              "        buttonEl.style.display =\n",
              "          google.colab.kernel.accessAllowed ? 'block' : 'none';\n",
              "\n",
              "        async function convertToInteractive(key) {\n",
              "          const element = document.querySelector('#df-f4b722e4-04af-4eb3-8723-25a90e3d89d7');\n",
              "          const dataTable =\n",
              "            await google.colab.kernel.invokeFunction('convertToInteractive',\n",
              "                                                     [key], {});\n",
              "          if (!dataTable) return;\n",
              "\n",
              "          const docLinkHtml = 'Like what you see? Visit the ' +\n",
              "            '<a target=\"_blank\" href=https://colab.research.google.com/notebooks/data_table.ipynb>data table notebook</a>'\n",
              "            + ' to learn more about interactive tables.';\n",
              "          element.innerHTML = '';\n",
              "          dataTable['output_type'] = 'display_data';\n",
              "          await google.colab.output.renderOutput(dataTable, element);\n",
              "          const docLink = document.createElement('div');\n",
              "          docLink.innerHTML = docLinkHtml;\n",
              "          element.appendChild(docLink);\n",
              "        }\n",
              "      </script>\n",
              "    </div>\n",
              "  </div>\n",
              "  "
            ]
          },
          "metadata": {}
        },
        {
          "output_type": "stream",
          "name": "stdout",
          "text": [
            "\n",
            "<class 'pandas.core.frame.DataFrame'>\n",
            "RangeIndex: 149396 entries, 0 to 149395\n",
            "Data columns (total 5 columns):\n",
            " #   Column        Non-Null Count   Dtype  \n",
            "---  ------        --------------   -----  \n",
            " 0   Unnamed: 0    149396 non-null  int64  \n",
            " 1   id            149396 non-null  object \n",
            " 2   mb_used       149396 non-null  float64\n",
            " 3   session_date  149396 non-null  object \n",
            " 4   user_id       149396 non-null  int64  \n",
            "dtypes: float64(1), int64(2), object(2)\n",
            "memory usage: 5.7+ MB\n",
            "\n",
            "Дубликатов в данных: 0 \n",
            "\n",
            "Пропусков в данных: \n",
            " Unnamed: 0      0\n",
            "id              0\n",
            "mb_used         0\n",
            "session_date    0\n",
            "user_id         0\n",
            "dtype: int64 \n",
            "\n",
            "Файл messages.csv\n"
          ]
        },
        {
          "output_type": "display_data",
          "data": {
            "text/plain": [
              "              id message_date  user_id\n",
              "0         1000_0   2018-06-27     1000\n",
              "1         1000_1   2018-10-08     1000\n",
              "2         1000_2   2018-08-04     1000\n",
              "3         1000_3   2018-06-16     1000\n",
              "4         1000_4   2018-12-05     1000\n",
              "...          ...          ...      ...\n",
              "123031  1499_179   2018-12-12     1499\n",
              "123032  1499_180   2018-09-28     1499\n",
              "123033  1499_181   2018-09-27     1499\n",
              "123034  1499_182   2018-11-15     1499\n",
              "123035  1499_183   2018-11-16     1499\n",
              "\n",
              "[123036 rows x 3 columns]"
            ],
            "text/html": [
              "\n",
              "  <div id=\"df-4fe4bba4-acc6-4ff4-8e35-53d56616115e\">\n",
              "    <div class=\"colab-df-container\">\n",
              "      <div>\n",
              "<style scoped>\n",
              "    .dataframe tbody tr th:only-of-type {\n",
              "        vertical-align: middle;\n",
              "    }\n",
              "\n",
              "    .dataframe tbody tr th {\n",
              "        vertical-align: top;\n",
              "    }\n",
              "\n",
              "    .dataframe thead th {\n",
              "        text-align: right;\n",
              "    }\n",
              "</style>\n",
              "<table border=\"1\" class=\"dataframe\">\n",
              "  <thead>\n",
              "    <tr style=\"text-align: right;\">\n",
              "      <th></th>\n",
              "      <th>id</th>\n",
              "      <th>message_date</th>\n",
              "      <th>user_id</th>\n",
              "    </tr>\n",
              "  </thead>\n",
              "  <tbody>\n",
              "    <tr>\n",
              "      <th>0</th>\n",
              "      <td>1000_0</td>\n",
              "      <td>2018-06-27</td>\n",
              "      <td>1000</td>\n",
              "    </tr>\n",
              "    <tr>\n",
              "      <th>1</th>\n",
              "      <td>1000_1</td>\n",
              "      <td>2018-10-08</td>\n",
              "      <td>1000</td>\n",
              "    </tr>\n",
              "    <tr>\n",
              "      <th>2</th>\n",
              "      <td>1000_2</td>\n",
              "      <td>2018-08-04</td>\n",
              "      <td>1000</td>\n",
              "    </tr>\n",
              "    <tr>\n",
              "      <th>3</th>\n",
              "      <td>1000_3</td>\n",
              "      <td>2018-06-16</td>\n",
              "      <td>1000</td>\n",
              "    </tr>\n",
              "    <tr>\n",
              "      <th>4</th>\n",
              "      <td>1000_4</td>\n",
              "      <td>2018-12-05</td>\n",
              "      <td>1000</td>\n",
              "    </tr>\n",
              "    <tr>\n",
              "      <th>...</th>\n",
              "      <td>...</td>\n",
              "      <td>...</td>\n",
              "      <td>...</td>\n",
              "    </tr>\n",
              "    <tr>\n",
              "      <th>123031</th>\n",
              "      <td>1499_179</td>\n",
              "      <td>2018-12-12</td>\n",
              "      <td>1499</td>\n",
              "    </tr>\n",
              "    <tr>\n",
              "      <th>123032</th>\n",
              "      <td>1499_180</td>\n",
              "      <td>2018-09-28</td>\n",
              "      <td>1499</td>\n",
              "    </tr>\n",
              "    <tr>\n",
              "      <th>123033</th>\n",
              "      <td>1499_181</td>\n",
              "      <td>2018-09-27</td>\n",
              "      <td>1499</td>\n",
              "    </tr>\n",
              "    <tr>\n",
              "      <th>123034</th>\n",
              "      <td>1499_182</td>\n",
              "      <td>2018-11-15</td>\n",
              "      <td>1499</td>\n",
              "    </tr>\n",
              "    <tr>\n",
              "      <th>123035</th>\n",
              "      <td>1499_183</td>\n",
              "      <td>2018-11-16</td>\n",
              "      <td>1499</td>\n",
              "    </tr>\n",
              "  </tbody>\n",
              "</table>\n",
              "<p>123036 rows × 3 columns</p>\n",
              "</div>\n",
              "      <button class=\"colab-df-convert\" onclick=\"convertToInteractive('df-4fe4bba4-acc6-4ff4-8e35-53d56616115e')\"\n",
              "              title=\"Convert this dataframe to an interactive table.\"\n",
              "              style=\"display:none;\">\n",
              "        \n",
              "  <svg xmlns=\"http://www.w3.org/2000/svg\" height=\"24px\"viewBox=\"0 0 24 24\"\n",
              "       width=\"24px\">\n",
              "    <path d=\"M0 0h24v24H0V0z\" fill=\"none\"/>\n",
              "    <path d=\"M18.56 5.44l.94 2.06.94-2.06 2.06-.94-2.06-.94-.94-2.06-.94 2.06-2.06.94zm-11 1L8.5 8.5l.94-2.06 2.06-.94-2.06-.94L8.5 2.5l-.94 2.06-2.06.94zm10 10l.94 2.06.94-2.06 2.06-.94-2.06-.94-.94-2.06-.94 2.06-2.06.94z\"/><path d=\"M17.41 7.96l-1.37-1.37c-.4-.4-.92-.59-1.43-.59-.52 0-1.04.2-1.43.59L10.3 9.45l-7.72 7.72c-.78.78-.78 2.05 0 2.83L4 21.41c.39.39.9.59 1.41.59.51 0 1.02-.2 1.41-.59l7.78-7.78 2.81-2.81c.8-.78.8-2.07 0-2.86zM5.41 20L4 18.59l7.72-7.72 1.47 1.35L5.41 20z\"/>\n",
              "  </svg>\n",
              "      </button>\n",
              "      \n",
              "  <style>\n",
              "    .colab-df-container {\n",
              "      display:flex;\n",
              "      flex-wrap:wrap;\n",
              "      gap: 12px;\n",
              "    }\n",
              "\n",
              "    .colab-df-convert {\n",
              "      background-color: #E8F0FE;\n",
              "      border: none;\n",
              "      border-radius: 50%;\n",
              "      cursor: pointer;\n",
              "      display: none;\n",
              "      fill: #1967D2;\n",
              "      height: 32px;\n",
              "      padding: 0 0 0 0;\n",
              "      width: 32px;\n",
              "    }\n",
              "\n",
              "    .colab-df-convert:hover {\n",
              "      background-color: #E2EBFA;\n",
              "      box-shadow: 0px 1px 2px rgba(60, 64, 67, 0.3), 0px 1px 3px 1px rgba(60, 64, 67, 0.15);\n",
              "      fill: #174EA6;\n",
              "    }\n",
              "\n",
              "    [theme=dark] .colab-df-convert {\n",
              "      background-color: #3B4455;\n",
              "      fill: #D2E3FC;\n",
              "    }\n",
              "\n",
              "    [theme=dark] .colab-df-convert:hover {\n",
              "      background-color: #434B5C;\n",
              "      box-shadow: 0px 1px 3px 1px rgba(0, 0, 0, 0.15);\n",
              "      filter: drop-shadow(0px 1px 2px rgba(0, 0, 0, 0.3));\n",
              "      fill: #FFFFFF;\n",
              "    }\n",
              "  </style>\n",
              "\n",
              "      <script>\n",
              "        const buttonEl =\n",
              "          document.querySelector('#df-4fe4bba4-acc6-4ff4-8e35-53d56616115e button.colab-df-convert');\n",
              "        buttonEl.style.display =\n",
              "          google.colab.kernel.accessAllowed ? 'block' : 'none';\n",
              "\n",
              "        async function convertToInteractive(key) {\n",
              "          const element = document.querySelector('#df-4fe4bba4-acc6-4ff4-8e35-53d56616115e');\n",
              "          const dataTable =\n",
              "            await google.colab.kernel.invokeFunction('convertToInteractive',\n",
              "                                                     [key], {});\n",
              "          if (!dataTable) return;\n",
              "\n",
              "          const docLinkHtml = 'Like what you see? Visit the ' +\n",
              "            '<a target=\"_blank\" href=https://colab.research.google.com/notebooks/data_table.ipynb>data table notebook</a>'\n",
              "            + ' to learn more about interactive tables.';\n",
              "          element.innerHTML = '';\n",
              "          dataTable['output_type'] = 'display_data';\n",
              "          await google.colab.output.renderOutput(dataTable, element);\n",
              "          const docLink = document.createElement('div');\n",
              "          docLink.innerHTML = docLinkHtml;\n",
              "          element.appendChild(docLink);\n",
              "        }\n",
              "      </script>\n",
              "    </div>\n",
              "  </div>\n",
              "  "
            ]
          },
          "metadata": {}
        },
        {
          "output_type": "stream",
          "name": "stdout",
          "text": [
            "\n",
            "<class 'pandas.core.frame.DataFrame'>\n",
            "RangeIndex: 123036 entries, 0 to 123035\n",
            "Data columns (total 3 columns):\n",
            " #   Column        Non-Null Count   Dtype \n",
            "---  ------        --------------   ----- \n",
            " 0   id            123036 non-null  object\n",
            " 1   message_date  123036 non-null  object\n",
            " 2   user_id       123036 non-null  int64 \n",
            "dtypes: int64(1), object(2)\n",
            "memory usage: 2.8+ MB\n",
            "\n",
            "Дубликатов в данных: 0 \n",
            "\n",
            "Пропусков в данных: \n",
            " id              0\n",
            "message_date    0\n",
            "user_id         0\n",
            "dtype: int64 \n",
            "\n",
            "Файл users.csv\n"
          ]
        },
        {
          "output_type": "display_data",
          "data": {
            "text/plain": [
              "     user_id  age  churn_date         city first_name  last_name    reg_date  \\\n",
              "0       1000   52         NaN    Краснодар     Рафаил  Верещагин  2018-05-25   \n",
              "1       1001   41         NaN       Москва       Иван       Ежов  2018-11-01   \n",
              "2       1002   59         NaN  Стерлитамак    Евгений  Абрамович  2018-06-17   \n",
              "3       1003   23         NaN       Москва      Белла   Белякова  2018-08-17   \n",
              "4       1004   68         NaN  Новокузнецк    Татьяна   Авдеенко  2018-05-14   \n",
              "..       ...  ...         ...          ...        ...        ...         ...   \n",
              "495     1495   65         NaN      Иркутск  Авксентий      Фокин  2018-08-28   \n",
              "496     1496   36         NaN      Вологда     Трифон     Блохин  2018-01-27   \n",
              "497     1497   32         NaN    Челябинск   Каролина     Агеева  2018-10-09   \n",
              "498     1498   68  2018-10-25  Владикавказ   Всеволод    Акимчин  2018-07-19   \n",
              "499     1499   35         NaN        Пермь     Гектор   Корнилов  2018-09-27   \n",
              "\n",
              "    tariff  \n",
              "0    ultra  \n",
              "1    smart  \n",
              "2    smart  \n",
              "3    ultra  \n",
              "4    ultra  \n",
              "..     ...  \n",
              "495  ultra  \n",
              "496  smart  \n",
              "497  smart  \n",
              "498  smart  \n",
              "499  smart  \n",
              "\n",
              "[500 rows x 8 columns]"
            ],
            "text/html": [
              "\n",
              "  <div id=\"df-260c3244-cfd2-4975-acfb-e8448a80e268\">\n",
              "    <div class=\"colab-df-container\">\n",
              "      <div>\n",
              "<style scoped>\n",
              "    .dataframe tbody tr th:only-of-type {\n",
              "        vertical-align: middle;\n",
              "    }\n",
              "\n",
              "    .dataframe tbody tr th {\n",
              "        vertical-align: top;\n",
              "    }\n",
              "\n",
              "    .dataframe thead th {\n",
              "        text-align: right;\n",
              "    }\n",
              "</style>\n",
              "<table border=\"1\" class=\"dataframe\">\n",
              "  <thead>\n",
              "    <tr style=\"text-align: right;\">\n",
              "      <th></th>\n",
              "      <th>user_id</th>\n",
              "      <th>age</th>\n",
              "      <th>churn_date</th>\n",
              "      <th>city</th>\n",
              "      <th>first_name</th>\n",
              "      <th>last_name</th>\n",
              "      <th>reg_date</th>\n",
              "      <th>tariff</th>\n",
              "    </tr>\n",
              "  </thead>\n",
              "  <tbody>\n",
              "    <tr>\n",
              "      <th>0</th>\n",
              "      <td>1000</td>\n",
              "      <td>52</td>\n",
              "      <td>NaN</td>\n",
              "      <td>Краснодар</td>\n",
              "      <td>Рафаил</td>\n",
              "      <td>Верещагин</td>\n",
              "      <td>2018-05-25</td>\n",
              "      <td>ultra</td>\n",
              "    </tr>\n",
              "    <tr>\n",
              "      <th>1</th>\n",
              "      <td>1001</td>\n",
              "      <td>41</td>\n",
              "      <td>NaN</td>\n",
              "      <td>Москва</td>\n",
              "      <td>Иван</td>\n",
              "      <td>Ежов</td>\n",
              "      <td>2018-11-01</td>\n",
              "      <td>smart</td>\n",
              "    </tr>\n",
              "    <tr>\n",
              "      <th>2</th>\n",
              "      <td>1002</td>\n",
              "      <td>59</td>\n",
              "      <td>NaN</td>\n",
              "      <td>Стерлитамак</td>\n",
              "      <td>Евгений</td>\n",
              "      <td>Абрамович</td>\n",
              "      <td>2018-06-17</td>\n",
              "      <td>smart</td>\n",
              "    </tr>\n",
              "    <tr>\n",
              "      <th>3</th>\n",
              "      <td>1003</td>\n",
              "      <td>23</td>\n",
              "      <td>NaN</td>\n",
              "      <td>Москва</td>\n",
              "      <td>Белла</td>\n",
              "      <td>Белякова</td>\n",
              "      <td>2018-08-17</td>\n",
              "      <td>ultra</td>\n",
              "    </tr>\n",
              "    <tr>\n",
              "      <th>4</th>\n",
              "      <td>1004</td>\n",
              "      <td>68</td>\n",
              "      <td>NaN</td>\n",
              "      <td>Новокузнецк</td>\n",
              "      <td>Татьяна</td>\n",
              "      <td>Авдеенко</td>\n",
              "      <td>2018-05-14</td>\n",
              "      <td>ultra</td>\n",
              "    </tr>\n",
              "    <tr>\n",
              "      <th>...</th>\n",
              "      <td>...</td>\n",
              "      <td>...</td>\n",
              "      <td>...</td>\n",
              "      <td>...</td>\n",
              "      <td>...</td>\n",
              "      <td>...</td>\n",
              "      <td>...</td>\n",
              "      <td>...</td>\n",
              "    </tr>\n",
              "    <tr>\n",
              "      <th>495</th>\n",
              "      <td>1495</td>\n",
              "      <td>65</td>\n",
              "      <td>NaN</td>\n",
              "      <td>Иркутск</td>\n",
              "      <td>Авксентий</td>\n",
              "      <td>Фокин</td>\n",
              "      <td>2018-08-28</td>\n",
              "      <td>ultra</td>\n",
              "    </tr>\n",
              "    <tr>\n",
              "      <th>496</th>\n",
              "      <td>1496</td>\n",
              "      <td>36</td>\n",
              "      <td>NaN</td>\n",
              "      <td>Вологда</td>\n",
              "      <td>Трифон</td>\n",
              "      <td>Блохин</td>\n",
              "      <td>2018-01-27</td>\n",
              "      <td>smart</td>\n",
              "    </tr>\n",
              "    <tr>\n",
              "      <th>497</th>\n",
              "      <td>1497</td>\n",
              "      <td>32</td>\n",
              "      <td>NaN</td>\n",
              "      <td>Челябинск</td>\n",
              "      <td>Каролина</td>\n",
              "      <td>Агеева</td>\n",
              "      <td>2018-10-09</td>\n",
              "      <td>smart</td>\n",
              "    </tr>\n",
              "    <tr>\n",
              "      <th>498</th>\n",
              "      <td>1498</td>\n",
              "      <td>68</td>\n",
              "      <td>2018-10-25</td>\n",
              "      <td>Владикавказ</td>\n",
              "      <td>Всеволод</td>\n",
              "      <td>Акимчин</td>\n",
              "      <td>2018-07-19</td>\n",
              "      <td>smart</td>\n",
              "    </tr>\n",
              "    <tr>\n",
              "      <th>499</th>\n",
              "      <td>1499</td>\n",
              "      <td>35</td>\n",
              "      <td>NaN</td>\n",
              "      <td>Пермь</td>\n",
              "      <td>Гектор</td>\n",
              "      <td>Корнилов</td>\n",
              "      <td>2018-09-27</td>\n",
              "      <td>smart</td>\n",
              "    </tr>\n",
              "  </tbody>\n",
              "</table>\n",
              "<p>500 rows × 8 columns</p>\n",
              "</div>\n",
              "      <button class=\"colab-df-convert\" onclick=\"convertToInteractive('df-260c3244-cfd2-4975-acfb-e8448a80e268')\"\n",
              "              title=\"Convert this dataframe to an interactive table.\"\n",
              "              style=\"display:none;\">\n",
              "        \n",
              "  <svg xmlns=\"http://www.w3.org/2000/svg\" height=\"24px\"viewBox=\"0 0 24 24\"\n",
              "       width=\"24px\">\n",
              "    <path d=\"M0 0h24v24H0V0z\" fill=\"none\"/>\n",
              "    <path d=\"M18.56 5.44l.94 2.06.94-2.06 2.06-.94-2.06-.94-.94-2.06-.94 2.06-2.06.94zm-11 1L8.5 8.5l.94-2.06 2.06-.94-2.06-.94L8.5 2.5l-.94 2.06-2.06.94zm10 10l.94 2.06.94-2.06 2.06-.94-2.06-.94-.94-2.06-.94 2.06-2.06.94z\"/><path d=\"M17.41 7.96l-1.37-1.37c-.4-.4-.92-.59-1.43-.59-.52 0-1.04.2-1.43.59L10.3 9.45l-7.72 7.72c-.78.78-.78 2.05 0 2.83L4 21.41c.39.39.9.59 1.41.59.51 0 1.02-.2 1.41-.59l7.78-7.78 2.81-2.81c.8-.78.8-2.07 0-2.86zM5.41 20L4 18.59l7.72-7.72 1.47 1.35L5.41 20z\"/>\n",
              "  </svg>\n",
              "      </button>\n",
              "      \n",
              "  <style>\n",
              "    .colab-df-container {\n",
              "      display:flex;\n",
              "      flex-wrap:wrap;\n",
              "      gap: 12px;\n",
              "    }\n",
              "\n",
              "    .colab-df-convert {\n",
              "      background-color: #E8F0FE;\n",
              "      border: none;\n",
              "      border-radius: 50%;\n",
              "      cursor: pointer;\n",
              "      display: none;\n",
              "      fill: #1967D2;\n",
              "      height: 32px;\n",
              "      padding: 0 0 0 0;\n",
              "      width: 32px;\n",
              "    }\n",
              "\n",
              "    .colab-df-convert:hover {\n",
              "      background-color: #E2EBFA;\n",
              "      box-shadow: 0px 1px 2px rgba(60, 64, 67, 0.3), 0px 1px 3px 1px rgba(60, 64, 67, 0.15);\n",
              "      fill: #174EA6;\n",
              "    }\n",
              "\n",
              "    [theme=dark] .colab-df-convert {\n",
              "      background-color: #3B4455;\n",
              "      fill: #D2E3FC;\n",
              "    }\n",
              "\n",
              "    [theme=dark] .colab-df-convert:hover {\n",
              "      background-color: #434B5C;\n",
              "      box-shadow: 0px 1px 3px 1px rgba(0, 0, 0, 0.15);\n",
              "      filter: drop-shadow(0px 1px 2px rgba(0, 0, 0, 0.3));\n",
              "      fill: #FFFFFF;\n",
              "    }\n",
              "  </style>\n",
              "\n",
              "      <script>\n",
              "        const buttonEl =\n",
              "          document.querySelector('#df-260c3244-cfd2-4975-acfb-e8448a80e268 button.colab-df-convert');\n",
              "        buttonEl.style.display =\n",
              "          google.colab.kernel.accessAllowed ? 'block' : 'none';\n",
              "\n",
              "        async function convertToInteractive(key) {\n",
              "          const element = document.querySelector('#df-260c3244-cfd2-4975-acfb-e8448a80e268');\n",
              "          const dataTable =\n",
              "            await google.colab.kernel.invokeFunction('convertToInteractive',\n",
              "                                                     [key], {});\n",
              "          if (!dataTable) return;\n",
              "\n",
              "          const docLinkHtml = 'Like what you see? Visit the ' +\n",
              "            '<a target=\"_blank\" href=https://colab.research.google.com/notebooks/data_table.ipynb>data table notebook</a>'\n",
              "            + ' to learn more about interactive tables.';\n",
              "          element.innerHTML = '';\n",
              "          dataTable['output_type'] = 'display_data';\n",
              "          await google.colab.output.renderOutput(dataTable, element);\n",
              "          const docLink = document.createElement('div');\n",
              "          docLink.innerHTML = docLinkHtml;\n",
              "          element.appendChild(docLink);\n",
              "        }\n",
              "      </script>\n",
              "    </div>\n",
              "  </div>\n",
              "  "
            ]
          },
          "metadata": {}
        },
        {
          "output_type": "stream",
          "name": "stdout",
          "text": [
            "\n",
            "<class 'pandas.core.frame.DataFrame'>\n",
            "RangeIndex: 500 entries, 0 to 499\n",
            "Data columns (total 8 columns):\n",
            " #   Column      Non-Null Count  Dtype \n",
            "---  ------      --------------  ----- \n",
            " 0   user_id     500 non-null    int64 \n",
            " 1   age         500 non-null    int64 \n",
            " 2   churn_date  38 non-null     object\n",
            " 3   city        500 non-null    object\n",
            " 4   first_name  500 non-null    object\n",
            " 5   last_name   500 non-null    object\n",
            " 6   reg_date    500 non-null    object\n",
            " 7   tariff      500 non-null    object\n",
            "dtypes: int64(2), object(6)\n",
            "memory usage: 31.4+ KB\n",
            "\n",
            "Дубликатов в данных: 0 \n",
            "\n",
            "Пропусков в данных: \n",
            " user_id         0\n",
            "age             0\n",
            "churn_date    462\n",
            "city            0\n",
            "first_name      0\n",
            "last_name       0\n",
            "reg_date        0\n",
            "tariff          0\n",
            "dtype: int64 \n",
            "\n",
            "Файл tariffs.csv\n"
          ]
        },
        {
          "output_type": "display_data",
          "data": {
            "text/plain": [
              "   messages_included  mb_per_month_included  minutes_included  \\\n",
              "0                 50                  15360               500   \n",
              "1               1000                  30720              3000   \n",
              "\n",
              "   rub_monthly_fee  rub_per_gb  rub_per_message  rub_per_minute tariff_name  \n",
              "0              550         200                3               3       smart  \n",
              "1             1950         150                1               1       ultra  "
            ],
            "text/html": [
              "\n",
              "  <div id=\"df-3acb5eaf-929e-4b4e-959b-0744f4e72f75\">\n",
              "    <div class=\"colab-df-container\">\n",
              "      <div>\n",
              "<style scoped>\n",
              "    .dataframe tbody tr th:only-of-type {\n",
              "        vertical-align: middle;\n",
              "    }\n",
              "\n",
              "    .dataframe tbody tr th {\n",
              "        vertical-align: top;\n",
              "    }\n",
              "\n",
              "    .dataframe thead th {\n",
              "        text-align: right;\n",
              "    }\n",
              "</style>\n",
              "<table border=\"1\" class=\"dataframe\">\n",
              "  <thead>\n",
              "    <tr style=\"text-align: right;\">\n",
              "      <th></th>\n",
              "      <th>messages_included</th>\n",
              "      <th>mb_per_month_included</th>\n",
              "      <th>minutes_included</th>\n",
              "      <th>rub_monthly_fee</th>\n",
              "      <th>rub_per_gb</th>\n",
              "      <th>rub_per_message</th>\n",
              "      <th>rub_per_minute</th>\n",
              "      <th>tariff_name</th>\n",
              "    </tr>\n",
              "  </thead>\n",
              "  <tbody>\n",
              "    <tr>\n",
              "      <th>0</th>\n",
              "      <td>50</td>\n",
              "      <td>15360</td>\n",
              "      <td>500</td>\n",
              "      <td>550</td>\n",
              "      <td>200</td>\n",
              "      <td>3</td>\n",
              "      <td>3</td>\n",
              "      <td>smart</td>\n",
              "    </tr>\n",
              "    <tr>\n",
              "      <th>1</th>\n",
              "      <td>1000</td>\n",
              "      <td>30720</td>\n",
              "      <td>3000</td>\n",
              "      <td>1950</td>\n",
              "      <td>150</td>\n",
              "      <td>1</td>\n",
              "      <td>1</td>\n",
              "      <td>ultra</td>\n",
              "    </tr>\n",
              "  </tbody>\n",
              "</table>\n",
              "</div>\n",
              "      <button class=\"colab-df-convert\" onclick=\"convertToInteractive('df-3acb5eaf-929e-4b4e-959b-0744f4e72f75')\"\n",
              "              title=\"Convert this dataframe to an interactive table.\"\n",
              "              style=\"display:none;\">\n",
              "        \n",
              "  <svg xmlns=\"http://www.w3.org/2000/svg\" height=\"24px\"viewBox=\"0 0 24 24\"\n",
              "       width=\"24px\">\n",
              "    <path d=\"M0 0h24v24H0V0z\" fill=\"none\"/>\n",
              "    <path d=\"M18.56 5.44l.94 2.06.94-2.06 2.06-.94-2.06-.94-.94-2.06-.94 2.06-2.06.94zm-11 1L8.5 8.5l.94-2.06 2.06-.94-2.06-.94L8.5 2.5l-.94 2.06-2.06.94zm10 10l.94 2.06.94-2.06 2.06-.94-2.06-.94-.94-2.06-.94 2.06-2.06.94z\"/><path d=\"M17.41 7.96l-1.37-1.37c-.4-.4-.92-.59-1.43-.59-.52 0-1.04.2-1.43.59L10.3 9.45l-7.72 7.72c-.78.78-.78 2.05 0 2.83L4 21.41c.39.39.9.59 1.41.59.51 0 1.02-.2 1.41-.59l7.78-7.78 2.81-2.81c.8-.78.8-2.07 0-2.86zM5.41 20L4 18.59l7.72-7.72 1.47 1.35L5.41 20z\"/>\n",
              "  </svg>\n",
              "      </button>\n",
              "      \n",
              "  <style>\n",
              "    .colab-df-container {\n",
              "      display:flex;\n",
              "      flex-wrap:wrap;\n",
              "      gap: 12px;\n",
              "    }\n",
              "\n",
              "    .colab-df-convert {\n",
              "      background-color: #E8F0FE;\n",
              "      border: none;\n",
              "      border-radius: 50%;\n",
              "      cursor: pointer;\n",
              "      display: none;\n",
              "      fill: #1967D2;\n",
              "      height: 32px;\n",
              "      padding: 0 0 0 0;\n",
              "      width: 32px;\n",
              "    }\n",
              "\n",
              "    .colab-df-convert:hover {\n",
              "      background-color: #E2EBFA;\n",
              "      box-shadow: 0px 1px 2px rgba(60, 64, 67, 0.3), 0px 1px 3px 1px rgba(60, 64, 67, 0.15);\n",
              "      fill: #174EA6;\n",
              "    }\n",
              "\n",
              "    [theme=dark] .colab-df-convert {\n",
              "      background-color: #3B4455;\n",
              "      fill: #D2E3FC;\n",
              "    }\n",
              "\n",
              "    [theme=dark] .colab-df-convert:hover {\n",
              "      background-color: #434B5C;\n",
              "      box-shadow: 0px 1px 3px 1px rgba(0, 0, 0, 0.15);\n",
              "      filter: drop-shadow(0px 1px 2px rgba(0, 0, 0, 0.3));\n",
              "      fill: #FFFFFF;\n",
              "    }\n",
              "  </style>\n",
              "\n",
              "      <script>\n",
              "        const buttonEl =\n",
              "          document.querySelector('#df-3acb5eaf-929e-4b4e-959b-0744f4e72f75 button.colab-df-convert');\n",
              "        buttonEl.style.display =\n",
              "          google.colab.kernel.accessAllowed ? 'block' : 'none';\n",
              "\n",
              "        async function convertToInteractive(key) {\n",
              "          const element = document.querySelector('#df-3acb5eaf-929e-4b4e-959b-0744f4e72f75');\n",
              "          const dataTable =\n",
              "            await google.colab.kernel.invokeFunction('convertToInteractive',\n",
              "                                                     [key], {});\n",
              "          if (!dataTable) return;\n",
              "\n",
              "          const docLinkHtml = 'Like what you see? Visit the ' +\n",
              "            '<a target=\"_blank\" href=https://colab.research.google.com/notebooks/data_table.ipynb>data table notebook</a>'\n",
              "            + ' to learn more about interactive tables.';\n",
              "          element.innerHTML = '';\n",
              "          dataTable['output_type'] = 'display_data';\n",
              "          await google.colab.output.renderOutput(dataTable, element);\n",
              "          const docLink = document.createElement('div');\n",
              "          docLink.innerHTML = docLinkHtml;\n",
              "          element.appendChild(docLink);\n",
              "        }\n",
              "      </script>\n",
              "    </div>\n",
              "  </div>\n",
              "  "
            ]
          },
          "metadata": {}
        },
        {
          "output_type": "stream",
          "name": "stdout",
          "text": [
            "\n",
            "<class 'pandas.core.frame.DataFrame'>\n",
            "RangeIndex: 2 entries, 0 to 1\n",
            "Data columns (total 8 columns):\n",
            " #   Column                 Non-Null Count  Dtype \n",
            "---  ------                 --------------  ----- \n",
            " 0   messages_included      2 non-null      int64 \n",
            " 1   mb_per_month_included  2 non-null      int64 \n",
            " 2   minutes_included       2 non-null      int64 \n",
            " 3   rub_monthly_fee        2 non-null      int64 \n",
            " 4   rub_per_gb             2 non-null      int64 \n",
            " 5   rub_per_message        2 non-null      int64 \n",
            " 6   rub_per_minute         2 non-null      int64 \n",
            " 7   tariff_name            2 non-null      object\n",
            "dtypes: int64(7), object(1)\n",
            "memory usage: 256.0+ bytes\n",
            "\n",
            "Дубликатов в данных: 0 \n",
            "\n",
            "Пропусков в данных: \n",
            " messages_included        0\n",
            "mb_per_month_included    0\n",
            "minutes_included         0\n",
            "rub_monthly_fee          0\n",
            "rub_per_gb               0\n",
            "rub_per_message          0\n",
            "rub_per_minute           0\n",
            "tariff_name              0\n",
            "dtype: int64 \n",
            "\n"
          ]
        }
      ],
      "source": [
        "# чтение и просмотр каждого файла, получение общей информации, проверка на пропуски и дубликаты\n",
        "df_calls = read_and_validate('calls.csv')\n",
        "df_internet = read_and_validate('internet.csv')\n",
        "df_messages = read_and_validate('messages.csv')\n",
        "df_users = read_and_validate('users.csv')\n",
        "df_tariffs = read_and_validate('tariffs.csv')"
      ]
    },
    {
      "cell_type": "markdown",
      "source": [
        "Пропусков и дубликатов в данных не найдено.   "
      ],
      "metadata": {
        "id": "IkCZ9zkaQDqP"
      }
    },
    {
      "cell_type": "markdown",
      "metadata": {
        "id": "ZtmLCoFH5DpG"
      },
      "source": [
        "## Обработка звонков абонентов"
      ]
    },
    {
      "cell_type": "code",
      "execution_count": 22,
      "metadata": {
        "colab": {
          "base_uri": "https://localhost:8080/",
          "height": 423
        },
        "id": "7z4ikC1x5DpG",
        "outputId": "89d410d6-1d17-4b49-fefa-5a2ddb5fcce1"
      },
      "outputs": [
        {
          "output_type": "execute_result",
          "data": {
            "text/plain": [
              "              id   call_date  duration  user_id\n",
              "0         1000_0  2018-07-25      0.00     1000\n",
              "1         1000_1  2018-08-17      0.00     1000\n",
              "2         1000_2  2018-06-11      2.85     1000\n",
              "3         1000_3  2018-09-21     13.80     1000\n",
              "4         1000_4  2018-12-15      5.18     1000\n",
              "...          ...         ...       ...      ...\n",
              "202602  1499_215  2018-12-26      0.76     1499\n",
              "202603  1499_216  2018-10-18     18.83     1499\n",
              "202604  1499_217  2018-11-10     10.81     1499\n",
              "202605  1499_218  2018-10-06      4.27     1499\n",
              "202606  1499_219  2018-12-14     19.62     1499\n",
              "\n",
              "[202607 rows x 4 columns]"
            ],
            "text/html": [
              "\n",
              "  <div id=\"df-5bdf823b-ea50-4280-8d66-ac2ff59b001b\">\n",
              "    <div class=\"colab-df-container\">\n",
              "      <div>\n",
              "<style scoped>\n",
              "    .dataframe tbody tr th:only-of-type {\n",
              "        vertical-align: middle;\n",
              "    }\n",
              "\n",
              "    .dataframe tbody tr th {\n",
              "        vertical-align: top;\n",
              "    }\n",
              "\n",
              "    .dataframe thead th {\n",
              "        text-align: right;\n",
              "    }\n",
              "</style>\n",
              "<table border=\"1\" class=\"dataframe\">\n",
              "  <thead>\n",
              "    <tr style=\"text-align: right;\">\n",
              "      <th></th>\n",
              "      <th>id</th>\n",
              "      <th>call_date</th>\n",
              "      <th>duration</th>\n",
              "      <th>user_id</th>\n",
              "    </tr>\n",
              "  </thead>\n",
              "  <tbody>\n",
              "    <tr>\n",
              "      <th>0</th>\n",
              "      <td>1000_0</td>\n",
              "      <td>2018-07-25</td>\n",
              "      <td>0.00</td>\n",
              "      <td>1000</td>\n",
              "    </tr>\n",
              "    <tr>\n",
              "      <th>1</th>\n",
              "      <td>1000_1</td>\n",
              "      <td>2018-08-17</td>\n",
              "      <td>0.00</td>\n",
              "      <td>1000</td>\n",
              "    </tr>\n",
              "    <tr>\n",
              "      <th>2</th>\n",
              "      <td>1000_2</td>\n",
              "      <td>2018-06-11</td>\n",
              "      <td>2.85</td>\n",
              "      <td>1000</td>\n",
              "    </tr>\n",
              "    <tr>\n",
              "      <th>3</th>\n",
              "      <td>1000_3</td>\n",
              "      <td>2018-09-21</td>\n",
              "      <td>13.80</td>\n",
              "      <td>1000</td>\n",
              "    </tr>\n",
              "    <tr>\n",
              "      <th>4</th>\n",
              "      <td>1000_4</td>\n",
              "      <td>2018-12-15</td>\n",
              "      <td>5.18</td>\n",
              "      <td>1000</td>\n",
              "    </tr>\n",
              "    <tr>\n",
              "      <th>...</th>\n",
              "      <td>...</td>\n",
              "      <td>...</td>\n",
              "      <td>...</td>\n",
              "      <td>...</td>\n",
              "    </tr>\n",
              "    <tr>\n",
              "      <th>202602</th>\n",
              "      <td>1499_215</td>\n",
              "      <td>2018-12-26</td>\n",
              "      <td>0.76</td>\n",
              "      <td>1499</td>\n",
              "    </tr>\n",
              "    <tr>\n",
              "      <th>202603</th>\n",
              "      <td>1499_216</td>\n",
              "      <td>2018-10-18</td>\n",
              "      <td>18.83</td>\n",
              "      <td>1499</td>\n",
              "    </tr>\n",
              "    <tr>\n",
              "      <th>202604</th>\n",
              "      <td>1499_217</td>\n",
              "      <td>2018-11-10</td>\n",
              "      <td>10.81</td>\n",
              "      <td>1499</td>\n",
              "    </tr>\n",
              "    <tr>\n",
              "      <th>202605</th>\n",
              "      <td>1499_218</td>\n",
              "      <td>2018-10-06</td>\n",
              "      <td>4.27</td>\n",
              "      <td>1499</td>\n",
              "    </tr>\n",
              "    <tr>\n",
              "      <th>202606</th>\n",
              "      <td>1499_219</td>\n",
              "      <td>2018-12-14</td>\n",
              "      <td>19.62</td>\n",
              "      <td>1499</td>\n",
              "    </tr>\n",
              "  </tbody>\n",
              "</table>\n",
              "<p>202607 rows × 4 columns</p>\n",
              "</div>\n",
              "      <button class=\"colab-df-convert\" onclick=\"convertToInteractive('df-5bdf823b-ea50-4280-8d66-ac2ff59b001b')\"\n",
              "              title=\"Convert this dataframe to an interactive table.\"\n",
              "              style=\"display:none;\">\n",
              "        \n",
              "  <svg xmlns=\"http://www.w3.org/2000/svg\" height=\"24px\"viewBox=\"0 0 24 24\"\n",
              "       width=\"24px\">\n",
              "    <path d=\"M0 0h24v24H0V0z\" fill=\"none\"/>\n",
              "    <path d=\"M18.56 5.44l.94 2.06.94-2.06 2.06-.94-2.06-.94-.94-2.06-.94 2.06-2.06.94zm-11 1L8.5 8.5l.94-2.06 2.06-.94-2.06-.94L8.5 2.5l-.94 2.06-2.06.94zm10 10l.94 2.06.94-2.06 2.06-.94-2.06-.94-.94-2.06-.94 2.06-2.06.94z\"/><path d=\"M17.41 7.96l-1.37-1.37c-.4-.4-.92-.59-1.43-.59-.52 0-1.04.2-1.43.59L10.3 9.45l-7.72 7.72c-.78.78-.78 2.05 0 2.83L4 21.41c.39.39.9.59 1.41.59.51 0 1.02-.2 1.41-.59l7.78-7.78 2.81-2.81c.8-.78.8-2.07 0-2.86zM5.41 20L4 18.59l7.72-7.72 1.47 1.35L5.41 20z\"/>\n",
              "  </svg>\n",
              "      </button>\n",
              "      \n",
              "  <style>\n",
              "    .colab-df-container {\n",
              "      display:flex;\n",
              "      flex-wrap:wrap;\n",
              "      gap: 12px;\n",
              "    }\n",
              "\n",
              "    .colab-df-convert {\n",
              "      background-color: #E8F0FE;\n",
              "      border: none;\n",
              "      border-radius: 50%;\n",
              "      cursor: pointer;\n",
              "      display: none;\n",
              "      fill: #1967D2;\n",
              "      height: 32px;\n",
              "      padding: 0 0 0 0;\n",
              "      width: 32px;\n",
              "    }\n",
              "\n",
              "    .colab-df-convert:hover {\n",
              "      background-color: #E2EBFA;\n",
              "      box-shadow: 0px 1px 2px rgba(60, 64, 67, 0.3), 0px 1px 3px 1px rgba(60, 64, 67, 0.15);\n",
              "      fill: #174EA6;\n",
              "    }\n",
              "\n",
              "    [theme=dark] .colab-df-convert {\n",
              "      background-color: #3B4455;\n",
              "      fill: #D2E3FC;\n",
              "    }\n",
              "\n",
              "    [theme=dark] .colab-df-convert:hover {\n",
              "      background-color: #434B5C;\n",
              "      box-shadow: 0px 1px 3px 1px rgba(0, 0, 0, 0.15);\n",
              "      filter: drop-shadow(0px 1px 2px rgba(0, 0, 0, 0.3));\n",
              "      fill: #FFFFFF;\n",
              "    }\n",
              "  </style>\n",
              "\n",
              "      <script>\n",
              "        const buttonEl =\n",
              "          document.querySelector('#df-5bdf823b-ea50-4280-8d66-ac2ff59b001b button.colab-df-convert');\n",
              "        buttonEl.style.display =\n",
              "          google.colab.kernel.accessAllowed ? 'block' : 'none';\n",
              "\n",
              "        async function convertToInteractive(key) {\n",
              "          const element = document.querySelector('#df-5bdf823b-ea50-4280-8d66-ac2ff59b001b');\n",
              "          const dataTable =\n",
              "            await google.colab.kernel.invokeFunction('convertToInteractive',\n",
              "                                                     [key], {});\n",
              "          if (!dataTable) return;\n",
              "\n",
              "          const docLinkHtml = 'Like what you see? Visit the ' +\n",
              "            '<a target=\"_blank\" href=https://colab.research.google.com/notebooks/data_table.ipynb>data table notebook</a>'\n",
              "            + ' to learn more about interactive tables.';\n",
              "          element.innerHTML = '';\n",
              "          dataTable['output_type'] = 'display_data';\n",
              "          await google.colab.output.renderOutput(dataTable, element);\n",
              "          const docLink = document.createElement('div');\n",
              "          docLink.innerHTML = docLinkHtml;\n",
              "          element.appendChild(docLink);\n",
              "        }\n",
              "      </script>\n",
              "    </div>\n",
              "  </div>\n",
              "  "
            ]
          },
          "metadata": {},
          "execution_count": 22
        }
      ],
      "source": [
        "df_calls"
      ]
    },
    {
      "cell_type": "markdown",
      "metadata": {
        "id": "v6QloGRW5DpH"
      },
      "source": [
        "В названиях всех столбцов таблицы df_call используются английские слова, строчные буквы, змеиный регистр. Видимых нарушений стиля нет.\n",
        "Пропусков и дубликатов нет. \n",
        "\n",
        "Дата записана в формате object. Изменю тип колонки с датой на datetime. "
      ]
    },
    {
      "cell_type": "code",
      "execution_count": 23,
      "metadata": {
        "id": "j_lwWLgS5DpH"
      },
      "outputs": [],
      "source": [
        "# перевод строковой записи даты в формат datetime\n",
        "df_calls['call_date'] = pd.to_datetime(\n",
        "    df_calls['call_date'], format='%Y-%m-%d'\n",
        ")"
      ]
    },
    {
      "cell_type": "markdown",
      "metadata": {
        "id": "XZF5qc_h5DpI"
      },
      "source": [
        "### Подсчет количества и длительности звонков  \n",
        "1. Округлю длительность каждого звонка до минут в большую сторону.\n",
        "2. Добавлю в таблицу колонку с месяцем звонка\n",
        "3. Сгруппирую данные по абонентам и месяцам. Посчитаю количество ненулевых звонков и их длительность. Количество звонков приведу к целочисленному типу. "
      ]
    },
    {
      "cell_type": "code",
      "execution_count": 24,
      "metadata": {
        "id": "pMcbqv9u5DpK"
      },
      "outputs": [],
      "source": [
        "# округление длительности звонка до минут в большую сторону и приведение к целочисленному типу\n",
        "df_calls['duration'] = np.ceil(df_calls['duration']).astype(int)\n",
        "# добавление в таблицу месяца звонка\n",
        "df_calls['month'] = pd.DatetimeIndex(df_calls['call_date']).month\n",
        "#df_calls"
      ]
    },
    {
      "cell_type": "code",
      "execution_count": 25,
      "metadata": {
        "colab": {
          "base_uri": "https://localhost:8080/"
        },
        "id": "GidTPKBU5DpM",
        "outputId": "9fde0629-27e2-43fb-fd07-ee95f66ce343"
      },
      "outputs": [
        {
          "output_type": "execute_result",
          "data": {
            "text/plain": [
              "user_id  month\n",
              "1000     5        17\n",
              "         6        28\n",
              "         7        41\n",
              "         8        42\n",
              "         9        46\n",
              "                  ..\n",
              "1498     10       30\n",
              "1499     9         8\n",
              "         10       44\n",
              "         11       62\n",
              "         12       56\n",
              "Name: duration, Length: 3168, dtype: int64"
            ]
          },
          "metadata": {},
          "execution_count": 25
        }
      ],
      "source": [
        "# Подсчёт количества ненулевых звонков абонентов по месяцам \n",
        "df_calls_count = df_calls[df_calls['duration']>0] \\\n",
        "                 .groupby(['user_id', 'month'])['duration'] \\\n",
        "                 .count()\n",
        "df_calls_count"
      ]
    },
    {
      "cell_type": "code",
      "execution_count": 26,
      "metadata": {
        "colab": {
          "base_uri": "https://localhost:8080/"
        },
        "id": "Zd58P_Wk5DpN",
        "outputId": "c60a2836-9501-4741-acde-06a82c322df0"
      },
      "outputs": [
        {
          "output_type": "execute_result",
          "data": {
            "text/plain": [
              "user_id  month\n",
              "1000     5        159\n",
              "         6        172\n",
              "         7        340\n",
              "         8        408\n",
              "         9        466\n",
              "                 ... \n",
              "1498     10       247\n",
              "1499     9         70\n",
              "         10       449\n",
              "         11       612\n",
              "         12       492\n",
              "Name: duration, Length: 3174, dtype: int64"
            ]
          },
          "metadata": {},
          "execution_count": 26
        }
      ],
      "source": [
        "# подсчет суммы минут звонков в месяц для каждого абонента\n",
        "df_calls_sum = df_calls.groupby(['user_id', 'month'])['duration'].sum()\n",
        "df_calls_sum"
      ]
    },
    {
      "cell_type": "markdown",
      "metadata": {
        "id": "qcZvH6RX5DpS"
      },
      "source": [
        "### Формирование таблицы с полной информацией о клиентах\n",
        "Начну формировать таблицу data с полной информацией о клиентах компании."
      ]
    },
    {
      "cell_type": "code",
      "execution_count": 27,
      "metadata": {
        "colab": {
          "base_uri": "https://localhost:8080/",
          "height": 423
        },
        "id": "RnqGEprU5DpT",
        "outputId": "c859d160-359a-4e5f-ad13-965fda8662d0"
      },
      "outputs": [
        {
          "output_type": "execute_result",
          "data": {
            "text/plain": [
              "      user_id  month  duration_x  duration_y\n",
              "0        1000      5          17         159\n",
              "1        1000      6          28         172\n",
              "2        1000      7          41         340\n",
              "3        1000      8          42         408\n",
              "4        1000      9          46         466\n",
              "...       ...    ...         ...         ...\n",
              "3163     1498     10          30         247\n",
              "3164     1499      9           8          70\n",
              "3165     1499     10          44         449\n",
              "3166     1499     11          62         612\n",
              "3167     1499     12          56         492\n",
              "\n",
              "[3168 rows x 4 columns]"
            ],
            "text/html": [
              "\n",
              "  <div id=\"df-36821b15-df31-4333-9341-403b720878b4\">\n",
              "    <div class=\"colab-df-container\">\n",
              "      <div>\n",
              "<style scoped>\n",
              "    .dataframe tbody tr th:only-of-type {\n",
              "        vertical-align: middle;\n",
              "    }\n",
              "\n",
              "    .dataframe tbody tr th {\n",
              "        vertical-align: top;\n",
              "    }\n",
              "\n",
              "    .dataframe thead th {\n",
              "        text-align: right;\n",
              "    }\n",
              "</style>\n",
              "<table border=\"1\" class=\"dataframe\">\n",
              "  <thead>\n",
              "    <tr style=\"text-align: right;\">\n",
              "      <th></th>\n",
              "      <th>user_id</th>\n",
              "      <th>month</th>\n",
              "      <th>duration_x</th>\n",
              "      <th>duration_y</th>\n",
              "    </tr>\n",
              "  </thead>\n",
              "  <tbody>\n",
              "    <tr>\n",
              "      <th>0</th>\n",
              "      <td>1000</td>\n",
              "      <td>5</td>\n",
              "      <td>17</td>\n",
              "      <td>159</td>\n",
              "    </tr>\n",
              "    <tr>\n",
              "      <th>1</th>\n",
              "      <td>1000</td>\n",
              "      <td>6</td>\n",
              "      <td>28</td>\n",
              "      <td>172</td>\n",
              "    </tr>\n",
              "    <tr>\n",
              "      <th>2</th>\n",
              "      <td>1000</td>\n",
              "      <td>7</td>\n",
              "      <td>41</td>\n",
              "      <td>340</td>\n",
              "    </tr>\n",
              "    <tr>\n",
              "      <th>3</th>\n",
              "      <td>1000</td>\n",
              "      <td>8</td>\n",
              "      <td>42</td>\n",
              "      <td>408</td>\n",
              "    </tr>\n",
              "    <tr>\n",
              "      <th>4</th>\n",
              "      <td>1000</td>\n",
              "      <td>9</td>\n",
              "      <td>46</td>\n",
              "      <td>466</td>\n",
              "    </tr>\n",
              "    <tr>\n",
              "      <th>...</th>\n",
              "      <td>...</td>\n",
              "      <td>...</td>\n",
              "      <td>...</td>\n",
              "      <td>...</td>\n",
              "    </tr>\n",
              "    <tr>\n",
              "      <th>3163</th>\n",
              "      <td>1498</td>\n",
              "      <td>10</td>\n",
              "      <td>30</td>\n",
              "      <td>247</td>\n",
              "    </tr>\n",
              "    <tr>\n",
              "      <th>3164</th>\n",
              "      <td>1499</td>\n",
              "      <td>9</td>\n",
              "      <td>8</td>\n",
              "      <td>70</td>\n",
              "    </tr>\n",
              "    <tr>\n",
              "      <th>3165</th>\n",
              "      <td>1499</td>\n",
              "      <td>10</td>\n",
              "      <td>44</td>\n",
              "      <td>449</td>\n",
              "    </tr>\n",
              "    <tr>\n",
              "      <th>3166</th>\n",
              "      <td>1499</td>\n",
              "      <td>11</td>\n",
              "      <td>62</td>\n",
              "      <td>612</td>\n",
              "    </tr>\n",
              "    <tr>\n",
              "      <th>3167</th>\n",
              "      <td>1499</td>\n",
              "      <td>12</td>\n",
              "      <td>56</td>\n",
              "      <td>492</td>\n",
              "    </tr>\n",
              "  </tbody>\n",
              "</table>\n",
              "<p>3168 rows × 4 columns</p>\n",
              "</div>\n",
              "      <button class=\"colab-df-convert\" onclick=\"convertToInteractive('df-36821b15-df31-4333-9341-403b720878b4')\"\n",
              "              title=\"Convert this dataframe to an interactive table.\"\n",
              "              style=\"display:none;\">\n",
              "        \n",
              "  <svg xmlns=\"http://www.w3.org/2000/svg\" height=\"24px\"viewBox=\"0 0 24 24\"\n",
              "       width=\"24px\">\n",
              "    <path d=\"M0 0h24v24H0V0z\" fill=\"none\"/>\n",
              "    <path d=\"M18.56 5.44l.94 2.06.94-2.06 2.06-.94-2.06-.94-.94-2.06-.94 2.06-2.06.94zm-11 1L8.5 8.5l.94-2.06 2.06-.94-2.06-.94L8.5 2.5l-.94 2.06-2.06.94zm10 10l.94 2.06.94-2.06 2.06-.94-2.06-.94-.94-2.06-.94 2.06-2.06.94z\"/><path d=\"M17.41 7.96l-1.37-1.37c-.4-.4-.92-.59-1.43-.59-.52 0-1.04.2-1.43.59L10.3 9.45l-7.72 7.72c-.78.78-.78 2.05 0 2.83L4 21.41c.39.39.9.59 1.41.59.51 0 1.02-.2 1.41-.59l7.78-7.78 2.81-2.81c.8-.78.8-2.07 0-2.86zM5.41 20L4 18.59l7.72-7.72 1.47 1.35L5.41 20z\"/>\n",
              "  </svg>\n",
              "      </button>\n",
              "      \n",
              "  <style>\n",
              "    .colab-df-container {\n",
              "      display:flex;\n",
              "      flex-wrap:wrap;\n",
              "      gap: 12px;\n",
              "    }\n",
              "\n",
              "    .colab-df-convert {\n",
              "      background-color: #E8F0FE;\n",
              "      border: none;\n",
              "      border-radius: 50%;\n",
              "      cursor: pointer;\n",
              "      display: none;\n",
              "      fill: #1967D2;\n",
              "      height: 32px;\n",
              "      padding: 0 0 0 0;\n",
              "      width: 32px;\n",
              "    }\n",
              "\n",
              "    .colab-df-convert:hover {\n",
              "      background-color: #E2EBFA;\n",
              "      box-shadow: 0px 1px 2px rgba(60, 64, 67, 0.3), 0px 1px 3px 1px rgba(60, 64, 67, 0.15);\n",
              "      fill: #174EA6;\n",
              "    }\n",
              "\n",
              "    [theme=dark] .colab-df-convert {\n",
              "      background-color: #3B4455;\n",
              "      fill: #D2E3FC;\n",
              "    }\n",
              "\n",
              "    [theme=dark] .colab-df-convert:hover {\n",
              "      background-color: #434B5C;\n",
              "      box-shadow: 0px 1px 3px 1px rgba(0, 0, 0, 0.15);\n",
              "      filter: drop-shadow(0px 1px 2px rgba(0, 0, 0, 0.3));\n",
              "      fill: #FFFFFF;\n",
              "    }\n",
              "  </style>\n",
              "\n",
              "      <script>\n",
              "        const buttonEl =\n",
              "          document.querySelector('#df-36821b15-df31-4333-9341-403b720878b4 button.colab-df-convert');\n",
              "        buttonEl.style.display =\n",
              "          google.colab.kernel.accessAllowed ? 'block' : 'none';\n",
              "\n",
              "        async function convertToInteractive(key) {\n",
              "          const element = document.querySelector('#df-36821b15-df31-4333-9341-403b720878b4');\n",
              "          const dataTable =\n",
              "            await google.colab.kernel.invokeFunction('convertToInteractive',\n",
              "                                                     [key], {});\n",
              "          if (!dataTable) return;\n",
              "\n",
              "          const docLinkHtml = 'Like what you see? Visit the ' +\n",
              "            '<a target=\"_blank\" href=https://colab.research.google.com/notebooks/data_table.ipynb>data table notebook</a>'\n",
              "            + ' to learn more about interactive tables.';\n",
              "          element.innerHTML = '';\n",
              "          dataTable['output_type'] = 'display_data';\n",
              "          await google.colab.output.renderOutput(dataTable, element);\n",
              "          const docLink = document.createElement('div');\n",
              "          docLink.innerHTML = docLinkHtml;\n",
              "          element.appendChild(docLink);\n",
              "        }\n",
              "      </script>\n",
              "    </div>\n",
              "  </div>\n",
              "  "
            ]
          },
          "metadata": {},
          "execution_count": 27
        }
      ],
      "source": [
        "# Таблица со всеми данными\n",
        "data = pd.merge(df_calls_count, df_calls_sum, right_index=True, left_index=True).reset_index()\n",
        "data"
      ]
    },
    {
      "cell_type": "markdown",
      "metadata": {
        "id": "7c3LYlH25DpV"
      },
      "source": [
        "## Обработка сообщений абонентов"
      ]
    },
    {
      "cell_type": "code",
      "execution_count": 28,
      "metadata": {
        "colab": {
          "base_uri": "https://localhost:8080/",
          "height": 423
        },
        "id": "nIhHx3s65DpW",
        "outputId": "50b2cc3b-0b5b-4726-edff-0055e2b884ee"
      },
      "outputs": [
        {
          "output_type": "execute_result",
          "data": {
            "text/plain": [
              "              id message_date  user_id\n",
              "0         1000_0   2018-06-27     1000\n",
              "1         1000_1   2018-10-08     1000\n",
              "2         1000_2   2018-08-04     1000\n",
              "3         1000_3   2018-06-16     1000\n",
              "4         1000_4   2018-12-05     1000\n",
              "...          ...          ...      ...\n",
              "123031  1499_179   2018-12-12     1499\n",
              "123032  1499_180   2018-09-28     1499\n",
              "123033  1499_181   2018-09-27     1499\n",
              "123034  1499_182   2018-11-15     1499\n",
              "123035  1499_183   2018-11-16     1499\n",
              "\n",
              "[123036 rows x 3 columns]"
            ],
            "text/html": [
              "\n",
              "  <div id=\"df-f88bbad1-2461-4abf-bca2-e619b8aafc14\">\n",
              "    <div class=\"colab-df-container\">\n",
              "      <div>\n",
              "<style scoped>\n",
              "    .dataframe tbody tr th:only-of-type {\n",
              "        vertical-align: middle;\n",
              "    }\n",
              "\n",
              "    .dataframe tbody tr th {\n",
              "        vertical-align: top;\n",
              "    }\n",
              "\n",
              "    .dataframe thead th {\n",
              "        text-align: right;\n",
              "    }\n",
              "</style>\n",
              "<table border=\"1\" class=\"dataframe\">\n",
              "  <thead>\n",
              "    <tr style=\"text-align: right;\">\n",
              "      <th></th>\n",
              "      <th>id</th>\n",
              "      <th>message_date</th>\n",
              "      <th>user_id</th>\n",
              "    </tr>\n",
              "  </thead>\n",
              "  <tbody>\n",
              "    <tr>\n",
              "      <th>0</th>\n",
              "      <td>1000_0</td>\n",
              "      <td>2018-06-27</td>\n",
              "      <td>1000</td>\n",
              "    </tr>\n",
              "    <tr>\n",
              "      <th>1</th>\n",
              "      <td>1000_1</td>\n",
              "      <td>2018-10-08</td>\n",
              "      <td>1000</td>\n",
              "    </tr>\n",
              "    <tr>\n",
              "      <th>2</th>\n",
              "      <td>1000_2</td>\n",
              "      <td>2018-08-04</td>\n",
              "      <td>1000</td>\n",
              "    </tr>\n",
              "    <tr>\n",
              "      <th>3</th>\n",
              "      <td>1000_3</td>\n",
              "      <td>2018-06-16</td>\n",
              "      <td>1000</td>\n",
              "    </tr>\n",
              "    <tr>\n",
              "      <th>4</th>\n",
              "      <td>1000_4</td>\n",
              "      <td>2018-12-05</td>\n",
              "      <td>1000</td>\n",
              "    </tr>\n",
              "    <tr>\n",
              "      <th>...</th>\n",
              "      <td>...</td>\n",
              "      <td>...</td>\n",
              "      <td>...</td>\n",
              "    </tr>\n",
              "    <tr>\n",
              "      <th>123031</th>\n",
              "      <td>1499_179</td>\n",
              "      <td>2018-12-12</td>\n",
              "      <td>1499</td>\n",
              "    </tr>\n",
              "    <tr>\n",
              "      <th>123032</th>\n",
              "      <td>1499_180</td>\n",
              "      <td>2018-09-28</td>\n",
              "      <td>1499</td>\n",
              "    </tr>\n",
              "    <tr>\n",
              "      <th>123033</th>\n",
              "      <td>1499_181</td>\n",
              "      <td>2018-09-27</td>\n",
              "      <td>1499</td>\n",
              "    </tr>\n",
              "    <tr>\n",
              "      <th>123034</th>\n",
              "      <td>1499_182</td>\n",
              "      <td>2018-11-15</td>\n",
              "      <td>1499</td>\n",
              "    </tr>\n",
              "    <tr>\n",
              "      <th>123035</th>\n",
              "      <td>1499_183</td>\n",
              "      <td>2018-11-16</td>\n",
              "      <td>1499</td>\n",
              "    </tr>\n",
              "  </tbody>\n",
              "</table>\n",
              "<p>123036 rows × 3 columns</p>\n",
              "</div>\n",
              "      <button class=\"colab-df-convert\" onclick=\"convertToInteractive('df-f88bbad1-2461-4abf-bca2-e619b8aafc14')\"\n",
              "              title=\"Convert this dataframe to an interactive table.\"\n",
              "              style=\"display:none;\">\n",
              "        \n",
              "  <svg xmlns=\"http://www.w3.org/2000/svg\" height=\"24px\"viewBox=\"0 0 24 24\"\n",
              "       width=\"24px\">\n",
              "    <path d=\"M0 0h24v24H0V0z\" fill=\"none\"/>\n",
              "    <path d=\"M18.56 5.44l.94 2.06.94-2.06 2.06-.94-2.06-.94-.94-2.06-.94 2.06-2.06.94zm-11 1L8.5 8.5l.94-2.06 2.06-.94-2.06-.94L8.5 2.5l-.94 2.06-2.06.94zm10 10l.94 2.06.94-2.06 2.06-.94-2.06-.94-.94-2.06-.94 2.06-2.06.94z\"/><path d=\"M17.41 7.96l-1.37-1.37c-.4-.4-.92-.59-1.43-.59-.52 0-1.04.2-1.43.59L10.3 9.45l-7.72 7.72c-.78.78-.78 2.05 0 2.83L4 21.41c.39.39.9.59 1.41.59.51 0 1.02-.2 1.41-.59l7.78-7.78 2.81-2.81c.8-.78.8-2.07 0-2.86zM5.41 20L4 18.59l7.72-7.72 1.47 1.35L5.41 20z\"/>\n",
              "  </svg>\n",
              "      </button>\n",
              "      \n",
              "  <style>\n",
              "    .colab-df-container {\n",
              "      display:flex;\n",
              "      flex-wrap:wrap;\n",
              "      gap: 12px;\n",
              "    }\n",
              "\n",
              "    .colab-df-convert {\n",
              "      background-color: #E8F0FE;\n",
              "      border: none;\n",
              "      border-radius: 50%;\n",
              "      cursor: pointer;\n",
              "      display: none;\n",
              "      fill: #1967D2;\n",
              "      height: 32px;\n",
              "      padding: 0 0 0 0;\n",
              "      width: 32px;\n",
              "    }\n",
              "\n",
              "    .colab-df-convert:hover {\n",
              "      background-color: #E2EBFA;\n",
              "      box-shadow: 0px 1px 2px rgba(60, 64, 67, 0.3), 0px 1px 3px 1px rgba(60, 64, 67, 0.15);\n",
              "      fill: #174EA6;\n",
              "    }\n",
              "\n",
              "    [theme=dark] .colab-df-convert {\n",
              "      background-color: #3B4455;\n",
              "      fill: #D2E3FC;\n",
              "    }\n",
              "\n",
              "    [theme=dark] .colab-df-convert:hover {\n",
              "      background-color: #434B5C;\n",
              "      box-shadow: 0px 1px 3px 1px rgba(0, 0, 0, 0.15);\n",
              "      filter: drop-shadow(0px 1px 2px rgba(0, 0, 0, 0.3));\n",
              "      fill: #FFFFFF;\n",
              "    }\n",
              "  </style>\n",
              "\n",
              "      <script>\n",
              "        const buttonEl =\n",
              "          document.querySelector('#df-f88bbad1-2461-4abf-bca2-e619b8aafc14 button.colab-df-convert');\n",
              "        buttonEl.style.display =\n",
              "          google.colab.kernel.accessAllowed ? 'block' : 'none';\n",
              "\n",
              "        async function convertToInteractive(key) {\n",
              "          const element = document.querySelector('#df-f88bbad1-2461-4abf-bca2-e619b8aafc14');\n",
              "          const dataTable =\n",
              "            await google.colab.kernel.invokeFunction('convertToInteractive',\n",
              "                                                     [key], {});\n",
              "          if (!dataTable) return;\n",
              "\n",
              "          const docLinkHtml = 'Like what you see? Visit the ' +\n",
              "            '<a target=\"_blank\" href=https://colab.research.google.com/notebooks/data_table.ipynb>data table notebook</a>'\n",
              "            + ' to learn more about interactive tables.';\n",
              "          element.innerHTML = '';\n",
              "          dataTable['output_type'] = 'display_data';\n",
              "          await google.colab.output.renderOutput(dataTable, element);\n",
              "          const docLink = document.createElement('div');\n",
              "          docLink.innerHTML = docLinkHtml;\n",
              "          element.appendChild(docLink);\n",
              "        }\n",
              "      </script>\n",
              "    </div>\n",
              "  </div>\n",
              "  "
            ]
          },
          "metadata": {},
          "execution_count": 28
        }
      ],
      "source": [
        "df_messages "
      ]
    },
    {
      "cell_type": "markdown",
      "metadata": {
        "id": "ziaJFPWZ5DpX"
      },
      "source": [
        "В названиях всех столбцов таблицы df_messages используются английские слова, строчные буквы, змеиный регистр. Видимых нарушений стиля нет.\n",
        "Пропусков и дубликатов нет. \n",
        "\n",
        "Дата записана в формате object. Изменю тип колонки с датой на datetime. "
      ]
    },
    {
      "cell_type": "code",
      "execution_count": 29,
      "metadata": {
        "id": "Ep-GubcS5DpY"
      },
      "outputs": [],
      "source": [
        "# перевод строковой записи даты в формат datetime\n",
        "df_messages['message_date'] = pd.to_datetime(\n",
        "    df_messages['message_date'], format='%Y-%m-%d'\n",
        ")"
      ]
    },
    {
      "cell_type": "markdown",
      "metadata": {
        "id": "zd6-SMMO5DpZ"
      },
      "source": [
        "### Подсчет количества сообщений  \n",
        "1. Добавлю в таблицу колонку с месяцем сообщения.\n",
        "3. Сгрупптрую данные по абонентам и месяцам. Посчитаю количество сообщений в месяц. "
      ]
    },
    {
      "cell_type": "code",
      "execution_count": 30,
      "metadata": {
        "colab": {
          "base_uri": "https://localhost:8080/",
          "height": 423
        },
        "id": "RPTDNy8A5Dpa",
        "outputId": "65a4074f-086e-4659-d5f4-b1559f72847e"
      },
      "outputs": [
        {
          "output_type": "execute_result",
          "data": {
            "text/plain": [
              "              id message_date  user_id  month\n",
              "0         1000_0   2018-06-27     1000      6\n",
              "1         1000_1   2018-10-08     1000     10\n",
              "2         1000_2   2018-08-04     1000      8\n",
              "3         1000_3   2018-06-16     1000      6\n",
              "4         1000_4   2018-12-05     1000     12\n",
              "...          ...          ...      ...    ...\n",
              "123031  1499_179   2018-12-12     1499     12\n",
              "123032  1499_180   2018-09-28     1499      9\n",
              "123033  1499_181   2018-09-27     1499      9\n",
              "123034  1499_182   2018-11-15     1499     11\n",
              "123035  1499_183   2018-11-16     1499     11\n",
              "\n",
              "[123036 rows x 4 columns]"
            ],
            "text/html": [
              "\n",
              "  <div id=\"df-999c16ae-6166-4916-8ed9-bf4bd93f8c0d\">\n",
              "    <div class=\"colab-df-container\">\n",
              "      <div>\n",
              "<style scoped>\n",
              "    .dataframe tbody tr th:only-of-type {\n",
              "        vertical-align: middle;\n",
              "    }\n",
              "\n",
              "    .dataframe tbody tr th {\n",
              "        vertical-align: top;\n",
              "    }\n",
              "\n",
              "    .dataframe thead th {\n",
              "        text-align: right;\n",
              "    }\n",
              "</style>\n",
              "<table border=\"1\" class=\"dataframe\">\n",
              "  <thead>\n",
              "    <tr style=\"text-align: right;\">\n",
              "      <th></th>\n",
              "      <th>id</th>\n",
              "      <th>message_date</th>\n",
              "      <th>user_id</th>\n",
              "      <th>month</th>\n",
              "    </tr>\n",
              "  </thead>\n",
              "  <tbody>\n",
              "    <tr>\n",
              "      <th>0</th>\n",
              "      <td>1000_0</td>\n",
              "      <td>2018-06-27</td>\n",
              "      <td>1000</td>\n",
              "      <td>6</td>\n",
              "    </tr>\n",
              "    <tr>\n",
              "      <th>1</th>\n",
              "      <td>1000_1</td>\n",
              "      <td>2018-10-08</td>\n",
              "      <td>1000</td>\n",
              "      <td>10</td>\n",
              "    </tr>\n",
              "    <tr>\n",
              "      <th>2</th>\n",
              "      <td>1000_2</td>\n",
              "      <td>2018-08-04</td>\n",
              "      <td>1000</td>\n",
              "      <td>8</td>\n",
              "    </tr>\n",
              "    <tr>\n",
              "      <th>3</th>\n",
              "      <td>1000_3</td>\n",
              "      <td>2018-06-16</td>\n",
              "      <td>1000</td>\n",
              "      <td>6</td>\n",
              "    </tr>\n",
              "    <tr>\n",
              "      <th>4</th>\n",
              "      <td>1000_4</td>\n",
              "      <td>2018-12-05</td>\n",
              "      <td>1000</td>\n",
              "      <td>12</td>\n",
              "    </tr>\n",
              "    <tr>\n",
              "      <th>...</th>\n",
              "      <td>...</td>\n",
              "      <td>...</td>\n",
              "      <td>...</td>\n",
              "      <td>...</td>\n",
              "    </tr>\n",
              "    <tr>\n",
              "      <th>123031</th>\n",
              "      <td>1499_179</td>\n",
              "      <td>2018-12-12</td>\n",
              "      <td>1499</td>\n",
              "      <td>12</td>\n",
              "    </tr>\n",
              "    <tr>\n",
              "      <th>123032</th>\n",
              "      <td>1499_180</td>\n",
              "      <td>2018-09-28</td>\n",
              "      <td>1499</td>\n",
              "      <td>9</td>\n",
              "    </tr>\n",
              "    <tr>\n",
              "      <th>123033</th>\n",
              "      <td>1499_181</td>\n",
              "      <td>2018-09-27</td>\n",
              "      <td>1499</td>\n",
              "      <td>9</td>\n",
              "    </tr>\n",
              "    <tr>\n",
              "      <th>123034</th>\n",
              "      <td>1499_182</td>\n",
              "      <td>2018-11-15</td>\n",
              "      <td>1499</td>\n",
              "      <td>11</td>\n",
              "    </tr>\n",
              "    <tr>\n",
              "      <th>123035</th>\n",
              "      <td>1499_183</td>\n",
              "      <td>2018-11-16</td>\n",
              "      <td>1499</td>\n",
              "      <td>11</td>\n",
              "    </tr>\n",
              "  </tbody>\n",
              "</table>\n",
              "<p>123036 rows × 4 columns</p>\n",
              "</div>\n",
              "      <button class=\"colab-df-convert\" onclick=\"convertToInteractive('df-999c16ae-6166-4916-8ed9-bf4bd93f8c0d')\"\n",
              "              title=\"Convert this dataframe to an interactive table.\"\n",
              "              style=\"display:none;\">\n",
              "        \n",
              "  <svg xmlns=\"http://www.w3.org/2000/svg\" height=\"24px\"viewBox=\"0 0 24 24\"\n",
              "       width=\"24px\">\n",
              "    <path d=\"M0 0h24v24H0V0z\" fill=\"none\"/>\n",
              "    <path d=\"M18.56 5.44l.94 2.06.94-2.06 2.06-.94-2.06-.94-.94-2.06-.94 2.06-2.06.94zm-11 1L8.5 8.5l.94-2.06 2.06-.94-2.06-.94L8.5 2.5l-.94 2.06-2.06.94zm10 10l.94 2.06.94-2.06 2.06-.94-2.06-.94-.94-2.06-.94 2.06-2.06.94z\"/><path d=\"M17.41 7.96l-1.37-1.37c-.4-.4-.92-.59-1.43-.59-.52 0-1.04.2-1.43.59L10.3 9.45l-7.72 7.72c-.78.78-.78 2.05 0 2.83L4 21.41c.39.39.9.59 1.41.59.51 0 1.02-.2 1.41-.59l7.78-7.78 2.81-2.81c.8-.78.8-2.07 0-2.86zM5.41 20L4 18.59l7.72-7.72 1.47 1.35L5.41 20z\"/>\n",
              "  </svg>\n",
              "      </button>\n",
              "      \n",
              "  <style>\n",
              "    .colab-df-container {\n",
              "      display:flex;\n",
              "      flex-wrap:wrap;\n",
              "      gap: 12px;\n",
              "    }\n",
              "\n",
              "    .colab-df-convert {\n",
              "      background-color: #E8F0FE;\n",
              "      border: none;\n",
              "      border-radius: 50%;\n",
              "      cursor: pointer;\n",
              "      display: none;\n",
              "      fill: #1967D2;\n",
              "      height: 32px;\n",
              "      padding: 0 0 0 0;\n",
              "      width: 32px;\n",
              "    }\n",
              "\n",
              "    .colab-df-convert:hover {\n",
              "      background-color: #E2EBFA;\n",
              "      box-shadow: 0px 1px 2px rgba(60, 64, 67, 0.3), 0px 1px 3px 1px rgba(60, 64, 67, 0.15);\n",
              "      fill: #174EA6;\n",
              "    }\n",
              "\n",
              "    [theme=dark] .colab-df-convert {\n",
              "      background-color: #3B4455;\n",
              "      fill: #D2E3FC;\n",
              "    }\n",
              "\n",
              "    [theme=dark] .colab-df-convert:hover {\n",
              "      background-color: #434B5C;\n",
              "      box-shadow: 0px 1px 3px 1px rgba(0, 0, 0, 0.15);\n",
              "      filter: drop-shadow(0px 1px 2px rgba(0, 0, 0, 0.3));\n",
              "      fill: #FFFFFF;\n",
              "    }\n",
              "  </style>\n",
              "\n",
              "      <script>\n",
              "        const buttonEl =\n",
              "          document.querySelector('#df-999c16ae-6166-4916-8ed9-bf4bd93f8c0d button.colab-df-convert');\n",
              "        buttonEl.style.display =\n",
              "          google.colab.kernel.accessAllowed ? 'block' : 'none';\n",
              "\n",
              "        async function convertToInteractive(key) {\n",
              "          const element = document.querySelector('#df-999c16ae-6166-4916-8ed9-bf4bd93f8c0d');\n",
              "          const dataTable =\n",
              "            await google.colab.kernel.invokeFunction('convertToInteractive',\n",
              "                                                     [key], {});\n",
              "          if (!dataTable) return;\n",
              "\n",
              "          const docLinkHtml = 'Like what you see? Visit the ' +\n",
              "            '<a target=\"_blank\" href=https://colab.research.google.com/notebooks/data_table.ipynb>data table notebook</a>'\n",
              "            + ' to learn more about interactive tables.';\n",
              "          element.innerHTML = '';\n",
              "          dataTable['output_type'] = 'display_data';\n",
              "          await google.colab.output.renderOutput(dataTable, element);\n",
              "          const docLink = document.createElement('div');\n",
              "          docLink.innerHTML = docLinkHtml;\n",
              "          element.appendChild(docLink);\n",
              "        }\n",
              "      </script>\n",
              "    </div>\n",
              "  </div>\n",
              "  "
            ]
          },
          "metadata": {},
          "execution_count": 30
        }
      ],
      "source": [
        "# добавление в таблицу колонки с месяцем сообщения\n",
        "df_messages['month'] = pd.DatetimeIndex(df_messages['message_date']).month\n",
        "df_messages"
      ]
    },
    {
      "cell_type": "code",
      "execution_count": 31,
      "metadata": {
        "colab": {
          "base_uri": "https://localhost:8080/"
        },
        "id": "6NvyyWkr5Dpb",
        "outputId": "ee21ab23-7e40-4114-a5f1-6b359d15d4a4"
      },
      "outputs": [
        {
          "output_type": "execute_result",
          "data": {
            "text/plain": [
              "user_id  month\n",
              "1000     5        22\n",
              "         6        60\n",
              "         7        75\n",
              "         8        81\n",
              "         9        57\n",
              "                  ..\n",
              "1498     10       42\n",
              "1499     9        11\n",
              "         10       48\n",
              "         11       59\n",
              "         12       66\n",
              "Name: id, Length: 2717, dtype: int64"
            ]
          },
          "metadata": {},
          "execution_count": 31
        }
      ],
      "source": [
        "# подсчет сообщений по пользователю и по месяцам\n",
        "df_messages_count = df_messages.groupby(['user_id', 'month'])['id'].count()\n",
        "df_messages_count"
      ]
    },
    {
      "cell_type": "markdown",
      "metadata": {
        "id": "YOHbqKbF5Dpd"
      },
      "source": [
        "### Добавление данных о сообщениях в общую таблицу"
      ]
    },
    {
      "cell_type": "code",
      "execution_count": 32,
      "metadata": {
        "colab": {
          "base_uri": "https://localhost:8080/",
          "height": 206
        },
        "id": "Ad-YNgrs5Dpd",
        "outputId": "8c8fadae-89d2-4bea-fea8-b5272f9ec90b"
      },
      "outputs": [
        {
          "output_type": "execute_result",
          "data": {
            "text/plain": [
              "   user_id  month  duration_x  duration_y    id\n",
              "0     1000      5        17.0       159.0  22.0\n",
              "1     1000      6        28.0       172.0  60.0\n",
              "2     1000      7        41.0       340.0  75.0\n",
              "3     1000      8        42.0       408.0  81.0\n",
              "4     1000      9        46.0       466.0  57.0"
            ],
            "text/html": [
              "\n",
              "  <div id=\"df-35a970ae-6c3d-4477-a41e-4ee321b4718b\">\n",
              "    <div class=\"colab-df-container\">\n",
              "      <div>\n",
              "<style scoped>\n",
              "    .dataframe tbody tr th:only-of-type {\n",
              "        vertical-align: middle;\n",
              "    }\n",
              "\n",
              "    .dataframe tbody tr th {\n",
              "        vertical-align: top;\n",
              "    }\n",
              "\n",
              "    .dataframe thead th {\n",
              "        text-align: right;\n",
              "    }\n",
              "</style>\n",
              "<table border=\"1\" class=\"dataframe\">\n",
              "  <thead>\n",
              "    <tr style=\"text-align: right;\">\n",
              "      <th></th>\n",
              "      <th>user_id</th>\n",
              "      <th>month</th>\n",
              "      <th>duration_x</th>\n",
              "      <th>duration_y</th>\n",
              "      <th>id</th>\n",
              "    </tr>\n",
              "  </thead>\n",
              "  <tbody>\n",
              "    <tr>\n",
              "      <th>0</th>\n",
              "      <td>1000</td>\n",
              "      <td>5</td>\n",
              "      <td>17.0</td>\n",
              "      <td>159.0</td>\n",
              "      <td>22.0</td>\n",
              "    </tr>\n",
              "    <tr>\n",
              "      <th>1</th>\n",
              "      <td>1000</td>\n",
              "      <td>6</td>\n",
              "      <td>28.0</td>\n",
              "      <td>172.0</td>\n",
              "      <td>60.0</td>\n",
              "    </tr>\n",
              "    <tr>\n",
              "      <th>2</th>\n",
              "      <td>1000</td>\n",
              "      <td>7</td>\n",
              "      <td>41.0</td>\n",
              "      <td>340.0</td>\n",
              "      <td>75.0</td>\n",
              "    </tr>\n",
              "    <tr>\n",
              "      <th>3</th>\n",
              "      <td>1000</td>\n",
              "      <td>8</td>\n",
              "      <td>42.0</td>\n",
              "      <td>408.0</td>\n",
              "      <td>81.0</td>\n",
              "    </tr>\n",
              "    <tr>\n",
              "      <th>4</th>\n",
              "      <td>1000</td>\n",
              "      <td>9</td>\n",
              "      <td>46.0</td>\n",
              "      <td>466.0</td>\n",
              "      <td>57.0</td>\n",
              "    </tr>\n",
              "  </tbody>\n",
              "</table>\n",
              "</div>\n",
              "      <button class=\"colab-df-convert\" onclick=\"convertToInteractive('df-35a970ae-6c3d-4477-a41e-4ee321b4718b')\"\n",
              "              title=\"Convert this dataframe to an interactive table.\"\n",
              "              style=\"display:none;\">\n",
              "        \n",
              "  <svg xmlns=\"http://www.w3.org/2000/svg\" height=\"24px\"viewBox=\"0 0 24 24\"\n",
              "       width=\"24px\">\n",
              "    <path d=\"M0 0h24v24H0V0z\" fill=\"none\"/>\n",
              "    <path d=\"M18.56 5.44l.94 2.06.94-2.06 2.06-.94-2.06-.94-.94-2.06-.94 2.06-2.06.94zm-11 1L8.5 8.5l.94-2.06 2.06-.94-2.06-.94L8.5 2.5l-.94 2.06-2.06.94zm10 10l.94 2.06.94-2.06 2.06-.94-2.06-.94-.94-2.06-.94 2.06-2.06.94z\"/><path d=\"M17.41 7.96l-1.37-1.37c-.4-.4-.92-.59-1.43-.59-.52 0-1.04.2-1.43.59L10.3 9.45l-7.72 7.72c-.78.78-.78 2.05 0 2.83L4 21.41c.39.39.9.59 1.41.59.51 0 1.02-.2 1.41-.59l7.78-7.78 2.81-2.81c.8-.78.8-2.07 0-2.86zM5.41 20L4 18.59l7.72-7.72 1.47 1.35L5.41 20z\"/>\n",
              "  </svg>\n",
              "      </button>\n",
              "      \n",
              "  <style>\n",
              "    .colab-df-container {\n",
              "      display:flex;\n",
              "      flex-wrap:wrap;\n",
              "      gap: 12px;\n",
              "    }\n",
              "\n",
              "    .colab-df-convert {\n",
              "      background-color: #E8F0FE;\n",
              "      border: none;\n",
              "      border-radius: 50%;\n",
              "      cursor: pointer;\n",
              "      display: none;\n",
              "      fill: #1967D2;\n",
              "      height: 32px;\n",
              "      padding: 0 0 0 0;\n",
              "      width: 32px;\n",
              "    }\n",
              "\n",
              "    .colab-df-convert:hover {\n",
              "      background-color: #E2EBFA;\n",
              "      box-shadow: 0px 1px 2px rgba(60, 64, 67, 0.3), 0px 1px 3px 1px rgba(60, 64, 67, 0.15);\n",
              "      fill: #174EA6;\n",
              "    }\n",
              "\n",
              "    [theme=dark] .colab-df-convert {\n",
              "      background-color: #3B4455;\n",
              "      fill: #D2E3FC;\n",
              "    }\n",
              "\n",
              "    [theme=dark] .colab-df-convert:hover {\n",
              "      background-color: #434B5C;\n",
              "      box-shadow: 0px 1px 3px 1px rgba(0, 0, 0, 0.15);\n",
              "      filter: drop-shadow(0px 1px 2px rgba(0, 0, 0, 0.3));\n",
              "      fill: #FFFFFF;\n",
              "    }\n",
              "  </style>\n",
              "\n",
              "      <script>\n",
              "        const buttonEl =\n",
              "          document.querySelector('#df-35a970ae-6c3d-4477-a41e-4ee321b4718b button.colab-df-convert');\n",
              "        buttonEl.style.display =\n",
              "          google.colab.kernel.accessAllowed ? 'block' : 'none';\n",
              "\n",
              "        async function convertToInteractive(key) {\n",
              "          const element = document.querySelector('#df-35a970ae-6c3d-4477-a41e-4ee321b4718b');\n",
              "          const dataTable =\n",
              "            await google.colab.kernel.invokeFunction('convertToInteractive',\n",
              "                                                     [key], {});\n",
              "          if (!dataTable) return;\n",
              "\n",
              "          const docLinkHtml = 'Like what you see? Visit the ' +\n",
              "            '<a target=\"_blank\" href=https://colab.research.google.com/notebooks/data_table.ipynb>data table notebook</a>'\n",
              "            + ' to learn more about interactive tables.';\n",
              "          element.innerHTML = '';\n",
              "          dataTable['output_type'] = 'display_data';\n",
              "          await google.colab.output.renderOutput(dataTable, element);\n",
              "          const docLink = document.createElement('div');\n",
              "          docLink.innerHTML = docLinkHtml;\n",
              "          element.appendChild(docLink);\n",
              "        }\n",
              "      </script>\n",
              "    </div>\n",
              "  </div>\n",
              "  "
            ]
          },
          "metadata": {},
          "execution_count": 32
        }
      ],
      "source": [
        "# Добавление данных о сообщениях в общую таблицу data\n",
        "data = data.merge(df_messages_count, on=['user_id','month'], how='outer')\n",
        "data.head()"
      ]
    },
    {
      "cell_type": "markdown",
      "metadata": {
        "id": "Z4_rlifD5Dpe"
      },
      "source": [
        "## Обработка веб-трафика абонентов"
      ]
    },
    {
      "cell_type": "code",
      "execution_count": 33,
      "metadata": {
        "colab": {
          "base_uri": "https://localhost:8080/",
          "height": 423
        },
        "id": "2ySJaKmH5Dpf",
        "outputId": "f242e4ad-2bf6-40e5-afbd-4a237ca9b52d"
      },
      "outputs": [
        {
          "output_type": "execute_result",
          "data": {
            "text/plain": [
              "        Unnamed: 0        id  mb_used session_date  user_id\n",
              "0                0    1000_0   112.95   2018-11-25     1000\n",
              "1                1    1000_1  1052.81   2018-09-07     1000\n",
              "2                2    1000_2  1197.26   2018-06-25     1000\n",
              "3                3    1000_3   550.27   2018-08-22     1000\n",
              "4                4    1000_4   302.56   2018-09-24     1000\n",
              "...            ...       ...      ...          ...      ...\n",
              "149391      149391  1499_152   318.90   2018-10-03     1499\n",
              "149392      149392  1499_153   490.13   2018-12-14     1499\n",
              "149393      149393  1499_154     0.00   2018-10-27     1499\n",
              "149394      149394  1499_155  1246.32   2018-11-26     1499\n",
              "149395      149395  1499_156   544.37   2018-10-26     1499\n",
              "\n",
              "[149396 rows x 5 columns]"
            ],
            "text/html": [
              "\n",
              "  <div id=\"df-8069f100-82d1-46a6-bb76-da821bd0e857\">\n",
              "    <div class=\"colab-df-container\">\n",
              "      <div>\n",
              "<style scoped>\n",
              "    .dataframe tbody tr th:only-of-type {\n",
              "        vertical-align: middle;\n",
              "    }\n",
              "\n",
              "    .dataframe tbody tr th {\n",
              "        vertical-align: top;\n",
              "    }\n",
              "\n",
              "    .dataframe thead th {\n",
              "        text-align: right;\n",
              "    }\n",
              "</style>\n",
              "<table border=\"1\" class=\"dataframe\">\n",
              "  <thead>\n",
              "    <tr style=\"text-align: right;\">\n",
              "      <th></th>\n",
              "      <th>Unnamed: 0</th>\n",
              "      <th>id</th>\n",
              "      <th>mb_used</th>\n",
              "      <th>session_date</th>\n",
              "      <th>user_id</th>\n",
              "    </tr>\n",
              "  </thead>\n",
              "  <tbody>\n",
              "    <tr>\n",
              "      <th>0</th>\n",
              "      <td>0</td>\n",
              "      <td>1000_0</td>\n",
              "      <td>112.95</td>\n",
              "      <td>2018-11-25</td>\n",
              "      <td>1000</td>\n",
              "    </tr>\n",
              "    <tr>\n",
              "      <th>1</th>\n",
              "      <td>1</td>\n",
              "      <td>1000_1</td>\n",
              "      <td>1052.81</td>\n",
              "      <td>2018-09-07</td>\n",
              "      <td>1000</td>\n",
              "    </tr>\n",
              "    <tr>\n",
              "      <th>2</th>\n",
              "      <td>2</td>\n",
              "      <td>1000_2</td>\n",
              "      <td>1197.26</td>\n",
              "      <td>2018-06-25</td>\n",
              "      <td>1000</td>\n",
              "    </tr>\n",
              "    <tr>\n",
              "      <th>3</th>\n",
              "      <td>3</td>\n",
              "      <td>1000_3</td>\n",
              "      <td>550.27</td>\n",
              "      <td>2018-08-22</td>\n",
              "      <td>1000</td>\n",
              "    </tr>\n",
              "    <tr>\n",
              "      <th>4</th>\n",
              "      <td>4</td>\n",
              "      <td>1000_4</td>\n",
              "      <td>302.56</td>\n",
              "      <td>2018-09-24</td>\n",
              "      <td>1000</td>\n",
              "    </tr>\n",
              "    <tr>\n",
              "      <th>...</th>\n",
              "      <td>...</td>\n",
              "      <td>...</td>\n",
              "      <td>...</td>\n",
              "      <td>...</td>\n",
              "      <td>...</td>\n",
              "    </tr>\n",
              "    <tr>\n",
              "      <th>149391</th>\n",
              "      <td>149391</td>\n",
              "      <td>1499_152</td>\n",
              "      <td>318.90</td>\n",
              "      <td>2018-10-03</td>\n",
              "      <td>1499</td>\n",
              "    </tr>\n",
              "    <tr>\n",
              "      <th>149392</th>\n",
              "      <td>149392</td>\n",
              "      <td>1499_153</td>\n",
              "      <td>490.13</td>\n",
              "      <td>2018-12-14</td>\n",
              "      <td>1499</td>\n",
              "    </tr>\n",
              "    <tr>\n",
              "      <th>149393</th>\n",
              "      <td>149393</td>\n",
              "      <td>1499_154</td>\n",
              "      <td>0.00</td>\n",
              "      <td>2018-10-27</td>\n",
              "      <td>1499</td>\n",
              "    </tr>\n",
              "    <tr>\n",
              "      <th>149394</th>\n",
              "      <td>149394</td>\n",
              "      <td>1499_155</td>\n",
              "      <td>1246.32</td>\n",
              "      <td>2018-11-26</td>\n",
              "      <td>1499</td>\n",
              "    </tr>\n",
              "    <tr>\n",
              "      <th>149395</th>\n",
              "      <td>149395</td>\n",
              "      <td>1499_156</td>\n",
              "      <td>544.37</td>\n",
              "      <td>2018-10-26</td>\n",
              "      <td>1499</td>\n",
              "    </tr>\n",
              "  </tbody>\n",
              "</table>\n",
              "<p>149396 rows × 5 columns</p>\n",
              "</div>\n",
              "      <button class=\"colab-df-convert\" onclick=\"convertToInteractive('df-8069f100-82d1-46a6-bb76-da821bd0e857')\"\n",
              "              title=\"Convert this dataframe to an interactive table.\"\n",
              "              style=\"display:none;\">\n",
              "        \n",
              "  <svg xmlns=\"http://www.w3.org/2000/svg\" height=\"24px\"viewBox=\"0 0 24 24\"\n",
              "       width=\"24px\">\n",
              "    <path d=\"M0 0h24v24H0V0z\" fill=\"none\"/>\n",
              "    <path d=\"M18.56 5.44l.94 2.06.94-2.06 2.06-.94-2.06-.94-.94-2.06-.94 2.06-2.06.94zm-11 1L8.5 8.5l.94-2.06 2.06-.94-2.06-.94L8.5 2.5l-.94 2.06-2.06.94zm10 10l.94 2.06.94-2.06 2.06-.94-2.06-.94-.94-2.06-.94 2.06-2.06.94z\"/><path d=\"M17.41 7.96l-1.37-1.37c-.4-.4-.92-.59-1.43-.59-.52 0-1.04.2-1.43.59L10.3 9.45l-7.72 7.72c-.78.78-.78 2.05 0 2.83L4 21.41c.39.39.9.59 1.41.59.51 0 1.02-.2 1.41-.59l7.78-7.78 2.81-2.81c.8-.78.8-2.07 0-2.86zM5.41 20L4 18.59l7.72-7.72 1.47 1.35L5.41 20z\"/>\n",
              "  </svg>\n",
              "      </button>\n",
              "      \n",
              "  <style>\n",
              "    .colab-df-container {\n",
              "      display:flex;\n",
              "      flex-wrap:wrap;\n",
              "      gap: 12px;\n",
              "    }\n",
              "\n",
              "    .colab-df-convert {\n",
              "      background-color: #E8F0FE;\n",
              "      border: none;\n",
              "      border-radius: 50%;\n",
              "      cursor: pointer;\n",
              "      display: none;\n",
              "      fill: #1967D2;\n",
              "      height: 32px;\n",
              "      padding: 0 0 0 0;\n",
              "      width: 32px;\n",
              "    }\n",
              "\n",
              "    .colab-df-convert:hover {\n",
              "      background-color: #E2EBFA;\n",
              "      box-shadow: 0px 1px 2px rgba(60, 64, 67, 0.3), 0px 1px 3px 1px rgba(60, 64, 67, 0.15);\n",
              "      fill: #174EA6;\n",
              "    }\n",
              "\n",
              "    [theme=dark] .colab-df-convert {\n",
              "      background-color: #3B4455;\n",
              "      fill: #D2E3FC;\n",
              "    }\n",
              "\n",
              "    [theme=dark] .colab-df-convert:hover {\n",
              "      background-color: #434B5C;\n",
              "      box-shadow: 0px 1px 3px 1px rgba(0, 0, 0, 0.15);\n",
              "      filter: drop-shadow(0px 1px 2px rgba(0, 0, 0, 0.3));\n",
              "      fill: #FFFFFF;\n",
              "    }\n",
              "  </style>\n",
              "\n",
              "      <script>\n",
              "        const buttonEl =\n",
              "          document.querySelector('#df-8069f100-82d1-46a6-bb76-da821bd0e857 button.colab-df-convert');\n",
              "        buttonEl.style.display =\n",
              "          google.colab.kernel.accessAllowed ? 'block' : 'none';\n",
              "\n",
              "        async function convertToInteractive(key) {\n",
              "          const element = document.querySelector('#df-8069f100-82d1-46a6-bb76-da821bd0e857');\n",
              "          const dataTable =\n",
              "            await google.colab.kernel.invokeFunction('convertToInteractive',\n",
              "                                                     [key], {});\n",
              "          if (!dataTable) return;\n",
              "\n",
              "          const docLinkHtml = 'Like what you see? Visit the ' +\n",
              "            '<a target=\"_blank\" href=https://colab.research.google.com/notebooks/data_table.ipynb>data table notebook</a>'\n",
              "            + ' to learn more about interactive tables.';\n",
              "          element.innerHTML = '';\n",
              "          dataTable['output_type'] = 'display_data';\n",
              "          await google.colab.output.renderOutput(dataTable, element);\n",
              "          const docLink = document.createElement('div');\n",
              "          docLink.innerHTML = docLinkHtml;\n",
              "          element.appendChild(docLink);\n",
              "        }\n",
              "      </script>\n",
              "    </div>\n",
              "  </div>\n",
              "  "
            ]
          },
          "metadata": {},
          "execution_count": 33
        }
      ],
      "source": [
        "# Просмотр\n",
        "df_internet"
      ]
    },
    {
      "cell_type": "markdown",
      "metadata": {
        "id": "XdW0E7tC5Dpg"
      },
      "source": [
        "В названиях всех столбцов таблицы df_internet используются английские слова, строчные буквы, змеиный регистр. Видимых нарушений стиля нет. Пропусков и дубликатов нет.\n",
        "\n",
        "### Подсчет объема интернет трафика \n",
        "1. Дата записана в формате object. Изменю тип колонки с датой на datetime.\n",
        "2. В таблице df_internet есть столбец \"Unnamed: 0\", дублирующий индекс таблицы. Переименую его в month и запишу в него месяц интернет-сессии."
      ]
    },
    {
      "cell_type": "code",
      "execution_count": 34,
      "metadata": {
        "id": "5_FVDZGd5Dph"
      },
      "outputs": [],
      "source": [
        "# перевод строковой записи даты в формат datetime\n",
        "df_internet['session_date'] = pd.to_datetime(\n",
        "    df_internet['session_date'], format='%Y-%m-%d'\n",
        ")"
      ]
    },
    {
      "cell_type": "code",
      "execution_count": 35,
      "metadata": {
        "id": "10gvWrfU5Dpi"
      },
      "outputs": [],
      "source": [
        "# добавление в таблицу месяца интернет-сессии\n",
        "df_internet.rename(columns={\"Unnamed: 0\":\"month\"} ,inplace=True)\n",
        "df_internet['month'] = pd.DatetimeIndex(df_internet['session_date']).month"
      ]
    },
    {
      "cell_type": "markdown",
      "metadata": {
        "id": "zBXr1w_A5DpC"
      },
      "source": [
        "Посмотрим на гистограмму распределения объема интернет-сессий, нет ли здесь аномалий\n"
      ]
    },
    {
      "cell_type": "code",
      "execution_count": 36,
      "metadata": {
        "colab": {
          "base_uri": "https://localhost:8080/",
          "height": 295
        },
        "id": "OOLTg9Q25DpC",
        "outputId": "7d985b9c-293d-444b-b944-eb8e8b3c9c8e"
      },
      "outputs": [
        {
          "output_type": "display_data",
          "data": {
            "text/plain": [
              "<Figure size 432x288 with 1 Axes>"
            ],
            "image/png": "[encoded data removed]"
          },
          "metadata": {
            "needs_background": "light"
          }
        }
      ],
      "source": [
        "# гистограмма распределения объема интернет-сессий\n",
        "plt.hist(df_internet['mb_used'], bins=50)\n",
        "plt.xlabel(\"Мегабайт в месяц\")\n",
        "plt.ylabel(\"Частота значений\", size=14)\n",
        "plt.title(\"Распределение  объема интернет-сессий\")\n",
        "plt.show()"
      ]
    },
    {
      "cell_type": "markdown",
      "metadata": {
        "id": "QqUwfGLC5DpE"
      },
      "source": [
        "Многие клиенты не пользуются интернетом! Или клиенты пытались зайти в интернет, но не смогли, происходит обрыв сессий и звонков, возможно надо бить тревогу и бежать к технарям. Можно детально проанализировать город, время, клиент у кого произошел обрыв ..."
      ]
    },
    {
      "cell_type": "markdown",
      "metadata": {
        "id": "VoA0McJT5Dpj"
      },
      "source": [
        "### Подсчет объёма израсходованного интернет-трафика по месяцам для каждого абонента\n",
        "1. Сгруппирую данные по абонентам и месяцам. Посчитаю объема интернет трафика для каждого абонента в месяц. \n",
        "2. Округлю результаты до гигабайт в большую сторону, приведу к целочисленному типу. \n"
      ]
    },
    {
      "cell_type": "code",
      "execution_count": 37,
      "metadata": {
        "colab": {
          "base_uri": "https://localhost:8080/"
        },
        "id": "QHUhhriU5Dpj",
        "outputId": "e0b444fc-feff-476f-ee0d-10f282083b34"
      },
      "outputs": [
        {
          "output_type": "execute_result",
          "data": {
            "text/plain": [
              "user_id  month\n",
              "1000     5         3\n",
              "         6        23\n",
              "         7        14\n",
              "         8        14\n",
              "         9        15\n",
              "                  ..\n",
              "1498     10       21\n",
              "1499     9         2\n",
              "         10       18\n",
              "         11       18\n",
              "         12       13\n",
              "Name: mb_used, Length: 3203, dtype: int64"
            ]
          },
          "metadata": {},
          "execution_count": 37
        }
      ],
      "source": [
        "# подсчет веб-трафика по пользователю по месяцам\n",
        "df_internet_sum = df_internet.groupby(['user_id', 'month'])['mb_used'].sum()\n",
        "# округление веб-трафика за месяц до гигабайт в большую сторону и приведение к целочисленному типу\n",
        "df_internet_sum = np.ceil(df_internet_sum/1024).astype(int)\n",
        "df_internet_sum"
      ]
    },
    {
      "cell_type": "markdown",
      "metadata": {
        "id": "5bT-oPD15Dpl"
      },
      "source": [
        "### Добавление в общую таблицу данных веб-трафика по месяцам для каждого пользователя"
      ]
    },
    {
      "cell_type": "code",
      "execution_count": 38,
      "metadata": {
        "colab": {
          "base_uri": "https://localhost:8080/",
          "height": 206
        },
        "id": "cibHX2CO5Dpl",
        "outputId": "a1876b77-891e-4678-988f-661ec987f006"
      },
      "outputs": [
        {
          "output_type": "execute_result",
          "data": {
            "text/plain": [
              "   user_id  month  duration_x  duration_y    id  mb_used\n",
              "0     1000      5        17.0       159.0  22.0      3.0\n",
              "1     1000      6        28.0       172.0  60.0     23.0\n",
              "2     1000      7        41.0       340.0  75.0     14.0\n",
              "3     1000      8        42.0       408.0  81.0     14.0\n",
              "4     1000      9        46.0       466.0  57.0     15.0"
            ],
            "text/html": [
              "\n",
              "  <div id=\"df-33ac05b7-e960-42c4-916f-06810d61a77c\">\n",
              "    <div class=\"colab-df-container\">\n",
              "      <div>\n",
              "<style scoped>\n",
              "    .dataframe tbody tr th:only-of-type {\n",
              "        vertical-align: middle;\n",
              "    }\n",
              "\n",
              "    .dataframe tbody tr th {\n",
              "        vertical-align: top;\n",
              "    }\n",
              "\n",
              "    .dataframe thead th {\n",
              "        text-align: right;\n",
              "    }\n",
              "</style>\n",
              "<table border=\"1\" class=\"dataframe\">\n",
              "  <thead>\n",
              "    <tr style=\"text-align: right;\">\n",
              "      <th></th>\n",
              "      <th>user_id</th>\n",
              "      <th>month</th>\n",
              "      <th>duration_x</th>\n",
              "      <th>duration_y</th>\n",
              "      <th>id</th>\n",
              "      <th>mb_used</th>\n",
              "    </tr>\n",
              "  </thead>\n",
              "  <tbody>\n",
              "    <tr>\n",
              "      <th>0</th>\n",
              "      <td>1000</td>\n",
              "      <td>5</td>\n",
              "      <td>17.0</td>\n",
              "      <td>159.0</td>\n",
              "      <td>22.0</td>\n",
              "      <td>3.0</td>\n",
              "    </tr>\n",
              "    <tr>\n",
              "      <th>1</th>\n",
              "      <td>1000</td>\n",
              "      <td>6</td>\n",
              "      <td>28.0</td>\n",
              "      <td>172.0</td>\n",
              "      <td>60.0</td>\n",
              "      <td>23.0</td>\n",
              "    </tr>\n",
              "    <tr>\n",
              "      <th>2</th>\n",
              "      <td>1000</td>\n",
              "      <td>7</td>\n",
              "      <td>41.0</td>\n",
              "      <td>340.0</td>\n",
              "      <td>75.0</td>\n",
              "      <td>14.0</td>\n",
              "    </tr>\n",
              "    <tr>\n",
              "      <th>3</th>\n",
              "      <td>1000</td>\n",
              "      <td>8</td>\n",
              "      <td>42.0</td>\n",
              "      <td>408.0</td>\n",
              "      <td>81.0</td>\n",
              "      <td>14.0</td>\n",
              "    </tr>\n",
              "    <tr>\n",
              "      <th>4</th>\n",
              "      <td>1000</td>\n",
              "      <td>9</td>\n",
              "      <td>46.0</td>\n",
              "      <td>466.0</td>\n",
              "      <td>57.0</td>\n",
              "      <td>15.0</td>\n",
              "    </tr>\n",
              "  </tbody>\n",
              "</table>\n",
              "</div>\n",
              "      <button class=\"colab-df-convert\" onclick=\"convertToInteractive('df-33ac05b7-e960-42c4-916f-06810d61a77c')\"\n",
              "              title=\"Convert this dataframe to an interactive table.\"\n",
              "              style=\"display:none;\">\n",
              "        \n",
              "  <svg xmlns=\"http://www.w3.org/2000/svg\" height=\"24px\"viewBox=\"0 0 24 24\"\n",
              "       width=\"24px\">\n",
              "    <path d=\"M0 0h24v24H0V0z\" fill=\"none\"/>\n",
              "    <path d=\"M18.56 5.44l.94 2.06.94-2.06 2.06-.94-2.06-.94-.94-2.06-.94 2.06-2.06.94zm-11 1L8.5 8.5l.94-2.06 2.06-.94-2.06-.94L8.5 2.5l-.94 2.06-2.06.94zm10 10l.94 2.06.94-2.06 2.06-.94-2.06-.94-.94-2.06-.94 2.06-2.06.94z\"/><path d=\"M17.41 7.96l-1.37-1.37c-.4-.4-.92-.59-1.43-.59-.52 0-1.04.2-1.43.59L10.3 9.45l-7.72 7.72c-.78.78-.78 2.05 0 2.83L4 21.41c.39.39.9.59 1.41.59.51 0 1.02-.2 1.41-.59l7.78-7.78 2.81-2.81c.8-.78.8-2.07 0-2.86zM5.41 20L4 18.59l7.72-7.72 1.47 1.35L5.41 20z\"/>\n",
              "  </svg>\n",
              "      </button>\n",
              "      \n",
              "  <style>\n",
              "    .colab-df-container {\n",
              "      display:flex;\n",
              "      flex-wrap:wrap;\n",
              "      gap: 12px;\n",
              "    }\n",
              "\n",
              "    .colab-df-convert {\n",
              "      background-color: #E8F0FE;\n",
              "      border: none;\n",
              "      border-radius: 50%;\n",
              "      cursor: pointer;\n",
              "      display: none;\n",
              "      fill: #1967D2;\n",
              "      height: 32px;\n",
              "      padding: 0 0 0 0;\n",
              "      width: 32px;\n",
              "    }\n",
              "\n",
              "    .colab-df-convert:hover {\n",
              "      background-color: #E2EBFA;\n",
              "      box-shadow: 0px 1px 2px rgba(60, 64, 67, 0.3), 0px 1px 3px 1px rgba(60, 64, 67, 0.15);\n",
              "      fill: #174EA6;\n",
              "    }\n",
              "\n",
              "    [theme=dark] .colab-df-convert {\n",
              "      background-color: #3B4455;\n",
              "      fill: #D2E3FC;\n",
              "    }\n",
              "\n",
              "    [theme=dark] .colab-df-convert:hover {\n",
              "      background-color: #434B5C;\n",
              "      box-shadow: 0px 1px 3px 1px rgba(0, 0, 0, 0.15);\n",
              "      filter: drop-shadow(0px 1px 2px rgba(0, 0, 0, 0.3));\n",
              "      fill: #FFFFFF;\n",
              "    }\n",
              "  </style>\n",
              "\n",
              "      <script>\n",
              "        const buttonEl =\n",
              "          document.querySelector('#df-33ac05b7-e960-42c4-916f-06810d61a77c button.colab-df-convert');\n",
              "        buttonEl.style.display =\n",
              "          google.colab.kernel.accessAllowed ? 'block' : 'none';\n",
              "\n",
              "        async function convertToInteractive(key) {\n",
              "          const element = document.querySelector('#df-33ac05b7-e960-42c4-916f-06810d61a77c');\n",
              "          const dataTable =\n",
              "            await google.colab.kernel.invokeFunction('convertToInteractive',\n",
              "                                                     [key], {});\n",
              "          if (!dataTable) return;\n",
              "\n",
              "          const docLinkHtml = 'Like what you see? Visit the ' +\n",
              "            '<a target=\"_blank\" href=https://colab.research.google.com/notebooks/data_table.ipynb>data table notebook</a>'\n",
              "            + ' to learn more about interactive tables.';\n",
              "          element.innerHTML = '';\n",
              "          dataTable['output_type'] = 'display_data';\n",
              "          await google.colab.output.renderOutput(dataTable, element);\n",
              "          const docLink = document.createElement('div');\n",
              "          docLink.innerHTML = docLinkHtml;\n",
              "          element.appendChild(docLink);\n",
              "        }\n",
              "      </script>\n",
              "    </div>\n",
              "  </div>\n",
              "  "
            ]
          },
          "metadata": {},
          "execution_count": 38
        }
      ],
      "source": [
        "# объединю общую таблицу data с таблицей интернет-трафика\n",
        "data = data.merge(df_internet_sum, on=['user_id','month'], how='outer')\n",
        "data.head()"
      ]
    },
    {
      "cell_type": "code",
      "execution_count": 39,
      "metadata": {
        "colab": {
          "base_uri": "https://localhost:8080/",
          "height": 206
        },
        "id": "CQGu6LSt5Dpm",
        "outputId": "948e66e5-fea0-4ffa-a38d-e490d6a6e81b"
      },
      "outputs": [
        {
          "output_type": "execute_result",
          "data": {
            "text/plain": [
              "   user_id  month  calls_count  calls_sum  messages  gb_used\n",
              "0     1000      5         17.0      159.0      22.0      3.0\n",
              "1     1000      6         28.0      172.0      60.0     23.0\n",
              "2     1000      7         41.0      340.0      75.0     14.0\n",
              "3     1000      8         42.0      408.0      81.0     14.0\n",
              "4     1000      9         46.0      466.0      57.0     15.0"
            ],
            "text/html": [
              "\n",
              "  <div id=\"df-97ef1f52-e2f9-4d85-904b-b07815ec4650\">\n",
              "    <div class=\"colab-df-container\">\n",
              "      <div>\n",
              "<style scoped>\n",
              "    .dataframe tbody tr th:only-of-type {\n",
              "        vertical-align: middle;\n",
              "    }\n",
              "\n",
              "    .dataframe tbody tr th {\n",
              "        vertical-align: top;\n",
              "    }\n",
              "\n",
              "    .dataframe thead th {\n",
              "        text-align: right;\n",
              "    }\n",
              "</style>\n",
              "<table border=\"1\" class=\"dataframe\">\n",
              "  <thead>\n",
              "    <tr style=\"text-align: right;\">\n",
              "      <th></th>\n",
              "      <th>user_id</th>\n",
              "      <th>month</th>\n",
              "      <th>calls_count</th>\n",
              "      <th>calls_sum</th>\n",
              "      <th>messages</th>\n",
              "      <th>gb_used</th>\n",
              "    </tr>\n",
              "  </thead>\n",
              "  <tbody>\n",
              "    <tr>\n",
              "      <th>0</th>\n",
              "      <td>1000</td>\n",
              "      <td>5</td>\n",
              "      <td>17.0</td>\n",
              "      <td>159.0</td>\n",
              "      <td>22.0</td>\n",
              "      <td>3.0</td>\n",
              "    </tr>\n",
              "    <tr>\n",
              "      <th>1</th>\n",
              "      <td>1000</td>\n",
              "      <td>6</td>\n",
              "      <td>28.0</td>\n",
              "      <td>172.0</td>\n",
              "      <td>60.0</td>\n",
              "      <td>23.0</td>\n",
              "    </tr>\n",
              "    <tr>\n",
              "      <th>2</th>\n",
              "      <td>1000</td>\n",
              "      <td>7</td>\n",
              "      <td>41.0</td>\n",
              "      <td>340.0</td>\n",
              "      <td>75.0</td>\n",
              "      <td>14.0</td>\n",
              "    </tr>\n",
              "    <tr>\n",
              "      <th>3</th>\n",
              "      <td>1000</td>\n",
              "      <td>8</td>\n",
              "      <td>42.0</td>\n",
              "      <td>408.0</td>\n",
              "      <td>81.0</td>\n",
              "      <td>14.0</td>\n",
              "    </tr>\n",
              "    <tr>\n",
              "      <th>4</th>\n",
              "      <td>1000</td>\n",
              "      <td>9</td>\n",
              "      <td>46.0</td>\n",
              "      <td>466.0</td>\n",
              "      <td>57.0</td>\n",
              "      <td>15.0</td>\n",
              "    </tr>\n",
              "  </tbody>\n",
              "</table>\n",
              "</div>\n",
              "      <button class=\"colab-df-convert\" onclick=\"convertToInteractive('df-97ef1f52-e2f9-4d85-904b-b07815ec4650')\"\n",
              "              title=\"Convert this dataframe to an interactive table.\"\n",
              "              style=\"display:none;\">\n",
              "        \n",
              "  <svg xmlns=\"http://www.w3.org/2000/svg\" height=\"24px\"viewBox=\"0 0 24 24\"\n",
              "       width=\"24px\">\n",
              "    <path d=\"M0 0h24v24H0V0z\" fill=\"none\"/>\n",
              "    <path d=\"M18.56 5.44l.94 2.06.94-2.06 2.06-.94-2.06-.94-.94-2.06-.94 2.06-2.06.94zm-11 1L8.5 8.5l.94-2.06 2.06-.94-2.06-.94L8.5 2.5l-.94 2.06-2.06.94zm10 10l.94 2.06.94-2.06 2.06-.94-2.06-.94-.94-2.06-.94 2.06-2.06.94z\"/><path d=\"M17.41 7.96l-1.37-1.37c-.4-.4-.92-.59-1.43-.59-.52 0-1.04.2-1.43.59L10.3 9.45l-7.72 7.72c-.78.78-.78 2.05 0 2.83L4 21.41c.39.39.9.59 1.41.59.51 0 1.02-.2 1.41-.59l7.78-7.78 2.81-2.81c.8-.78.8-2.07 0-2.86zM5.41 20L4 18.59l7.72-7.72 1.47 1.35L5.41 20z\"/>\n",
              "  </svg>\n",
              "      </button>\n",
              "      \n",
              "  <style>\n",
              "    .colab-df-container {\n",
              "      display:flex;\n",
              "      flex-wrap:wrap;\n",
              "      gap: 12px;\n",
              "    }\n",
              "\n",
              "    .colab-df-convert {\n",
              "      background-color: #E8F0FE;\n",
              "      border: none;\n",
              "      border-radius: 50%;\n",
              "      cursor: pointer;\n",
              "      display: none;\n",
              "      fill: #1967D2;\n",
              "      height: 32px;\n",
              "      padding: 0 0 0 0;\n",
              "      width: 32px;\n",
              "    }\n",
              "\n",
              "    .colab-df-convert:hover {\n",
              "      background-color: #E2EBFA;\n",
              "      box-shadow: 0px 1px 2px rgba(60, 64, 67, 0.3), 0px 1px 3px 1px rgba(60, 64, 67, 0.15);\n",
              "      fill: #174EA6;\n",
              "    }\n",
              "\n",
              "    [theme=dark] .colab-df-convert {\n",
              "      background-color: #3B4455;\n",
              "      fill: #D2E3FC;\n",
              "    }\n",
              "\n",
              "    [theme=dark] .colab-df-convert:hover {\n",
              "      background-color: #434B5C;\n",
              "      box-shadow: 0px 1px 3px 1px rgba(0, 0, 0, 0.15);\n",
              "      filter: drop-shadow(0px 1px 2px rgba(0, 0, 0, 0.3));\n",
              "      fill: #FFFFFF;\n",
              "    }\n",
              "  </style>\n",
              "\n",
              "      <script>\n",
              "        const buttonEl =\n",
              "          document.querySelector('#df-97ef1f52-e2f9-4d85-904b-b07815ec4650 button.colab-df-convert');\n",
              "        buttonEl.style.display =\n",
              "          google.colab.kernel.accessAllowed ? 'block' : 'none';\n",
              "\n",
              "        async function convertToInteractive(key) {\n",
              "          const element = document.querySelector('#df-97ef1f52-e2f9-4d85-904b-b07815ec4650');\n",
              "          const dataTable =\n",
              "            await google.colab.kernel.invokeFunction('convertToInteractive',\n",
              "                                                     [key], {});\n",
              "          if (!dataTable) return;\n",
              "\n",
              "          const docLinkHtml = 'Like what you see? Visit the ' +\n",
              "            '<a target=\"_blank\" href=https://colab.research.google.com/notebooks/data_table.ipynb>data table notebook</a>'\n",
              "            + ' to learn more about interactive tables.';\n",
              "          element.innerHTML = '';\n",
              "          dataTable['output_type'] = 'display_data';\n",
              "          await google.colab.output.renderOutput(dataTable, element);\n",
              "          const docLink = document.createElement('div');\n",
              "          docLink.innerHTML = docLinkHtml;\n",
              "          element.appendChild(docLink);\n",
              "        }\n",
              "      </script>\n",
              "    </div>\n",
              "  </div>\n",
              "  "
            ]
          },
          "metadata": {},
          "execution_count": 39
        }
      ],
      "source": [
        "# переименую столбцы в соответствии с данными в них\n",
        "data.columns = ['user_id', 'month', 'calls_count', 'calls_sum', 'messages', 'gb_used']\n",
        "data.head()"
      ]
    },
    {
      "cell_type": "markdown",
      "metadata": {
        "id": "3F_9AaTr5Dpm"
      },
      "source": [
        "## Обработка данных абонентов"
      ]
    },
    {
      "cell_type": "code",
      "execution_count": 40,
      "metadata": {
        "colab": {
          "base_uri": "https://localhost:8080/",
          "height": 423
        },
        "id": "4Sa_6WCN5Dpn",
        "outputId": "66caebe2-4415-450a-c87c-3644260ccc8c"
      },
      "outputs": [
        {
          "output_type": "execute_result",
          "data": {
            "text/plain": [
              "     user_id  age  churn_date         city first_name  last_name    reg_date  \\\n",
              "0       1000   52         NaN    Краснодар     Рафаил  Верещагин  2018-05-25   \n",
              "1       1001   41         NaN       Москва       Иван       Ежов  2018-11-01   \n",
              "2       1002   59         NaN  Стерлитамак    Евгений  Абрамович  2018-06-17   \n",
              "3       1003   23         NaN       Москва      Белла   Белякова  2018-08-17   \n",
              "4       1004   68         NaN  Новокузнецк    Татьяна   Авдеенко  2018-05-14   \n",
              "..       ...  ...         ...          ...        ...        ...         ...   \n",
              "495     1495   65         NaN      Иркутск  Авксентий      Фокин  2018-08-28   \n",
              "496     1496   36         NaN      Вологда     Трифон     Блохин  2018-01-27   \n",
              "497     1497   32         NaN    Челябинск   Каролина     Агеева  2018-10-09   \n",
              "498     1498   68  2018-10-25  Владикавказ   Всеволод    Акимчин  2018-07-19   \n",
              "499     1499   35         NaN        Пермь     Гектор   Корнилов  2018-09-27   \n",
              "\n",
              "    tariff  \n",
              "0    ultra  \n",
              "1    smart  \n",
              "2    smart  \n",
              "3    ultra  \n",
              "4    ultra  \n",
              "..     ...  \n",
              "495  ultra  \n",
              "496  smart  \n",
              "497  smart  \n",
              "498  smart  \n",
              "499  smart  \n",
              "\n",
              "[500 rows x 8 columns]"
            ],
            "text/html": [
              "\n",
              "  <div id=\"df-6caa0e32-911c-40e0-ad5f-1085ee5b7578\">\n",
              "    <div class=\"colab-df-container\">\n",
              "      <div>\n",
              "<style scoped>\n",
              "    .dataframe tbody tr th:only-of-type {\n",
              "        vertical-align: middle;\n",
              "    }\n",
              "\n",
              "    .dataframe tbody tr th {\n",
              "        vertical-align: top;\n",
              "    }\n",
              "\n",
              "    .dataframe thead th {\n",
              "        text-align: right;\n",
              "    }\n",
              "</style>\n",
              "<table border=\"1\" class=\"dataframe\">\n",
              "  <thead>\n",
              "    <tr style=\"text-align: right;\">\n",
              "      <th></th>\n",
              "      <th>user_id</th>\n",
              "      <th>age</th>\n",
              "      <th>churn_date</th>\n",
              "      <th>city</th>\n",
              "      <th>first_name</th>\n",
              "      <th>last_name</th>\n",
              "      <th>reg_date</th>\n",
              "      <th>tariff</th>\n",
              "    </tr>\n",
              "  </thead>\n",
              "  <tbody>\n",
              "    <tr>\n",
              "      <th>0</th>\n",
              "      <td>1000</td>\n",
              "      <td>52</td>\n",
              "      <td>NaN</td>\n",
              "      <td>Краснодар</td>\n",
              "      <td>Рафаил</td>\n",
              "      <td>Верещагин</td>\n",
              "      <td>2018-05-25</td>\n",
              "      <td>ultra</td>\n",
              "    </tr>\n",
              "    <tr>\n",
              "      <th>1</th>\n",
              "      <td>1001</td>\n",
              "      <td>41</td>\n",
              "      <td>NaN</td>\n",
              "      <td>Москва</td>\n",
              "      <td>Иван</td>\n",
              "      <td>Ежов</td>\n",
              "      <td>2018-11-01</td>\n",
              "      <td>smart</td>\n",
              "    </tr>\n",
              "    <tr>\n",
              "      <th>2</th>\n",
              "      <td>1002</td>\n",
              "      <td>59</td>\n",
              "      <td>NaN</td>\n",
              "      <td>Стерлитамак</td>\n",
              "      <td>Евгений</td>\n",
              "      <td>Абрамович</td>\n",
              "      <td>2018-06-17</td>\n",
              "      <td>smart</td>\n",
              "    </tr>\n",
              "    <tr>\n",
              "      <th>3</th>\n",
              "      <td>1003</td>\n",
              "      <td>23</td>\n",
              "      <td>NaN</td>\n",
              "      <td>Москва</td>\n",
              "      <td>Белла</td>\n",
              "      <td>Белякова</td>\n",
              "      <td>2018-08-17</td>\n",
              "      <td>ultra</td>\n",
              "    </tr>\n",
              "    <tr>\n",
              "      <th>4</th>\n",
              "      <td>1004</td>\n",
              "      <td>68</td>\n",
              "      <td>NaN</td>\n",
              "      <td>Новокузнецк</td>\n",
              "      <td>Татьяна</td>\n",
              "      <td>Авдеенко</td>\n",
              "      <td>2018-05-14</td>\n",
              "      <td>ultra</td>\n",
              "    </tr>\n",
              "    <tr>\n",
              "      <th>...</th>\n",
              "      <td>...</td>\n",
              "      <td>...</td>\n",
              "      <td>...</td>\n",
              "      <td>...</td>\n",
              "      <td>...</td>\n",
              "      <td>...</td>\n",
              "      <td>...</td>\n",
              "      <td>...</td>\n",
              "    </tr>\n",
              "    <tr>\n",
              "      <th>495</th>\n",
              "      <td>1495</td>\n",
              "      <td>65</td>\n",
              "      <td>NaN</td>\n",
              "      <td>Иркутск</td>\n",
              "      <td>Авксентий</td>\n",
              "      <td>Фокин</td>\n",
              "      <td>2018-08-28</td>\n",
              "      <td>ultra</td>\n",
              "    </tr>\n",
              "    <tr>\n",
              "      <th>496</th>\n",
              "      <td>1496</td>\n",
              "      <td>36</td>\n",
              "      <td>NaN</td>\n",
              "      <td>Вологда</td>\n",
              "      <td>Трифон</td>\n",
              "      <td>Блохин</td>\n",
              "      <td>2018-01-27</td>\n",
              "      <td>smart</td>\n",
              "    </tr>\n",
              "    <tr>\n",
              "      <th>497</th>\n",
              "      <td>1497</td>\n",
              "      <td>32</td>\n",
              "      <td>NaN</td>\n",
              "      <td>Челябинск</td>\n",
              "      <td>Каролина</td>\n",
              "      <td>Агеева</td>\n",
              "      <td>2018-10-09</td>\n",
              "      <td>smart</td>\n",
              "    </tr>\n",
              "    <tr>\n",
              "      <th>498</th>\n",
              "      <td>1498</td>\n",
              "      <td>68</td>\n",
              "      <td>2018-10-25</td>\n",
              "      <td>Владикавказ</td>\n",
              "      <td>Всеволод</td>\n",
              "      <td>Акимчин</td>\n",
              "      <td>2018-07-19</td>\n",
              "      <td>smart</td>\n",
              "    </tr>\n",
              "    <tr>\n",
              "      <th>499</th>\n",
              "      <td>1499</td>\n",
              "      <td>35</td>\n",
              "      <td>NaN</td>\n",
              "      <td>Пермь</td>\n",
              "      <td>Гектор</td>\n",
              "      <td>Корнилов</td>\n",
              "      <td>2018-09-27</td>\n",
              "      <td>smart</td>\n",
              "    </tr>\n",
              "  </tbody>\n",
              "</table>\n",
              "<p>500 rows × 8 columns</p>\n",
              "</div>\n",
              "      <button class=\"colab-df-convert\" onclick=\"convertToInteractive('df-6caa0e32-911c-40e0-ad5f-1085ee5b7578')\"\n",
              "              title=\"Convert this dataframe to an interactive table.\"\n",
              "              style=\"display:none;\">\n",
              "        \n",
              "  <svg xmlns=\"http://www.w3.org/2000/svg\" height=\"24px\"viewBox=\"0 0 24 24\"\n",
              "       width=\"24px\">\n",
              "    <path d=\"M0 0h24v24H0V0z\" fill=\"none\"/>\n",
              "    <path d=\"M18.56 5.44l.94 2.06.94-2.06 2.06-.94-2.06-.94-.94-2.06-.94 2.06-2.06.94zm-11 1L8.5 8.5l.94-2.06 2.06-.94-2.06-.94L8.5 2.5l-.94 2.06-2.06.94zm10 10l.94 2.06.94-2.06 2.06-.94-2.06-.94-.94-2.06-.94 2.06-2.06.94z\"/><path d=\"M17.41 7.96l-1.37-1.37c-.4-.4-.92-.59-1.43-.59-.52 0-1.04.2-1.43.59L10.3 9.45l-7.72 7.72c-.78.78-.78 2.05 0 2.83L4 21.41c.39.39.9.59 1.41.59.51 0 1.02-.2 1.41-.59l7.78-7.78 2.81-2.81c.8-.78.8-2.07 0-2.86zM5.41 20L4 18.59l7.72-7.72 1.47 1.35L5.41 20z\"/>\n",
              "  </svg>\n",
              "      </button>\n",
              "      \n",
              "  <style>\n",
              "    .colab-df-container {\n",
              "      display:flex;\n",
              "      flex-wrap:wrap;\n",
              "      gap: 12px;\n",
              "    }\n",
              "\n",
              "    .colab-df-convert {\n",
              "      background-color: #E8F0FE;\n",
              "      border: none;\n",
              "      border-radius: 50%;\n",
              "      cursor: pointer;\n",
              "      display: none;\n",
              "      fill: #1967D2;\n",
              "      height: 32px;\n",
              "      padding: 0 0 0 0;\n",
              "      width: 32px;\n",
              "    }\n",
              "\n",
              "    .colab-df-convert:hover {\n",
              "      background-color: #E2EBFA;\n",
              "      box-shadow: 0px 1px 2px rgba(60, 64, 67, 0.3), 0px 1px 3px 1px rgba(60, 64, 67, 0.15);\n",
              "      fill: #174EA6;\n",
              "    }\n",
              "\n",
              "    [theme=dark] .colab-df-convert {\n",
              "      background-color: #3B4455;\n",
              "      fill: #D2E3FC;\n",
              "    }\n",
              "\n",
              "    [theme=dark] .colab-df-convert:hover {\n",
              "      background-color: #434B5C;\n",
              "      box-shadow: 0px 1px 3px 1px rgba(0, 0, 0, 0.15);\n",
              "      filter: drop-shadow(0px 1px 2px rgba(0, 0, 0, 0.3));\n",
              "      fill: #FFFFFF;\n",
              "    }\n",
              "  </style>\n",
              "\n",
              "      <script>\n",
              "        const buttonEl =\n",
              "          document.querySelector('#df-6caa0e32-911c-40e0-ad5f-1085ee5b7578 button.colab-df-convert');\n",
              "        buttonEl.style.display =\n",
              "          google.colab.kernel.accessAllowed ? 'block' : 'none';\n",
              "\n",
              "        async function convertToInteractive(key) {\n",
              "          const element = document.querySelector('#df-6caa0e32-911c-40e0-ad5f-1085ee5b7578');\n",
              "          const dataTable =\n",
              "            await google.colab.kernel.invokeFunction('convertToInteractive',\n",
              "                                                     [key], {});\n",
              "          if (!dataTable) return;\n",
              "\n",
              "          const docLinkHtml = 'Like what you see? Visit the ' +\n",
              "            '<a target=\"_blank\" href=https://colab.research.google.com/notebooks/data_table.ipynb>data table notebook</a>'\n",
              "            + ' to learn more about interactive tables.';\n",
              "          element.innerHTML = '';\n",
              "          dataTable['output_type'] = 'display_data';\n",
              "          await google.colab.output.renderOutput(dataTable, element);\n",
              "          const docLink = document.createElement('div');\n",
              "          docLink.innerHTML = docLinkHtml;\n",
              "          element.appendChild(docLink);\n",
              "        }\n",
              "      </script>\n",
              "    </div>\n",
              "  </div>\n",
              "  "
            ]
          },
          "metadata": {},
          "execution_count": 40
        }
      ],
      "source": [
        "df_users"
      ]
    },
    {
      "cell_type": "markdown",
      "metadata": {
        "id": "RwXmOu_R5Dpn"
      },
      "source": [
        "В названиях всех столбцов таблицы df_users используются английские слова, строчные буквы, змеиный регистр. Видимых нарушений стиля нет. Дубликатов нет."
      ]
    },
    {
      "cell_type": "code",
      "execution_count": 41,
      "metadata": {
        "colab": {
          "base_uri": "https://localhost:8080/",
          "height": 206
        },
        "id": "KqkH6zXe5Dpo",
        "outputId": "1863957c-bb53-46e6-82ae-60343caabd85"
      },
      "outputs": [
        {
          "output_type": "execute_result",
          "data": {
            "text/plain": [
              "   user_id  month  calls_count  calls_sum  messages  gb_used       city tariff\n",
              "0     1000    5.0         17.0      159.0      22.0      3.0  Краснодар  ultra\n",
              "1     1000    6.0         28.0      172.0      60.0     23.0  Краснодар  ultra\n",
              "2     1000    7.0         41.0      340.0      75.0     14.0  Краснодар  ultra\n",
              "3     1000    8.0         42.0      408.0      81.0     14.0  Краснодар  ultra\n",
              "4     1000    9.0         46.0      466.0      57.0     15.0  Краснодар  ultra"
            ],
            "text/html": [
              "\n",
              "  <div id=\"df-a3d6c616-0eb6-4f07-b257-0916678babda\">\n",
              "    <div class=\"colab-df-container\">\n",
              "      <div>\n",
              "<style scoped>\n",
              "    .dataframe tbody tr th:only-of-type {\n",
              "        vertical-align: middle;\n",
              "    }\n",
              "\n",
              "    .dataframe tbody tr th {\n",
              "        vertical-align: top;\n",
              "    }\n",
              "\n",
              "    .dataframe thead th {\n",
              "        text-align: right;\n",
              "    }\n",
              "</style>\n",
              "<table border=\"1\" class=\"dataframe\">\n",
              "  <thead>\n",
              "    <tr style=\"text-align: right;\">\n",
              "      <th></th>\n",
              "      <th>user_id</th>\n",
              "      <th>month</th>\n",
              "      <th>calls_count</th>\n",
              "      <th>calls_sum</th>\n",
              "      <th>messages</th>\n",
              "      <th>gb_used</th>\n",
              "      <th>city</th>\n",
              "      <th>tariff</th>\n",
              "    </tr>\n",
              "  </thead>\n",
              "  <tbody>\n",
              "    <tr>\n",
              "      <th>0</th>\n",
              "      <td>1000</td>\n",
              "      <td>5.0</td>\n",
              "      <td>17.0</td>\n",
              "      <td>159.0</td>\n",
              "      <td>22.0</td>\n",
              "      <td>3.0</td>\n",
              "      <td>Краснодар</td>\n",
              "      <td>ultra</td>\n",
              "    </tr>\n",
              "    <tr>\n",
              "      <th>1</th>\n",
              "      <td>1000</td>\n",
              "      <td>6.0</td>\n",
              "      <td>28.0</td>\n",
              "      <td>172.0</td>\n",
              "      <td>60.0</td>\n",
              "      <td>23.0</td>\n",
              "      <td>Краснодар</td>\n",
              "      <td>ultra</td>\n",
              "    </tr>\n",
              "    <tr>\n",
              "      <th>2</th>\n",
              "      <td>1000</td>\n",
              "      <td>7.0</td>\n",
              "      <td>41.0</td>\n",
              "      <td>340.0</td>\n",
              "      <td>75.0</td>\n",
              "      <td>14.0</td>\n",
              "      <td>Краснодар</td>\n",
              "      <td>ultra</td>\n",
              "    </tr>\n",
              "    <tr>\n",
              "      <th>3</th>\n",
              "      <td>1000</td>\n",
              "      <td>8.0</td>\n",
              "      <td>42.0</td>\n",
              "      <td>408.0</td>\n",
              "      <td>81.0</td>\n",
              "      <td>14.0</td>\n",
              "      <td>Краснодар</td>\n",
              "      <td>ultra</td>\n",
              "    </tr>\n",
              "    <tr>\n",
              "      <th>4</th>\n",
              "      <td>1000</td>\n",
              "      <td>9.0</td>\n",
              "      <td>46.0</td>\n",
              "      <td>466.0</td>\n",
              "      <td>57.0</td>\n",
              "      <td>15.0</td>\n",
              "      <td>Краснодар</td>\n",
              "      <td>ultra</td>\n",
              "    </tr>\n",
              "  </tbody>\n",
              "</table>\n",
              "</div>\n",
              "      <button class=\"colab-df-convert\" onclick=\"convertToInteractive('df-a3d6c616-0eb6-4f07-b257-0916678babda')\"\n",
              "              title=\"Convert this dataframe to an interactive table.\"\n",
              "              style=\"display:none;\">\n",
              "        \n",
              "  <svg xmlns=\"http://www.w3.org/2000/svg\" height=\"24px\"viewBox=\"0 0 24 24\"\n",
              "       width=\"24px\">\n",
              "    <path d=\"M0 0h24v24H0V0z\" fill=\"none\"/>\n",
              "    <path d=\"M18.56 5.44l.94 2.06.94-2.06 2.06-.94-2.06-.94-.94-2.06-.94 2.06-2.06.94zm-11 1L8.5 8.5l.94-2.06 2.06-.94-2.06-.94L8.5 2.5l-.94 2.06-2.06.94zm10 10l.94 2.06.94-2.06 2.06-.94-2.06-.94-.94-2.06-.94 2.06-2.06.94z\"/><path d=\"M17.41 7.96l-1.37-1.37c-.4-.4-.92-.59-1.43-.59-.52 0-1.04.2-1.43.59L10.3 9.45l-7.72 7.72c-.78.78-.78 2.05 0 2.83L4 21.41c.39.39.9.59 1.41.59.51 0 1.02-.2 1.41-.59l7.78-7.78 2.81-2.81c.8-.78.8-2.07 0-2.86zM5.41 20L4 18.59l7.72-7.72 1.47 1.35L5.41 20z\"/>\n",
              "  </svg>\n",
              "      </button>\n",
              "      \n",
              "  <style>\n",
              "    .colab-df-container {\n",
              "      display:flex;\n",
              "      flex-wrap:wrap;\n",
              "      gap: 12px;\n",
              "    }\n",
              "\n",
              "    .colab-df-convert {\n",
              "      background-color: #E8F0FE;\n",
              "      border: none;\n",
              "      border-radius: 50%;\n",
              "      cursor: pointer;\n",
              "      display: none;\n",
              "      fill: #1967D2;\n",
              "      height: 32px;\n",
              "      padding: 0 0 0 0;\n",
              "      width: 32px;\n",
              "    }\n",
              "\n",
              "    .colab-df-convert:hover {\n",
              "      background-color: #E2EBFA;\n",
              "      box-shadow: 0px 1px 2px rgba(60, 64, 67, 0.3), 0px 1px 3px 1px rgba(60, 64, 67, 0.15);\n",
              "      fill: #174EA6;\n",
              "    }\n",
              "\n",
              "    [theme=dark] .colab-df-convert {\n",
              "      background-color: #3B4455;\n",
              "      fill: #D2E3FC;\n",
              "    }\n",
              "\n",
              "    [theme=dark] .colab-df-convert:hover {\n",
              "      background-color: #434B5C;\n",
              "      box-shadow: 0px 1px 3px 1px rgba(0, 0, 0, 0.15);\n",
              "      filter: drop-shadow(0px 1px 2px rgba(0, 0, 0, 0.3));\n",
              "      fill: #FFFFFF;\n",
              "    }\n",
              "  </style>\n",
              "\n",
              "      <script>\n",
              "        const buttonEl =\n",
              "          document.querySelector('#df-a3d6c616-0eb6-4f07-b257-0916678babda button.colab-df-convert');\n",
              "        buttonEl.style.display =\n",
              "          google.colab.kernel.accessAllowed ? 'block' : 'none';\n",
              "\n",
              "        async function convertToInteractive(key) {\n",
              "          const element = document.querySelector('#df-a3d6c616-0eb6-4f07-b257-0916678babda');\n",
              "          const dataTable =\n",
              "            await google.colab.kernel.invokeFunction('convertToInteractive',\n",
              "                                                     [key], {});\n",
              "          if (!dataTable) return;\n",
              "\n",
              "          const docLinkHtml = 'Like what you see? Visit the ' +\n",
              "            '<a target=\"_blank\" href=https://colab.research.google.com/notebooks/data_table.ipynb>data table notebook</a>'\n",
              "            + ' to learn more about interactive tables.';\n",
              "          element.innerHTML = '';\n",
              "          dataTable['output_type'] = 'display_data';\n",
              "          await google.colab.output.renderOutput(dataTable, element);\n",
              "          const docLink = document.createElement('div');\n",
              "          docLink.innerHTML = docLinkHtml;\n",
              "          element.appendChild(docLink);\n",
              "        }\n",
              "      </script>\n",
              "    </div>\n",
              "  </div>\n",
              "  "
            ]
          },
          "metadata": {},
          "execution_count": 41
        }
      ],
      "source": [
        "# Добавлю в общую таблицу data столбцы информацией о городе и тарифе клиента\n",
        "df_users_cut = df_users[['user_id', 'city', 'tariff']]\n",
        "data = data.merge(df_users_cut, on=['user_id'], how='outer')\n",
        "data.head()"
      ]
    },
    {
      "cell_type": "code",
      "execution_count": 42,
      "metadata": {
        "colab": {
          "base_uri": "https://localhost:8080/",
          "height": 112
        },
        "id": "aLwBjBX35Dpo",
        "outputId": "222db74f-583c-4397-83c4-795ecc4946af"
      },
      "outputs": [
        {
          "output_type": "execute_result",
          "data": {
            "text/plain": [
              "   messages_included  mb_per_month_included  minutes_included  \\\n",
              "0                 50                  15360               500   \n",
              "1               1000                  30720              3000   \n",
              "\n",
              "   rub_monthly_fee  rub_per_gb  rub_per_message  rub_per_minute tariff_name  \n",
              "0              550         200                3               3       smart  \n",
              "1             1950         150                1               1       ultra  "
            ],
            "text/html": [
              "\n",
              "  <div id=\"df-6aa0bbf0-fd49-49ad-aa02-5b9f87227d7b\">\n",
              "    <div class=\"colab-df-container\">\n",
              "      <div>\n",
              "<style scoped>\n",
              "    .dataframe tbody tr th:only-of-type {\n",
              "        vertical-align: middle;\n",
              "    }\n",
              "\n",
              "    .dataframe tbody tr th {\n",
              "        vertical-align: top;\n",
              "    }\n",
              "\n",
              "    .dataframe thead th {\n",
              "        text-align: right;\n",
              "    }\n",
              "</style>\n",
              "<table border=\"1\" class=\"dataframe\">\n",
              "  <thead>\n",
              "    <tr style=\"text-align: right;\">\n",
              "      <th></th>\n",
              "      <th>messages_included</th>\n",
              "      <th>mb_per_month_included</th>\n",
              "      <th>minutes_included</th>\n",
              "      <th>rub_monthly_fee</th>\n",
              "      <th>rub_per_gb</th>\n",
              "      <th>rub_per_message</th>\n",
              "      <th>rub_per_minute</th>\n",
              "      <th>tariff_name</th>\n",
              "    </tr>\n",
              "  </thead>\n",
              "  <tbody>\n",
              "    <tr>\n",
              "      <th>0</th>\n",
              "      <td>50</td>\n",
              "      <td>15360</td>\n",
              "      <td>500</td>\n",
              "      <td>550</td>\n",
              "      <td>200</td>\n",
              "      <td>3</td>\n",
              "      <td>3</td>\n",
              "      <td>smart</td>\n",
              "    </tr>\n",
              "    <tr>\n",
              "      <th>1</th>\n",
              "      <td>1000</td>\n",
              "      <td>30720</td>\n",
              "      <td>3000</td>\n",
              "      <td>1950</td>\n",
              "      <td>150</td>\n",
              "      <td>1</td>\n",
              "      <td>1</td>\n",
              "      <td>ultra</td>\n",
              "    </tr>\n",
              "  </tbody>\n",
              "</table>\n",
              "</div>\n",
              "      <button class=\"colab-df-convert\" onclick=\"convertToInteractive('df-6aa0bbf0-fd49-49ad-aa02-5b9f87227d7b')\"\n",
              "              title=\"Convert this dataframe to an interactive table.\"\n",
              "              style=\"display:none;\">\n",
              "        \n",
              "  <svg xmlns=\"http://www.w3.org/2000/svg\" height=\"24px\"viewBox=\"0 0 24 24\"\n",
              "       width=\"24px\">\n",
              "    <path d=\"M0 0h24v24H0V0z\" fill=\"none\"/>\n",
              "    <path d=\"M18.56 5.44l.94 2.06.94-2.06 2.06-.94-2.06-.94-.94-2.06-.94 2.06-2.06.94zm-11 1L8.5 8.5l.94-2.06 2.06-.94-2.06-.94L8.5 2.5l-.94 2.06-2.06.94zm10 10l.94 2.06.94-2.06 2.06-.94-2.06-.94-.94-2.06-.94 2.06-2.06.94z\"/><path d=\"M17.41 7.96l-1.37-1.37c-.4-.4-.92-.59-1.43-.59-.52 0-1.04.2-1.43.59L10.3 9.45l-7.72 7.72c-.78.78-.78 2.05 0 2.83L4 21.41c.39.39.9.59 1.41.59.51 0 1.02-.2 1.41-.59l7.78-7.78 2.81-2.81c.8-.78.8-2.07 0-2.86zM5.41 20L4 18.59l7.72-7.72 1.47 1.35L5.41 20z\"/>\n",
              "  </svg>\n",
              "      </button>\n",
              "      \n",
              "  <style>\n",
              "    .colab-df-container {\n",
              "      display:flex;\n",
              "      flex-wrap:wrap;\n",
              "      gap: 12px;\n",
              "    }\n",
              "\n",
              "    .colab-df-convert {\n",
              "      background-color: #E8F0FE;\n",
              "      border: none;\n",
              "      border-radius: 50%;\n",
              "      cursor: pointer;\n",
              "      display: none;\n",
              "      fill: #1967D2;\n",
              "      height: 32px;\n",
              "      padding: 0 0 0 0;\n",
              "      width: 32px;\n",
              "    }\n",
              "\n",
              "    .colab-df-convert:hover {\n",
              "      background-color: #E2EBFA;\n",
              "      box-shadow: 0px 1px 2px rgba(60, 64, 67, 0.3), 0px 1px 3px 1px rgba(60, 64, 67, 0.15);\n",
              "      fill: #174EA6;\n",
              "    }\n",
              "\n",
              "    [theme=dark] .colab-df-convert {\n",
              "      background-color: #3B4455;\n",
              "      fill: #D2E3FC;\n",
              "    }\n",
              "\n",
              "    [theme=dark] .colab-df-convert:hover {\n",
              "      background-color: #434B5C;\n",
              "      box-shadow: 0px 1px 3px 1px rgba(0, 0, 0, 0.15);\n",
              "      filter: drop-shadow(0px 1px 2px rgba(0, 0, 0, 0.3));\n",
              "      fill: #FFFFFF;\n",
              "    }\n",
              "  </style>\n",
              "\n",
              "      <script>\n",
              "        const buttonEl =\n",
              "          document.querySelector('#df-6aa0bbf0-fd49-49ad-aa02-5b9f87227d7b button.colab-df-convert');\n",
              "        buttonEl.style.display =\n",
              "          google.colab.kernel.accessAllowed ? 'block' : 'none';\n",
              "\n",
              "        async function convertToInteractive(key) {\n",
              "          const element = document.querySelector('#df-6aa0bbf0-fd49-49ad-aa02-5b9f87227d7b');\n",
              "          const dataTable =\n",
              "            await google.colab.kernel.invokeFunction('convertToInteractive',\n",
              "                                                     [key], {});\n",
              "          if (!dataTable) return;\n",
              "\n",
              "          const docLinkHtml = 'Like what you see? Visit the ' +\n",
              "            '<a target=\"_blank\" href=https://colab.research.google.com/notebooks/data_table.ipynb>data table notebook</a>'\n",
              "            + ' to learn more about interactive tables.';\n",
              "          element.innerHTML = '';\n",
              "          dataTable['output_type'] = 'display_data';\n",
              "          await google.colab.output.renderOutput(dataTable, element);\n",
              "          const docLink = document.createElement('div');\n",
              "          docLink.innerHTML = docLinkHtml;\n",
              "          element.appendChild(docLink);\n",
              "        }\n",
              "      </script>\n",
              "    </div>\n",
              "  </div>\n",
              "  "
            ]
          },
          "metadata": {},
          "execution_count": 42
        }
      ],
      "source": [
        "# просмотрю таблицу с тарифами\n",
        "df_tariffs"
      ]
    },
    {
      "cell_type": "code",
      "execution_count": 43,
      "metadata": {
        "colab": {
          "base_uri": "https://localhost:8080/",
          "height": 112
        },
        "id": "Rrww71Up5Dpp",
        "outputId": "ac104300-2481-4fbc-be48-38da3e1d8c63"
      },
      "outputs": [
        {
          "output_type": "execute_result",
          "data": {
            "text/plain": [
              "   messages_included  mb_per_month_included  minutes_included  \\\n",
              "0                 50                  15360               500   \n",
              "1               1000                  30720              3000   \n",
              "\n",
              "   rub_monthly_fee  rub_per_gb  rub_per_message  rub_per_minute tariff  \n",
              "0              550         200                3               3  smart  \n",
              "1             1950         150                1               1  ultra  "
            ],
            "text/html": [
              "\n",
              "  <div id=\"df-9183b6f9-9266-451b-a33c-d22e331226f3\">\n",
              "    <div class=\"colab-df-container\">\n",
              "      <div>\n",
              "<style scoped>\n",
              "    .dataframe tbody tr th:only-of-type {\n",
              "        vertical-align: middle;\n",
              "    }\n",
              "\n",
              "    .dataframe tbody tr th {\n",
              "        vertical-align: top;\n",
              "    }\n",
              "\n",
              "    .dataframe thead th {\n",
              "        text-align: right;\n",
              "    }\n",
              "</style>\n",
              "<table border=\"1\" class=\"dataframe\">\n",
              "  <thead>\n",
              "    <tr style=\"text-align: right;\">\n",
              "      <th></th>\n",
              "      <th>messages_included</th>\n",
              "      <th>mb_per_month_included</th>\n",
              "      <th>minutes_included</th>\n",
              "      <th>rub_monthly_fee</th>\n",
              "      <th>rub_per_gb</th>\n",
              "      <th>rub_per_message</th>\n",
              "      <th>rub_per_minute</th>\n",
              "      <th>tariff</th>\n",
              "    </tr>\n",
              "  </thead>\n",
              "  <tbody>\n",
              "    <tr>\n",
              "      <th>0</th>\n",
              "      <td>50</td>\n",
              "      <td>15360</td>\n",
              "      <td>500</td>\n",
              "      <td>550</td>\n",
              "      <td>200</td>\n",
              "      <td>3</td>\n",
              "      <td>3</td>\n",
              "      <td>smart</td>\n",
              "    </tr>\n",
              "    <tr>\n",
              "      <th>1</th>\n",
              "      <td>1000</td>\n",
              "      <td>30720</td>\n",
              "      <td>3000</td>\n",
              "      <td>1950</td>\n",
              "      <td>150</td>\n",
              "      <td>1</td>\n",
              "      <td>1</td>\n",
              "      <td>ultra</td>\n",
              "    </tr>\n",
              "  </tbody>\n",
              "</table>\n",
              "</div>\n",
              "      <button class=\"colab-df-convert\" onclick=\"convertToInteractive('df-9183b6f9-9266-451b-a33c-d22e331226f3')\"\n",
              "              title=\"Convert this dataframe to an interactive table.\"\n",
              "              style=\"display:none;\">\n",
              "        \n",
              "  <svg xmlns=\"http://www.w3.org/2000/svg\" height=\"24px\"viewBox=\"0 0 24 24\"\n",
              "       width=\"24px\">\n",
              "    <path d=\"M0 0h24v24H0V0z\" fill=\"none\"/>\n",
              "    <path d=\"M18.56 5.44l.94 2.06.94-2.06 2.06-.94-2.06-.94-.94-2.06-.94 2.06-2.06.94zm-11 1L8.5 8.5l.94-2.06 2.06-.94-2.06-.94L8.5 2.5l-.94 2.06-2.06.94zm10 10l.94 2.06.94-2.06 2.06-.94-2.06-.94-.94-2.06-.94 2.06-2.06.94z\"/><path d=\"M17.41 7.96l-1.37-1.37c-.4-.4-.92-.59-1.43-.59-.52 0-1.04.2-1.43.59L10.3 9.45l-7.72 7.72c-.78.78-.78 2.05 0 2.83L4 21.41c.39.39.9.59 1.41.59.51 0 1.02-.2 1.41-.59l7.78-7.78 2.81-2.81c.8-.78.8-2.07 0-2.86zM5.41 20L4 18.59l7.72-7.72 1.47 1.35L5.41 20z\"/>\n",
              "  </svg>\n",
              "      </button>\n",
              "      \n",
              "  <style>\n",
              "    .colab-df-container {\n",
              "      display:flex;\n",
              "      flex-wrap:wrap;\n",
              "      gap: 12px;\n",
              "    }\n",
              "\n",
              "    .colab-df-convert {\n",
              "      background-color: #E8F0FE;\n",
              "      border: none;\n",
              "      border-radius: 50%;\n",
              "      cursor: pointer;\n",
              "      display: none;\n",
              "      fill: #1967D2;\n",
              "      height: 32px;\n",
              "      padding: 0 0 0 0;\n",
              "      width: 32px;\n",
              "    }\n",
              "\n",
              "    .colab-df-convert:hover {\n",
              "      background-color: #E2EBFA;\n",
              "      box-shadow: 0px 1px 2px rgba(60, 64, 67, 0.3), 0px 1px 3px 1px rgba(60, 64, 67, 0.15);\n",
              "      fill: #174EA6;\n",
              "    }\n",
              "\n",
              "    [theme=dark] .colab-df-convert {\n",
              "      background-color: #3B4455;\n",
              "      fill: #D2E3FC;\n",
              "    }\n",
              "\n",
              "    [theme=dark] .colab-df-convert:hover {\n",
              "      background-color: #434B5C;\n",
              "      box-shadow: 0px 1px 3px 1px rgba(0, 0, 0, 0.15);\n",
              "      filter: drop-shadow(0px 1px 2px rgba(0, 0, 0, 0.3));\n",
              "      fill: #FFFFFF;\n",
              "    }\n",
              "  </style>\n",
              "\n",
              "      <script>\n",
              "        const buttonEl =\n",
              "          document.querySelector('#df-9183b6f9-9266-451b-a33c-d22e331226f3 button.colab-df-convert');\n",
              "        buttonEl.style.display =\n",
              "          google.colab.kernel.accessAllowed ? 'block' : 'none';\n",
              "\n",
              "        async function convertToInteractive(key) {\n",
              "          const element = document.querySelector('#df-9183b6f9-9266-451b-a33c-d22e331226f3');\n",
              "          const dataTable =\n",
              "            await google.colab.kernel.invokeFunction('convertToInteractive',\n",
              "                                                     [key], {});\n",
              "          if (!dataTable) return;\n",
              "\n",
              "          const docLinkHtml = 'Like what you see? Visit the ' +\n",
              "            '<a target=\"_blank\" href=https://colab.research.google.com/notebooks/data_table.ipynb>data table notebook</a>'\n",
              "            + ' to learn more about interactive tables.';\n",
              "          element.innerHTML = '';\n",
              "          dataTable['output_type'] = 'display_data';\n",
              "          await google.colab.output.renderOutput(dataTable, element);\n",
              "          const docLink = document.createElement('div');\n",
              "          docLink.innerHTML = docLinkHtml;\n",
              "          element.appendChild(docLink);\n",
              "        }\n",
              "      </script>\n",
              "    </div>\n",
              "  </div>\n",
              "  "
            ]
          },
          "metadata": {},
          "execution_count": 43
        }
      ],
      "source": [
        "# переименую столбец tariff_name в tariff для объединения таблиц\n",
        "df_tariffs.rename(columns={\"tariff_name\":\"tariff\"} ,inplace=True)\n",
        "df_tariffs"
      ]
    },
    {
      "cell_type": "code",
      "execution_count": 44,
      "metadata": {
        "colab": {
          "base_uri": "https://localhost:8080/",
          "height": 270
        },
        "id": "VEaSA3BU5Dpp",
        "outputId": "210454ea-ef40-4177-e111-35286855a179"
      },
      "outputs": [
        {
          "output_type": "execute_result",
          "data": {
            "text/plain": [
              "   user_id  month  calls_count  calls_sum  messages  gb_used       city  \\\n",
              "0     1000    5.0         17.0      159.0      22.0      3.0  Краснодар   \n",
              "1     1000    6.0         28.0      172.0      60.0     23.0  Краснодар   \n",
              "2     1000    7.0         41.0      340.0      75.0     14.0  Краснодар   \n",
              "3     1000    8.0         42.0      408.0      81.0     14.0  Краснодар   \n",
              "4     1000    9.0         46.0      466.0      57.0     15.0  Краснодар   \n",
              "\n",
              "  tariff  messages_included  mb_per_month_included  minutes_included  \\\n",
              "0  ultra               1000                  30720              3000   \n",
              "1  ultra               1000                  30720              3000   \n",
              "2  ultra               1000                  30720              3000   \n",
              "3  ultra               1000                  30720              3000   \n",
              "4  ultra               1000                  30720              3000   \n",
              "\n",
              "   rub_monthly_fee  rub_per_gb  rub_per_message  rub_per_minute  \n",
              "0             1950         150                1               1  \n",
              "1             1950         150                1               1  \n",
              "2             1950         150                1               1  \n",
              "3             1950         150                1               1  \n",
              "4             1950         150                1               1  "
            ],
            "text/html": [
              "\n",
              "  <div id=\"df-7787fcb1-ebdf-4195-b2dd-73f9fc09c2d3\">\n",
              "    <div class=\"colab-df-container\">\n",
              "      <div>\n",
              "<style scoped>\n",
              "    .dataframe tbody tr th:only-of-type {\n",
              "        vertical-align: middle;\n",
              "    }\n",
              "\n",
              "    .dataframe tbody tr th {\n",
              "        vertical-align: top;\n",
              "    }\n",
              "\n",
              "    .dataframe thead th {\n",
              "        text-align: right;\n",
              "    }\n",
              "</style>\n",
              "<table border=\"1\" class=\"dataframe\">\n",
              "  <thead>\n",
              "    <tr style=\"text-align: right;\">\n",
              "      <th></th>\n",
              "      <th>user_id</th>\n",
              "      <th>month</th>\n",
              "      <th>calls_count</th>\n",
              "      <th>calls_sum</th>\n",
              "      <th>messages</th>\n",
              "      <th>gb_used</th>\n",
              "      <th>city</th>\n",
              "      <th>tariff</th>\n",
              "      <th>messages_included</th>\n",
              "      <th>mb_per_month_included</th>\n",
              "      <th>minutes_included</th>\n",
              "      <th>rub_monthly_fee</th>\n",
              "      <th>rub_per_gb</th>\n",
              "      <th>rub_per_message</th>\n",
              "      <th>rub_per_minute</th>\n",
              "    </tr>\n",
              "  </thead>\n",
              "  <tbody>\n",
              "    <tr>\n",
              "      <th>0</th>\n",
              "      <td>1000</td>\n",
              "      <td>5.0</td>\n",
              "      <td>17.0</td>\n",
              "      <td>159.0</td>\n",
              "      <td>22.0</td>\n",
              "      <td>3.0</td>\n",
              "      <td>Краснодар</td>\n",
              "      <td>ultra</td>\n",
              "      <td>1000</td>\n",
              "      <td>30720</td>\n",
              "      <td>3000</td>\n",
              "      <td>1950</td>\n",
              "      <td>150</td>\n",
              "      <td>1</td>\n",
              "      <td>1</td>\n",
              "    </tr>\n",
              "    <tr>\n",
              "      <th>1</th>\n",
              "      <td>1000</td>\n",
              "      <td>6.0</td>\n",
              "      <td>28.0</td>\n",
              "      <td>172.0</td>\n",
              "      <td>60.0</td>\n",
              "      <td>23.0</td>\n",
              "      <td>Краснодар</td>\n",
              "      <td>ultra</td>\n",
              "      <td>1000</td>\n",
              "      <td>30720</td>\n",
              "      <td>3000</td>\n",
              "      <td>1950</td>\n",
              "      <td>150</td>\n",
              "      <td>1</td>\n",
              "      <td>1</td>\n",
              "    </tr>\n",
              "    <tr>\n",
              "      <th>2</th>\n",
              "      <td>1000</td>\n",
              "      <td>7.0</td>\n",
              "      <td>41.0</td>\n",
              "      <td>340.0</td>\n",
              "      <td>75.0</td>\n",
              "      <td>14.0</td>\n",
              "      <td>Краснодар</td>\n",
              "      <td>ultra</td>\n",
              "      <td>1000</td>\n",
              "      <td>30720</td>\n",
              "      <td>3000</td>\n",
              "      <td>1950</td>\n",
              "      <td>150</td>\n",
              "      <td>1</td>\n",
              "      <td>1</td>\n",
              "    </tr>\n",
              "    <tr>\n",
              "      <th>3</th>\n",
              "      <td>1000</td>\n",
              "      <td>8.0</td>\n",
              "      <td>42.0</td>\n",
              "      <td>408.0</td>\n",
              "      <td>81.0</td>\n",
              "      <td>14.0</td>\n",
              "      <td>Краснодар</td>\n",
              "      <td>ultra</td>\n",
              "      <td>1000</td>\n",
              "      <td>30720</td>\n",
              "      <td>3000</td>\n",
              "      <td>1950</td>\n",
              "      <td>150</td>\n",
              "      <td>1</td>\n",
              "      <td>1</td>\n",
              "    </tr>\n",
              "    <tr>\n",
              "      <th>4</th>\n",
              "      <td>1000</td>\n",
              "      <td>9.0</td>\n",
              "      <td>46.0</td>\n",
              "      <td>466.0</td>\n",
              "      <td>57.0</td>\n",
              "      <td>15.0</td>\n",
              "      <td>Краснодар</td>\n",
              "      <td>ultra</td>\n",
              "      <td>1000</td>\n",
              "      <td>30720</td>\n",
              "      <td>3000</td>\n",
              "      <td>1950</td>\n",
              "      <td>150</td>\n",
              "      <td>1</td>\n",
              "      <td>1</td>\n",
              "    </tr>\n",
              "  </tbody>\n",
              "</table>\n",
              "</div>\n",
              "      <button class=\"colab-df-convert\" onclick=\"convertToInteractive('df-7787fcb1-ebdf-4195-b2dd-73f9fc09c2d3')\"\n",
              "              title=\"Convert this dataframe to an interactive table.\"\n",
              "              style=\"display:none;\">\n",
              "        \n",
              "  <svg xmlns=\"http://www.w3.org/2000/svg\" height=\"24px\"viewBox=\"0 0 24 24\"\n",
              "       width=\"24px\">\n",
              "    <path d=\"M0 0h24v24H0V0z\" fill=\"none\"/>\n",
              "    <path d=\"M18.56 5.44l.94 2.06.94-2.06 2.06-.94-2.06-.94-.94-2.06-.94 2.06-2.06.94zm-11 1L8.5 8.5l.94-2.06 2.06-.94-2.06-.94L8.5 2.5l-.94 2.06-2.06.94zm10 10l.94 2.06.94-2.06 2.06-.94-2.06-.94-.94-2.06-.94 2.06-2.06.94z\"/><path d=\"M17.41 7.96l-1.37-1.37c-.4-.4-.92-.59-1.43-.59-.52 0-1.04.2-1.43.59L10.3 9.45l-7.72 7.72c-.78.78-.78 2.05 0 2.83L4 21.41c.39.39.9.59 1.41.59.51 0 1.02-.2 1.41-.59l7.78-7.78 2.81-2.81c.8-.78.8-2.07 0-2.86zM5.41 20L4 18.59l7.72-7.72 1.47 1.35L5.41 20z\"/>\n",
              "  </svg>\n",
              "      </button>\n",
              "      \n",
              "  <style>\n",
              "    .colab-df-container {\n",
              "      display:flex;\n",
              "      flex-wrap:wrap;\n",
              "      gap: 12px;\n",
              "    }\n",
              "\n",
              "    .colab-df-convert {\n",
              "      background-color: #E8F0FE;\n",
              "      border: none;\n",
              "      border-radius: 50%;\n",
              "      cursor: pointer;\n",
              "      display: none;\n",
              "      fill: #1967D2;\n",
              "      height: 32px;\n",
              "      padding: 0 0 0 0;\n",
              "      width: 32px;\n",
              "    }\n",
              "\n",
              "    .colab-df-convert:hover {\n",
              "      background-color: #E2EBFA;\n",
              "      box-shadow: 0px 1px 2px rgba(60, 64, 67, 0.3), 0px 1px 3px 1px rgba(60, 64, 67, 0.15);\n",
              "      fill: #174EA6;\n",
              "    }\n",
              "\n",
              "    [theme=dark] .colab-df-convert {\n",
              "      background-color: #3B4455;\n",
              "      fill: #D2E3FC;\n",
              "    }\n",
              "\n",
              "    [theme=dark] .colab-df-convert:hover {\n",
              "      background-color: #434B5C;\n",
              "      box-shadow: 0px 1px 3px 1px rgba(0, 0, 0, 0.15);\n",
              "      filter: drop-shadow(0px 1px 2px rgba(0, 0, 0, 0.3));\n",
              "      fill: #FFFFFF;\n",
              "    }\n",
              "  </style>\n",
              "\n",
              "      <script>\n",
              "        const buttonEl =\n",
              "          document.querySelector('#df-7787fcb1-ebdf-4195-b2dd-73f9fc09c2d3 button.colab-df-convert');\n",
              "        buttonEl.style.display =\n",
              "          google.colab.kernel.accessAllowed ? 'block' : 'none';\n",
              "\n",
              "        async function convertToInteractive(key) {\n",
              "          const element = document.querySelector('#df-7787fcb1-ebdf-4195-b2dd-73f9fc09c2d3');\n",
              "          const dataTable =\n",
              "            await google.colab.kernel.invokeFunction('convertToInteractive',\n",
              "                                                     [key], {});\n",
              "          if (!dataTable) return;\n",
              "\n",
              "          const docLinkHtml = 'Like what you see? Visit the ' +\n",
              "            '<a target=\"_blank\" href=https://colab.research.google.com/notebooks/data_table.ipynb>data table notebook</a>'\n",
              "            + ' to learn more about interactive tables.';\n",
              "          element.innerHTML = '';\n",
              "          dataTable['output_type'] = 'display_data';\n",
              "          await google.colab.output.renderOutput(dataTable, element);\n",
              "          const docLink = document.createElement('div');\n",
              "          docLink.innerHTML = docLinkHtml;\n",
              "          element.appendChild(docLink);\n",
              "        }\n",
              "      </script>\n",
              "    </div>\n",
              "  </div>\n",
              "  "
            ]
          },
          "metadata": {},
          "execution_count": 44
        }
      ],
      "source": [
        "# добавлю описание тарифов в общую таблицу \n",
        "data = data.merge(df_tariffs, on=['tariff'], how='outer')\n",
        "data.head(5)"
      ]
    },
    {
      "cell_type": "code",
      "execution_count": 45,
      "metadata": {
        "colab": {
          "base_uri": "https://localhost:8080/",
          "height": 270
        },
        "id": "w23LevdG5Dpr",
        "outputId": "41b2b56b-8a7a-4a96-bfcc-6106b07d3566"
      },
      "outputs": [
        {
          "output_type": "execute_result",
          "data": {
            "text/plain": [
              "   user_id  month  calls_count  calls_sum  messages  gb_used       city  \\\n",
              "0     1000    5.0           17        159        22        3  Краснодар   \n",
              "1     1000    6.0           28        172        60       23  Краснодар   \n",
              "2     1000    7.0           41        340        75       14  Краснодар   \n",
              "3     1000    8.0           42        408        81       14  Краснодар   \n",
              "4     1000    9.0           46        466        57       15  Краснодар   \n",
              "\n",
              "  tariff  messages_included  mb_per_month_included  minutes_included  \\\n",
              "0  ultra               1000                  30720              3000   \n",
              "1  ultra               1000                  30720              3000   \n",
              "2  ultra               1000                  30720              3000   \n",
              "3  ultra               1000                  30720              3000   \n",
              "4  ultra               1000                  30720              3000   \n",
              "\n",
              "   rub_monthly_fee  rub_per_gb  rub_per_message  rub_per_minute  \n",
              "0             1950         150                1               1  \n",
              "1             1950         150                1               1  \n",
              "2             1950         150                1               1  \n",
              "3             1950         150                1               1  \n",
              "4             1950         150                1               1  "
            ],
            "text/html": [
              "\n",
              "  <div id=\"df-2a256cff-70fd-4212-9936-795f5e3da7f2\">\n",
              "    <div class=\"colab-df-container\">\n",
              "      <div>\n",
              "<style scoped>\n",
              "    .dataframe tbody tr th:only-of-type {\n",
              "        vertical-align: middle;\n",
              "    }\n",
              "\n",
              "    .dataframe tbody tr th {\n",
              "        vertical-align: top;\n",
              "    }\n",
              "\n",
              "    .dataframe thead th {\n",
              "        text-align: right;\n",
              "    }\n",
              "</style>\n",
              "<table border=\"1\" class=\"dataframe\">\n",
              "  <thead>\n",
              "    <tr style=\"text-align: right;\">\n",
              "      <th></th>\n",
              "      <th>user_id</th>\n",
              "      <th>month</th>\n",
              "      <th>calls_count</th>\n",
              "      <th>calls_sum</th>\n",
              "      <th>messages</th>\n",
              "      <th>gb_used</th>\n",
              "      <th>city</th>\n",
              "      <th>tariff</th>\n",
              "      <th>messages_included</th>\n",
              "      <th>mb_per_month_included</th>\n",
              "      <th>minutes_included</th>\n",
              "      <th>rub_monthly_fee</th>\n",
              "      <th>rub_per_gb</th>\n",
              "      <th>rub_per_message</th>\n",
              "      <th>rub_per_minute</th>\n",
              "    </tr>\n",
              "  </thead>\n",
              "  <tbody>\n",
              "    <tr>\n",
              "      <th>0</th>\n",
              "      <td>1000</td>\n",
              "      <td>5.0</td>\n",
              "      <td>17</td>\n",
              "      <td>159</td>\n",
              "      <td>22</td>\n",
              "      <td>3</td>\n",
              "      <td>Краснодар</td>\n",
              "      <td>ultra</td>\n",
              "      <td>1000</td>\n",
              "      <td>30720</td>\n",
              "      <td>3000</td>\n",
              "      <td>1950</td>\n",
              "      <td>150</td>\n",
              "      <td>1</td>\n",
              "      <td>1</td>\n",
              "    </tr>\n",
              "    <tr>\n",
              "      <th>1</th>\n",
              "      <td>1000</td>\n",
              "      <td>6.0</td>\n",
              "      <td>28</td>\n",
              "      <td>172</td>\n",
              "      <td>60</td>\n",
              "      <td>23</td>\n",
              "      <td>Краснодар</td>\n",
              "      <td>ultra</td>\n",
              "      <td>1000</td>\n",
              "      <td>30720</td>\n",
              "      <td>3000</td>\n",
              "      <td>1950</td>\n",
              "      <td>150</td>\n",
              "      <td>1</td>\n",
              "      <td>1</td>\n",
              "    </tr>\n",
              "    <tr>\n",
              "      <th>2</th>\n",
              "      <td>1000</td>\n",
              "      <td>7.0</td>\n",
              "      <td>41</td>\n",
              "      <td>340</td>\n",
              "      <td>75</td>\n",
              "      <td>14</td>\n",
              "      <td>Краснодар</td>\n",
              "      <td>ultra</td>\n",
              "      <td>1000</td>\n",
              "      <td>30720</td>\n",
              "      <td>3000</td>\n",
              "      <td>1950</td>\n",
              "      <td>150</td>\n",
              "      <td>1</td>\n",
              "      <td>1</td>\n",
              "    </tr>\n",
              "    <tr>\n",
              "      <th>3</th>\n",
              "      <td>1000</td>\n",
              "      <td>8.0</td>\n",
              "      <td>42</td>\n",
              "      <td>408</td>\n",
              "      <td>81</td>\n",
              "      <td>14</td>\n",
              "      <td>Краснодар</td>\n",
              "      <td>ultra</td>\n",
              "      <td>1000</td>\n",
              "      <td>30720</td>\n",
              "      <td>3000</td>\n",
              "      <td>1950</td>\n",
              "      <td>150</td>\n",
              "      <td>1</td>\n",
              "      <td>1</td>\n",
              "    </tr>\n",
              "    <tr>\n",
              "      <th>4</th>\n",
              "      <td>1000</td>\n",
              "      <td>9.0</td>\n",
              "      <td>46</td>\n",
              "      <td>466</td>\n",
              "      <td>57</td>\n",
              "      <td>15</td>\n",
              "      <td>Краснодар</td>\n",
              "      <td>ultra</td>\n",
              "      <td>1000</td>\n",
              "      <td>30720</td>\n",
              "      <td>3000</td>\n",
              "      <td>1950</td>\n",
              "      <td>150</td>\n",
              "      <td>1</td>\n",
              "      <td>1</td>\n",
              "    </tr>\n",
              "  </tbody>\n",
              "</table>\n",
              "</div>\n",
              "      <button class=\"colab-df-convert\" onclick=\"convertToInteractive('df-2a256cff-70fd-4212-9936-795f5e3da7f2')\"\n",
              "              title=\"Convert this dataframe to an interactive table.\"\n",
              "              style=\"display:none;\">\n",
              "        \n",
              "  <svg xmlns=\"http://www.w3.org/2000/svg\" height=\"24px\"viewBox=\"0 0 24 24\"\n",
              "       width=\"24px\">\n",
              "    <path d=\"M0 0h24v24H0V0z\" fill=\"none\"/>\n",
              "    <path d=\"M18.56 5.44l.94 2.06.94-2.06 2.06-.94-2.06-.94-.94-2.06-.94 2.06-2.06.94zm-11 1L8.5 8.5l.94-2.06 2.06-.94-2.06-.94L8.5 2.5l-.94 2.06-2.06.94zm10 10l.94 2.06.94-2.06 2.06-.94-2.06-.94-.94-2.06-.94 2.06-2.06.94z\"/><path d=\"M17.41 7.96l-1.37-1.37c-.4-.4-.92-.59-1.43-.59-.52 0-1.04.2-1.43.59L10.3 9.45l-7.72 7.72c-.78.78-.78 2.05 0 2.83L4 21.41c.39.39.9.59 1.41.59.51 0 1.02-.2 1.41-.59l7.78-7.78 2.81-2.81c.8-.78.8-2.07 0-2.86zM5.41 20L4 18.59l7.72-7.72 1.47 1.35L5.41 20z\"/>\n",
              "  </svg>\n",
              "      </button>\n",
              "      \n",
              "  <style>\n",
              "    .colab-df-container {\n",
              "      display:flex;\n",
              "      flex-wrap:wrap;\n",
              "      gap: 12px;\n",
              "    }\n",
              "\n",
              "    .colab-df-convert {\n",
              "      background-color: #E8F0FE;\n",
              "      border: none;\n",
              "      border-radius: 50%;\n",
              "      cursor: pointer;\n",
              "      display: none;\n",
              "      fill: #1967D2;\n",
              "      height: 32px;\n",
              "      padding: 0 0 0 0;\n",
              "      width: 32px;\n",
              "    }\n",
              "\n",
              "    .colab-df-convert:hover {\n",
              "      background-color: #E2EBFA;\n",
              "      box-shadow: 0px 1px 2px rgba(60, 64, 67, 0.3), 0px 1px 3px 1px rgba(60, 64, 67, 0.15);\n",
              "      fill: #174EA6;\n",
              "    }\n",
              "\n",
              "    [theme=dark] .colab-df-convert {\n",
              "      background-color: #3B4455;\n",
              "      fill: #D2E3FC;\n",
              "    }\n",
              "\n",
              "    [theme=dark] .colab-df-convert:hover {\n",
              "      background-color: #434B5C;\n",
              "      box-shadow: 0px 1px 3px 1px rgba(0, 0, 0, 0.15);\n",
              "      filter: drop-shadow(0px 1px 2px rgba(0, 0, 0, 0.3));\n",
              "      fill: #FFFFFF;\n",
              "    }\n",
              "  </style>\n",
              "\n",
              "      <script>\n",
              "        const buttonEl =\n",
              "          document.querySelector('#df-2a256cff-70fd-4212-9936-795f5e3da7f2 button.colab-df-convert');\n",
              "        buttonEl.style.display =\n",
              "          google.colab.kernel.accessAllowed ? 'block' : 'none';\n",
              "\n",
              "        async function convertToInteractive(key) {\n",
              "          const element = document.querySelector('#df-2a256cff-70fd-4212-9936-795f5e3da7f2');\n",
              "          const dataTable =\n",
              "            await google.colab.kernel.invokeFunction('convertToInteractive',\n",
              "                                                     [key], {});\n",
              "          if (!dataTable) return;\n",
              "\n",
              "          const docLinkHtml = 'Like what you see? Visit the ' +\n",
              "            '<a target=\"_blank\" href=https://colab.research.google.com/notebooks/data_table.ipynb>data table notebook</a>'\n",
              "            + ' to learn more about interactive tables.';\n",
              "          element.innerHTML = '';\n",
              "          dataTable['output_type'] = 'display_data';\n",
              "          await google.colab.output.renderOutput(dataTable, element);\n",
              "          const docLink = document.createElement('div');\n",
              "          docLink.innerHTML = docLinkHtml;\n",
              "          element.appendChild(docLink);\n",
              "        }\n",
              "      </script>\n",
              "    </div>\n",
              "  </div>\n",
              "  "
            ]
          },
          "metadata": {},
          "execution_count": 45
        }
      ],
      "source": [
        "# Заполню пропуски нулями и приведу к целым числам:\n",
        "data['calls_count'] = data['calls_count'].fillna(0).astype(int)\n",
        "data['calls_sum'] = data['calls_sum'].fillna(0).astype(int)\n",
        "data['messages'] = data['messages'].fillna(0).astype(int) \n",
        "data['gb_used'] = data['gb_used'].fillna(0).astype(int)   \n",
        "data.head(5)"
      ]
    },
    {
      "cell_type": "code",
      "execution_count": 46,
      "metadata": {
        "colab": {
          "base_uri": "https://localhost:8080/",
          "height": 270
        },
        "id": "p0djscr25Dps",
        "outputId": "d49bd2cd-597f-4e82-b911-a1b0192ea7b0"
      },
      "outputs": [
        {
          "output_type": "execute_result",
          "data": {
            "text/plain": [
              "   user_id  month  calls_count  calls_sum  messages  gb_used       city  \\\n",
              "0     1000    5.0           17        159        22        3  Краснодар   \n",
              "1     1000    6.0           28        172        60       23  Краснодар   \n",
              "2     1000    7.0           41        340        75       14  Краснодар   \n",
              "3     1000    8.0           42        408        81       14  Краснодар   \n",
              "4     1000    9.0           46        466        57       15  Краснодар   \n",
              "\n",
              "  tariff  messages_included  gb_per_month_included  minutes_included  \\\n",
              "0  ultra               1000                     30              3000   \n",
              "1  ultra               1000                     30              3000   \n",
              "2  ultra               1000                     30              3000   \n",
              "3  ultra               1000                     30              3000   \n",
              "4  ultra               1000                     30              3000   \n",
              "\n",
              "   rub_monthly_fee  rub_per_gb  rub_per_message  rub_per_minute  \n",
              "0             1950         150                1               1  \n",
              "1             1950         150                1               1  \n",
              "2             1950         150                1               1  \n",
              "3             1950         150                1               1  \n",
              "4             1950         150                1               1  "
            ],
            "text/html": [
              "\n",
              "  <div id=\"df-03757697-7813-42d1-82f2-66c52420e081\">\n",
              "    <div class=\"colab-df-container\">\n",
              "      <div>\n",
              "<style scoped>\n",
              "    .dataframe tbody tr th:only-of-type {\n",
              "        vertical-align: middle;\n",
              "    }\n",
              "\n",
              "    .dataframe tbody tr th {\n",
              "        vertical-align: top;\n",
              "    }\n",
              "\n",
              "    .dataframe thead th {\n",
              "        text-align: right;\n",
              "    }\n",
              "</style>\n",
              "<table border=\"1\" class=\"dataframe\">\n",
              "  <thead>\n",
              "    <tr style=\"text-align: right;\">\n",
              "      <th></th>\n",
              "      <th>user_id</th>\n",
              "      <th>month</th>\n",
              "      <th>calls_count</th>\n",
              "      <th>calls_sum</th>\n",
              "      <th>messages</th>\n",
              "      <th>gb_used</th>\n",
              "      <th>city</th>\n",
              "      <th>tariff</th>\n",
              "      <th>messages_included</th>\n",
              "      <th>gb_per_month_included</th>\n",
              "      <th>minutes_included</th>\n",
              "      <th>rub_monthly_fee</th>\n",
              "      <th>rub_per_gb</th>\n",
              "      <th>rub_per_message</th>\n",
              "      <th>rub_per_minute</th>\n",
              "    </tr>\n",
              "  </thead>\n",
              "  <tbody>\n",
              "    <tr>\n",
              "      <th>0</th>\n",
              "      <td>1000</td>\n",
              "      <td>5.0</td>\n",
              "      <td>17</td>\n",
              "      <td>159</td>\n",
              "      <td>22</td>\n",
              "      <td>3</td>\n",
              "      <td>Краснодар</td>\n",
              "      <td>ultra</td>\n",
              "      <td>1000</td>\n",
              "      <td>30</td>\n",
              "      <td>3000</td>\n",
              "      <td>1950</td>\n",
              "      <td>150</td>\n",
              "      <td>1</td>\n",
              "      <td>1</td>\n",
              "    </tr>\n",
              "    <tr>\n",
              "      <th>1</th>\n",
              "      <td>1000</td>\n",
              "      <td>6.0</td>\n",
              "      <td>28</td>\n",
              "      <td>172</td>\n",
              "      <td>60</td>\n",
              "      <td>23</td>\n",
              "      <td>Краснодар</td>\n",
              "      <td>ultra</td>\n",
              "      <td>1000</td>\n",
              "      <td>30</td>\n",
              "      <td>3000</td>\n",
              "      <td>1950</td>\n",
              "      <td>150</td>\n",
              "      <td>1</td>\n",
              "      <td>1</td>\n",
              "    </tr>\n",
              "    <tr>\n",
              "      <th>2</th>\n",
              "      <td>1000</td>\n",
              "      <td>7.0</td>\n",
              "      <td>41</td>\n",
              "      <td>340</td>\n",
              "      <td>75</td>\n",
              "      <td>14</td>\n",
              "      <td>Краснодар</td>\n",
              "      <td>ultra</td>\n",
              "      <td>1000</td>\n",
              "      <td>30</td>\n",
              "      <td>3000</td>\n",
              "      <td>1950</td>\n",
              "      <td>150</td>\n",
              "      <td>1</td>\n",
              "      <td>1</td>\n",
              "    </tr>\n",
              "    <tr>\n",
              "      <th>3</th>\n",
              "      <td>1000</td>\n",
              "      <td>8.0</td>\n",
              "      <td>42</td>\n",
              "      <td>408</td>\n",
              "      <td>81</td>\n",
              "      <td>14</td>\n",
              "      <td>Краснодар</td>\n",
              "      <td>ultra</td>\n",
              "      <td>1000</td>\n",
              "      <td>30</td>\n",
              "      <td>3000</td>\n",
              "      <td>1950</td>\n",
              "      <td>150</td>\n",
              "      <td>1</td>\n",
              "      <td>1</td>\n",
              "    </tr>\n",
              "    <tr>\n",
              "      <th>4</th>\n",
              "      <td>1000</td>\n",
              "      <td>9.0</td>\n",
              "      <td>46</td>\n",
              "      <td>466</td>\n",
              "      <td>57</td>\n",
              "      <td>15</td>\n",
              "      <td>Краснодар</td>\n",
              "      <td>ultra</td>\n",
              "      <td>1000</td>\n",
              "      <td>30</td>\n",
              "      <td>3000</td>\n",
              "      <td>1950</td>\n",
              "      <td>150</td>\n",
              "      <td>1</td>\n",
              "      <td>1</td>\n",
              "    </tr>\n",
              "  </tbody>\n",
              "</table>\n",
              "</div>\n",
              "      <button class=\"colab-df-convert\" onclick=\"convertToInteractive('df-03757697-7813-42d1-82f2-66c52420e081')\"\n",
              "              title=\"Convert this dataframe to an interactive table.\"\n",
              "              style=\"display:none;\">\n",
              "        \n",
              "  <svg xmlns=\"http://www.w3.org/2000/svg\" height=\"24px\"viewBox=\"0 0 24 24\"\n",
              "       width=\"24px\">\n",
              "    <path d=\"M0 0h24v24H0V0z\" fill=\"none\"/>\n",
              "    <path d=\"M18.56 5.44l.94 2.06.94-2.06 2.06-.94-2.06-.94-.94-2.06-.94 2.06-2.06.94zm-11 1L8.5 8.5l.94-2.06 2.06-.94-2.06-.94L8.5 2.5l-.94 2.06-2.06.94zm10 10l.94 2.06.94-2.06 2.06-.94-2.06-.94-.94-2.06-.94 2.06-2.06.94z\"/><path d=\"M17.41 7.96l-1.37-1.37c-.4-.4-.92-.59-1.43-.59-.52 0-1.04.2-1.43.59L10.3 9.45l-7.72 7.72c-.78.78-.78 2.05 0 2.83L4 21.41c.39.39.9.59 1.41.59.51 0 1.02-.2 1.41-.59l7.78-7.78 2.81-2.81c.8-.78.8-2.07 0-2.86zM5.41 20L4 18.59l7.72-7.72 1.47 1.35L5.41 20z\"/>\n",
              "  </svg>\n",
              "      </button>\n",
              "      \n",
              "  <style>\n",
              "    .colab-df-container {\n",
              "      display:flex;\n",
              "      flex-wrap:wrap;\n",
              "      gap: 12px;\n",
              "    }\n",
              "\n",
              "    .colab-df-convert {\n",
              "      background-color: #E8F0FE;\n",
              "      border: none;\n",
              "      border-radius: 50%;\n",
              "      cursor: pointer;\n",
              "      display: none;\n",
              "      fill: #1967D2;\n",
              "      height: 32px;\n",
              "      padding: 0 0 0 0;\n",
              "      width: 32px;\n",
              "    }\n",
              "\n",
              "    .colab-df-convert:hover {\n",
              "      background-color: #E2EBFA;\n",
              "      box-shadow: 0px 1px 2px rgba(60, 64, 67, 0.3), 0px 1px 3px 1px rgba(60, 64, 67, 0.15);\n",
              "      fill: #174EA6;\n",
              "    }\n",
              "\n",
              "    [theme=dark] .colab-df-convert {\n",
              "      background-color: #3B4455;\n",
              "      fill: #D2E3FC;\n",
              "    }\n",
              "\n",
              "    [theme=dark] .colab-df-convert:hover {\n",
              "      background-color: #434B5C;\n",
              "      box-shadow: 0px 1px 3px 1px rgba(0, 0, 0, 0.15);\n",
              "      filter: drop-shadow(0px 1px 2px rgba(0, 0, 0, 0.3));\n",
              "      fill: #FFFFFF;\n",
              "    }\n",
              "  </style>\n",
              "\n",
              "      <script>\n",
              "        const buttonEl =\n",
              "          document.querySelector('#df-03757697-7813-42d1-82f2-66c52420e081 button.colab-df-convert');\n",
              "        buttonEl.style.display =\n",
              "          google.colab.kernel.accessAllowed ? 'block' : 'none';\n",
              "\n",
              "        async function convertToInteractive(key) {\n",
              "          const element = document.querySelector('#df-03757697-7813-42d1-82f2-66c52420e081');\n",
              "          const dataTable =\n",
              "            await google.colab.kernel.invokeFunction('convertToInteractive',\n",
              "                                                     [key], {});\n",
              "          if (!dataTable) return;\n",
              "\n",
              "          const docLinkHtml = 'Like what you see? Visit the ' +\n",
              "            '<a target=\"_blank\" href=https://colab.research.google.com/notebooks/data_table.ipynb>data table notebook</a>'\n",
              "            + ' to learn more about interactive tables.';\n",
              "          element.innerHTML = '';\n",
              "          dataTable['output_type'] = 'display_data';\n",
              "          await google.colab.output.renderOutput(dataTable, element);\n",
              "          const docLink = document.createElement('div');\n",
              "          docLink.innerHTML = docLinkHtml;\n",
              "          element.appendChild(docLink);\n",
              "        }\n",
              "      </script>\n",
              "    </div>\n",
              "  </div>\n",
              "  "
            ]
          },
          "metadata": {},
          "execution_count": 46
        }
      ],
      "source": [
        "# Переведу Мегабайты в Гигабайты \n",
        "data['mb_per_month_included'] = (data['mb_per_month_included']/1024).astype(int)\n",
        "# Переименую колонку\n",
        "data.rename(columns={'mb_per_month_included':'gb_per_month_included'} ,inplace=True)\n",
        "data.head()"
      ]
    },
    {
      "cell_type": "code",
      "execution_count": 47,
      "metadata": {
        "colab": {
          "base_uri": "https://localhost:8080/",
          "height": 176
        },
        "id": "zW6SpCK25Dps",
        "outputId": "cc761557-be8f-466d-accd-8a0896589c56"
      },
      "outputs": [
        {
          "output_type": "execute_result",
          "data": {
            "text/plain": [
              "      user_id  month  calls_count  calls_sum  messages  gb_used      city  \\\n",
              "985      1128    NaN            0          0         0        0  Волжский   \n",
              "3215     1371    NaN            0          0         0        0      Омск   \n",
              "\n",
              "     tariff  messages_included  gb_per_month_included  minutes_included  \\\n",
              "985   ultra               1000                     30              3000   \n",
              "3215  smart                 50                     15               500   \n",
              "\n",
              "      rub_monthly_fee  rub_per_gb  rub_per_message  rub_per_minute  \n",
              "985              1950         150                1               1  \n",
              "3215              550         200                3               3  "
            ],
            "text/html": [
              "\n",
              "  <div id=\"df-e930776e-ce6c-4fd9-8f18-64fbd3ad0dfe\">\n",
              "    <div class=\"colab-df-container\">\n",
              "      <div>\n",
              "<style scoped>\n",
              "    .dataframe tbody tr th:only-of-type {\n",
              "        vertical-align: middle;\n",
              "    }\n",
              "\n",
              "    .dataframe tbody tr th {\n",
              "        vertical-align: top;\n",
              "    }\n",
              "\n",
              "    .dataframe thead th {\n",
              "        text-align: right;\n",
              "    }\n",
              "</style>\n",
              "<table border=\"1\" class=\"dataframe\">\n",
              "  <thead>\n",
              "    <tr style=\"text-align: right;\">\n",
              "      <th></th>\n",
              "      <th>user_id</th>\n",
              "      <th>month</th>\n",
              "      <th>calls_count</th>\n",
              "      <th>calls_sum</th>\n",
              "      <th>messages</th>\n",
              "      <th>gb_used</th>\n",
              "      <th>city</th>\n",
              "      <th>tariff</th>\n",
              "      <th>messages_included</th>\n",
              "      <th>gb_per_month_included</th>\n",
              "      <th>minutes_included</th>\n",
              "      <th>rub_monthly_fee</th>\n",
              "      <th>rub_per_gb</th>\n",
              "      <th>rub_per_message</th>\n",
              "      <th>rub_per_minute</th>\n",
              "    </tr>\n",
              "  </thead>\n",
              "  <tbody>\n",
              "    <tr>\n",
              "      <th>985</th>\n",
              "      <td>1128</td>\n",
              "      <td>NaN</td>\n",
              "      <td>0</td>\n",
              "      <td>0</td>\n",
              "      <td>0</td>\n",
              "      <td>0</td>\n",
              "      <td>Волжский</td>\n",
              "      <td>ultra</td>\n",
              "      <td>1000</td>\n",
              "      <td>30</td>\n",
              "      <td>3000</td>\n",
              "      <td>1950</td>\n",
              "      <td>150</td>\n",
              "      <td>1</td>\n",
              "      <td>1</td>\n",
              "    </tr>\n",
              "    <tr>\n",
              "      <th>3215</th>\n",
              "      <td>1371</td>\n",
              "      <td>NaN</td>\n",
              "      <td>0</td>\n",
              "      <td>0</td>\n",
              "      <td>0</td>\n",
              "      <td>0</td>\n",
              "      <td>Омск</td>\n",
              "      <td>smart</td>\n",
              "      <td>50</td>\n",
              "      <td>15</td>\n",
              "      <td>500</td>\n",
              "      <td>550</td>\n",
              "      <td>200</td>\n",
              "      <td>3</td>\n",
              "      <td>3</td>\n",
              "    </tr>\n",
              "  </tbody>\n",
              "</table>\n",
              "</div>\n",
              "      <button class=\"colab-df-convert\" onclick=\"convertToInteractive('df-e930776e-ce6c-4fd9-8f18-64fbd3ad0dfe')\"\n",
              "              title=\"Convert this dataframe to an interactive table.\"\n",
              "              style=\"display:none;\">\n",
              "        \n",
              "  <svg xmlns=\"http://www.w3.org/2000/svg\" height=\"24px\"viewBox=\"0 0 24 24\"\n",
              "       width=\"24px\">\n",
              "    <path d=\"M0 0h24v24H0V0z\" fill=\"none\"/>\n",
              "    <path d=\"M18.56 5.44l.94 2.06.94-2.06 2.06-.94-2.06-.94-.94-2.06-.94 2.06-2.06.94zm-11 1L8.5 8.5l.94-2.06 2.06-.94-2.06-.94L8.5 2.5l-.94 2.06-2.06.94zm10 10l.94 2.06.94-2.06 2.06-.94-2.06-.94-.94-2.06-.94 2.06-2.06.94z\"/><path d=\"M17.41 7.96l-1.37-1.37c-.4-.4-.92-.59-1.43-.59-.52 0-1.04.2-1.43.59L10.3 9.45l-7.72 7.72c-.78.78-.78 2.05 0 2.83L4 21.41c.39.39.9.59 1.41.59.51 0 1.02-.2 1.41-.59l7.78-7.78 2.81-2.81c.8-.78.8-2.07 0-2.86zM5.41 20L4 18.59l7.72-7.72 1.47 1.35L5.41 20z\"/>\n",
              "  </svg>\n",
              "      </button>\n",
              "      \n",
              "  <style>\n",
              "    .colab-df-container {\n",
              "      display:flex;\n",
              "      flex-wrap:wrap;\n",
              "      gap: 12px;\n",
              "    }\n",
              "\n",
              "    .colab-df-convert {\n",
              "      background-color: #E8F0FE;\n",
              "      border: none;\n",
              "      border-radius: 50%;\n",
              "      cursor: pointer;\n",
              "      display: none;\n",
              "      fill: #1967D2;\n",
              "      height: 32px;\n",
              "      padding: 0 0 0 0;\n",
              "      width: 32px;\n",
              "    }\n",
              "\n",
              "    .colab-df-convert:hover {\n",
              "      background-color: #E2EBFA;\n",
              "      box-shadow: 0px 1px 2px rgba(60, 64, 67, 0.3), 0px 1px 3px 1px rgba(60, 64, 67, 0.15);\n",
              "      fill: #174EA6;\n",
              "    }\n",
              "\n",
              "    [theme=dark] .colab-df-convert {\n",
              "      background-color: #3B4455;\n",
              "      fill: #D2E3FC;\n",
              "    }\n",
              "\n",
              "    [theme=dark] .colab-df-convert:hover {\n",
              "      background-color: #434B5C;\n",
              "      box-shadow: 0px 1px 3px 1px rgba(0, 0, 0, 0.15);\n",
              "      filter: drop-shadow(0px 1px 2px rgba(0, 0, 0, 0.3));\n",
              "      fill: #FFFFFF;\n",
              "    }\n",
              "  </style>\n",
              "\n",
              "      <script>\n",
              "        const buttonEl =\n",
              "          document.querySelector('#df-e930776e-ce6c-4fd9-8f18-64fbd3ad0dfe button.colab-df-convert');\n",
              "        buttonEl.style.display =\n",
              "          google.colab.kernel.accessAllowed ? 'block' : 'none';\n",
              "\n",
              "        async function convertToInteractive(key) {\n",
              "          const element = document.querySelector('#df-e930776e-ce6c-4fd9-8f18-64fbd3ad0dfe');\n",
              "          const dataTable =\n",
              "            await google.colab.kernel.invokeFunction('convertToInteractive',\n",
              "                                                     [key], {});\n",
              "          if (!dataTable) return;\n",
              "\n",
              "          const docLinkHtml = 'Like what you see? Visit the ' +\n",
              "            '<a target=\"_blank\" href=https://colab.research.google.com/notebooks/data_table.ipynb>data table notebook</a>'\n",
              "            + ' to learn more about interactive tables.';\n",
              "          element.innerHTML = '';\n",
              "          dataTable['output_type'] = 'display_data';\n",
              "          await google.colab.output.renderOutput(dataTable, element);\n",
              "          const docLink = document.createElement('div');\n",
              "          docLink.innerHTML = docLinkHtml;\n",
              "          element.appendChild(docLink);\n",
              "        }\n",
              "      </script>\n",
              "    </div>\n",
              "  </div>\n",
              "  "
            ]
          },
          "metadata": {},
          "execution_count": 47
        }
      ],
      "source": [
        "# пользователи с пропусками в столбце month:\n",
        "data.loc[data['month'].isna()]"
      ]
    },
    {
      "cell_type": "code",
      "execution_count": 48,
      "metadata": {
        "colab": {
          "base_uri": "https://localhost:8080/",
          "height": 112
        },
        "id": "bre_Exnb5Dpt",
        "outputId": "e5f190fd-43aa-43d6-b118-e153986c9865"
      },
      "outputs": [
        {
          "output_type": "execute_result",
          "data": {
            "text/plain": [
              "     user_id  age  churn_date      city first_name last_name    reg_date  \\\n",
              "128     1128   51  2018-12-23  Волжский     Ксения    Агаева  2018-12-15   \n",
              "371     1371   50  2018-12-30      Омск     Ириней  Трофимов  2018-12-25   \n",
              "\n",
              "    tariff  \n",
              "128  ultra  \n",
              "371  smart  "
            ],
            "text/html": [
              "\n",
              "  <div id=\"df-20d9f409-879e-4f7a-aecd-d1b5f0450bd1\">\n",
              "    <div class=\"colab-df-container\">\n",
              "      <div>\n",
              "<style scoped>\n",
              "    .dataframe tbody tr th:only-of-type {\n",
              "        vertical-align: middle;\n",
              "    }\n",
              "\n",
              "    .dataframe tbody tr th {\n",
              "        vertical-align: top;\n",
              "    }\n",
              "\n",
              "    .dataframe thead th {\n",
              "        text-align: right;\n",
              "    }\n",
              "</style>\n",
              "<table border=\"1\" class=\"dataframe\">\n",
              "  <thead>\n",
              "    <tr style=\"text-align: right;\">\n",
              "      <th></th>\n",
              "      <th>user_id</th>\n",
              "      <th>age</th>\n",
              "      <th>churn_date</th>\n",
              "      <th>city</th>\n",
              "      <th>first_name</th>\n",
              "      <th>last_name</th>\n",
              "      <th>reg_date</th>\n",
              "      <th>tariff</th>\n",
              "    </tr>\n",
              "  </thead>\n",
              "  <tbody>\n",
              "    <tr>\n",
              "      <th>128</th>\n",
              "      <td>1128</td>\n",
              "      <td>51</td>\n",
              "      <td>2018-12-23</td>\n",
              "      <td>Волжский</td>\n",
              "      <td>Ксения</td>\n",
              "      <td>Агаева</td>\n",
              "      <td>2018-12-15</td>\n",
              "      <td>ultra</td>\n",
              "    </tr>\n",
              "    <tr>\n",
              "      <th>371</th>\n",
              "      <td>1371</td>\n",
              "      <td>50</td>\n",
              "      <td>2018-12-30</td>\n",
              "      <td>Омск</td>\n",
              "      <td>Ириней</td>\n",
              "      <td>Трофимов</td>\n",
              "      <td>2018-12-25</td>\n",
              "      <td>smart</td>\n",
              "    </tr>\n",
              "  </tbody>\n",
              "</table>\n",
              "</div>\n",
              "      <button class=\"colab-df-convert\" onclick=\"convertToInteractive('df-20d9f409-879e-4f7a-aecd-d1b5f0450bd1')\"\n",
              "              title=\"Convert this dataframe to an interactive table.\"\n",
              "              style=\"display:none;\">\n",
              "        \n",
              "  <svg xmlns=\"http://www.w3.org/2000/svg\" height=\"24px\"viewBox=\"0 0 24 24\"\n",
              "       width=\"24px\">\n",
              "    <path d=\"M0 0h24v24H0V0z\" fill=\"none\"/>\n",
              "    <path d=\"M18.56 5.44l.94 2.06.94-2.06 2.06-.94-2.06-.94-.94-2.06-.94 2.06-2.06.94zm-11 1L8.5 8.5l.94-2.06 2.06-.94-2.06-.94L8.5 2.5l-.94 2.06-2.06.94zm10 10l.94 2.06.94-2.06 2.06-.94-2.06-.94-.94-2.06-.94 2.06-2.06.94z\"/><path d=\"M17.41 7.96l-1.37-1.37c-.4-.4-.92-.59-1.43-.59-.52 0-1.04.2-1.43.59L10.3 9.45l-7.72 7.72c-.78.78-.78 2.05 0 2.83L4 21.41c.39.39.9.59 1.41.59.51 0 1.02-.2 1.41-.59l7.78-7.78 2.81-2.81c.8-.78.8-2.07 0-2.86zM5.41 20L4 18.59l7.72-7.72 1.47 1.35L5.41 20z\"/>\n",
              "  </svg>\n",
              "      </button>\n",
              "      \n",
              "  <style>\n",
              "    .colab-df-container {\n",
              "      display:flex;\n",
              "      flex-wrap:wrap;\n",
              "      gap: 12px;\n",
              "    }\n",
              "\n",
              "    .colab-df-convert {\n",
              "      background-color: #E8F0FE;\n",
              "      border: none;\n",
              "      border-radius: 50%;\n",
              "      cursor: pointer;\n",
              "      display: none;\n",
              "      fill: #1967D2;\n",
              "      height: 32px;\n",
              "      padding: 0 0 0 0;\n",
              "      width: 32px;\n",
              "    }\n",
              "\n",
              "    .colab-df-convert:hover {\n",
              "      background-color: #E2EBFA;\n",
              "      box-shadow: 0px 1px 2px rgba(60, 64, 67, 0.3), 0px 1px 3px 1px rgba(60, 64, 67, 0.15);\n",
              "      fill: #174EA6;\n",
              "    }\n",
              "\n",
              "    [theme=dark] .colab-df-convert {\n",
              "      background-color: #3B4455;\n",
              "      fill: #D2E3FC;\n",
              "    }\n",
              "\n",
              "    [theme=dark] .colab-df-convert:hover {\n",
              "      background-color: #434B5C;\n",
              "      box-shadow: 0px 1px 3px 1px rgba(0, 0, 0, 0.15);\n",
              "      filter: drop-shadow(0px 1px 2px rgba(0, 0, 0, 0.3));\n",
              "      fill: #FFFFFF;\n",
              "    }\n",
              "  </style>\n",
              "\n",
              "      <script>\n",
              "        const buttonEl =\n",
              "          document.querySelector('#df-20d9f409-879e-4f7a-aecd-d1b5f0450bd1 button.colab-df-convert');\n",
              "        buttonEl.style.display =\n",
              "          google.colab.kernel.accessAllowed ? 'block' : 'none';\n",
              "\n",
              "        async function convertToInteractive(key) {\n",
              "          const element = document.querySelector('#df-20d9f409-879e-4f7a-aecd-d1b5f0450bd1');\n",
              "          const dataTable =\n",
              "            await google.colab.kernel.invokeFunction('convertToInteractive',\n",
              "                                                     [key], {});\n",
              "          if (!dataTable) return;\n",
              "\n",
              "          const docLinkHtml = 'Like what you see? Visit the ' +\n",
              "            '<a target=\"_blank\" href=https://colab.research.google.com/notebooks/data_table.ipynb>data table notebook</a>'\n",
              "            + ' to learn more about interactive tables.';\n",
              "          element.innerHTML = '';\n",
              "          dataTable['output_type'] = 'display_data';\n",
              "          await google.colab.output.renderOutput(dataTable, element);\n",
              "          const docLink = document.createElement('div');\n",
              "          docLink.innerHTML = docLinkHtml;\n",
              "          element.appendChild(docLink);\n",
              "        }\n",
              "      </script>\n",
              "    </div>\n",
              "  </div>\n",
              "  "
            ]
          },
          "metadata": {},
          "execution_count": 48
        }
      ],
      "source": [
        "# Таких всего двое. Посмотрю подробнее:\n",
        "df_users.loc[(df_users['user_id'] == 1128)|(df_users['user_id'] == 1371)]"
      ]
    },
    {
      "cell_type": "markdown",
      "metadata": {
        "id": "_m0C2F-05Dpt"
      },
      "source": [
        "Эти люди были клиенты компании меньше месяца. Но один раз тариф оплатили. "
      ]
    },
    {
      "cell_type": "code",
      "execution_count": 49,
      "metadata": {
        "colab": {
          "base_uri": "https://localhost:8080/",
          "height": 176
        },
        "id": "JqUE9xTU5Dpu",
        "outputId": "1b866b4c-a02a-407c-dc8d-080d69dc93e1"
      },
      "outputs": [
        {
          "output_type": "execute_result",
          "data": {
            "text/plain": [
              "      user_id  month  calls_count  calls_sum  messages  gb_used      city  \\\n",
              "985      1128     12            0          0         0        0  Волжский   \n",
              "3215     1371     12            0          0         0        0      Омск   \n",
              "\n",
              "     tariff  messages_included  gb_per_month_included  minutes_included  \\\n",
              "985   ultra               1000                     30              3000   \n",
              "3215  smart                 50                     15               500   \n",
              "\n",
              "      rub_monthly_fee  rub_per_gb  rub_per_message  rub_per_minute  \n",
              "985              1950         150                1               1  \n",
              "3215              550         200                3               3  "
            ],
            "text/html": [
              "\n",
              "  <div id=\"df-9f0f7388-6826-4a45-84ea-9c9ec7cb3831\">\n",
              "    <div class=\"colab-df-container\">\n",
              "      <div>\n",
              "<style scoped>\n",
              "    .dataframe tbody tr th:only-of-type {\n",
              "        vertical-align: middle;\n",
              "    }\n",
              "\n",
              "    .dataframe tbody tr th {\n",
              "        vertical-align: top;\n",
              "    }\n",
              "\n",
              "    .dataframe thead th {\n",
              "        text-align: right;\n",
              "    }\n",
              "</style>\n",
              "<table border=\"1\" class=\"dataframe\">\n",
              "  <thead>\n",
              "    <tr style=\"text-align: right;\">\n",
              "      <th></th>\n",
              "      <th>user_id</th>\n",
              "      <th>month</th>\n",
              "      <th>calls_count</th>\n",
              "      <th>calls_sum</th>\n",
              "      <th>messages</th>\n",
              "      <th>gb_used</th>\n",
              "      <th>city</th>\n",
              "      <th>tariff</th>\n",
              "      <th>messages_included</th>\n",
              "      <th>gb_per_month_included</th>\n",
              "      <th>minutes_included</th>\n",
              "      <th>rub_monthly_fee</th>\n",
              "      <th>rub_per_gb</th>\n",
              "      <th>rub_per_message</th>\n",
              "      <th>rub_per_minute</th>\n",
              "    </tr>\n",
              "  </thead>\n",
              "  <tbody>\n",
              "    <tr>\n",
              "      <th>985</th>\n",
              "      <td>1128</td>\n",
              "      <td>12</td>\n",
              "      <td>0</td>\n",
              "      <td>0</td>\n",
              "      <td>0</td>\n",
              "      <td>0</td>\n",
              "      <td>Волжский</td>\n",
              "      <td>ultra</td>\n",
              "      <td>1000</td>\n",
              "      <td>30</td>\n",
              "      <td>3000</td>\n",
              "      <td>1950</td>\n",
              "      <td>150</td>\n",
              "      <td>1</td>\n",
              "      <td>1</td>\n",
              "    </tr>\n",
              "    <tr>\n",
              "      <th>3215</th>\n",
              "      <td>1371</td>\n",
              "      <td>12</td>\n",
              "      <td>0</td>\n",
              "      <td>0</td>\n",
              "      <td>0</td>\n",
              "      <td>0</td>\n",
              "      <td>Омск</td>\n",
              "      <td>smart</td>\n",
              "      <td>50</td>\n",
              "      <td>15</td>\n",
              "      <td>500</td>\n",
              "      <td>550</td>\n",
              "      <td>200</td>\n",
              "      <td>3</td>\n",
              "      <td>3</td>\n",
              "    </tr>\n",
              "  </tbody>\n",
              "</table>\n",
              "</div>\n",
              "      <button class=\"colab-df-convert\" onclick=\"convertToInteractive('df-9f0f7388-6826-4a45-84ea-9c9ec7cb3831')\"\n",
              "              title=\"Convert this dataframe to an interactive table.\"\n",
              "              style=\"display:none;\">\n",
              "        \n",
              "  <svg xmlns=\"http://www.w3.org/2000/svg\" height=\"24px\"viewBox=\"0 0 24 24\"\n",
              "       width=\"24px\">\n",
              "    <path d=\"M0 0h24v24H0V0z\" fill=\"none\"/>\n",
              "    <path d=\"M18.56 5.44l.94 2.06.94-2.06 2.06-.94-2.06-.94-.94-2.06-.94 2.06-2.06.94zm-11 1L8.5 8.5l.94-2.06 2.06-.94-2.06-.94L8.5 2.5l-.94 2.06-2.06.94zm10 10l.94 2.06.94-2.06 2.06-.94-2.06-.94-.94-2.06-.94 2.06-2.06.94z\"/><path d=\"M17.41 7.96l-1.37-1.37c-.4-.4-.92-.59-1.43-.59-.52 0-1.04.2-1.43.59L10.3 9.45l-7.72 7.72c-.78.78-.78 2.05 0 2.83L4 21.41c.39.39.9.59 1.41.59.51 0 1.02-.2 1.41-.59l7.78-7.78 2.81-2.81c.8-.78.8-2.07 0-2.86zM5.41 20L4 18.59l7.72-7.72 1.47 1.35L5.41 20z\"/>\n",
              "  </svg>\n",
              "      </button>\n",
              "      \n",
              "  <style>\n",
              "    .colab-df-container {\n",
              "      display:flex;\n",
              "      flex-wrap:wrap;\n",
              "      gap: 12px;\n",
              "    }\n",
              "\n",
              "    .colab-df-convert {\n",
              "      background-color: #E8F0FE;\n",
              "      border: none;\n",
              "      border-radius: 50%;\n",
              "      cursor: pointer;\n",
              "      display: none;\n",
              "      fill: #1967D2;\n",
              "      height: 32px;\n",
              "      padding: 0 0 0 0;\n",
              "      width: 32px;\n",
              "    }\n",
              "\n",
              "    .colab-df-convert:hover {\n",
              "      background-color: #E2EBFA;\n",
              "      box-shadow: 0px 1px 2px rgba(60, 64, 67, 0.3), 0px 1px 3px 1px rgba(60, 64, 67, 0.15);\n",
              "      fill: #174EA6;\n",
              "    }\n",
              "\n",
              "    [theme=dark] .colab-df-convert {\n",
              "      background-color: #3B4455;\n",
              "      fill: #D2E3FC;\n",
              "    }\n",
              "\n",
              "    [theme=dark] .colab-df-convert:hover {\n",
              "      background-color: #434B5C;\n",
              "      box-shadow: 0px 1px 3px 1px rgba(0, 0, 0, 0.15);\n",
              "      filter: drop-shadow(0px 1px 2px rgba(0, 0, 0, 0.3));\n",
              "      fill: #FFFFFF;\n",
              "    }\n",
              "  </style>\n",
              "\n",
              "      <script>\n",
              "        const buttonEl =\n",
              "          document.querySelector('#df-9f0f7388-6826-4a45-84ea-9c9ec7cb3831 button.colab-df-convert');\n",
              "        buttonEl.style.display =\n",
              "          google.colab.kernel.accessAllowed ? 'block' : 'none';\n",
              "\n",
              "        async function convertToInteractive(key) {\n",
              "          const element = document.querySelector('#df-9f0f7388-6826-4a45-84ea-9c9ec7cb3831');\n",
              "          const dataTable =\n",
              "            await google.colab.kernel.invokeFunction('convertToInteractive',\n",
              "                                                     [key], {});\n",
              "          if (!dataTable) return;\n",
              "\n",
              "          const docLinkHtml = 'Like what you see? Visit the ' +\n",
              "            '<a target=\"_blank\" href=https://colab.research.google.com/notebooks/data_table.ipynb>data table notebook</a>'\n",
              "            + ' to learn more about interactive tables.';\n",
              "          element.innerHTML = '';\n",
              "          dataTable['output_type'] = 'display_data';\n",
              "          await google.colab.output.renderOutput(dataTable, element);\n",
              "          const docLink = document.createElement('div');\n",
              "          docLink.innerHTML = docLinkHtml;\n",
              "          element.appendChild(docLink);\n",
              "        }\n",
              "      </script>\n",
              "    </div>\n",
              "  </div>\n",
              "  "
            ]
          },
          "metadata": {},
          "execution_count": 49
        }
      ],
      "source": [
        "# Заполню NaN в таблице data на месяц из подключения и приведу к целым числам:\n",
        "data['month'] = data['month'].fillna(12).astype(int)\n",
        "data.loc[(data['user_id'] == 1128)|(data['user_id'] == 1371)]"
      ]
    },
    {
      "cell_type": "markdown",
      "metadata": {
        "id": "a84KHuXN5Dpv"
      },
      "source": [
        "### Подсчет помесячной выручки с каждого пользователя"
      ]
    },
    {
      "cell_type": "code",
      "execution_count": 50,
      "metadata": {
        "colab": {
          "base_uri": "https://localhost:8080/",
          "height": 557
        },
        "id": "zwFW17Be5Dpv",
        "outputId": "0a47d50c-948a-498d-e537-b714c8957abf"
      },
      "outputs": [
        {
          "output_type": "execute_result",
          "data": {
            "text/plain": [
              "      user_id  month  calls_count  calls_sum  messages  gb_used  \\\n",
              "0        1000      5           17        159        22        3   \n",
              "1        1000      6           28        172        60       23   \n",
              "2        1000      7           41        340        75       14   \n",
              "3        1000      8           42        408        81       14   \n",
              "4        1000      9           46        466        57       15   \n",
              "...       ...    ...          ...        ...       ...      ...   \n",
              "3211     1489      9            0          0        32       17   \n",
              "3212     1489     10            0          0        21       20   \n",
              "3213     1489     11            0          0        20       18   \n",
              "3214     1489     12            0          0        35       17   \n",
              "3215     1371     12            0          0         0        0   \n",
              "\n",
              "                 city tariff  messages_included  gb_per_month_included  \\\n",
              "0           Краснодар  ultra               1000                     30   \n",
              "1           Краснодар  ultra               1000                     30   \n",
              "2           Краснодар  ultra               1000                     30   \n",
              "3           Краснодар  ultra               1000                     30   \n",
              "4           Краснодар  ultra               1000                     30   \n",
              "...               ...    ...                ...                    ...   \n",
              "3211  Санкт-Петербург  smart                 50                     15   \n",
              "3212  Санкт-Петербург  smart                 50                     15   \n",
              "3213  Санкт-Петербург  smart                 50                     15   \n",
              "3214  Санкт-Петербург  smart                 50                     15   \n",
              "3215             Омск  smart                 50                     15   \n",
              "\n",
              "      minutes_included  rub_monthly_fee  rub_per_gb  rub_per_message  \\\n",
              "0                 3000             1950         150                1   \n",
              "1                 3000             1950         150                1   \n",
              "2                 3000             1950         150                1   \n",
              "3                 3000             1950         150                1   \n",
              "4                 3000             1950         150                1   \n",
              "...                ...              ...         ...              ...   \n",
              "3211               500              550         200                3   \n",
              "3212               500              550         200                3   \n",
              "3213               500              550         200                3   \n",
              "3214               500              550         200                3   \n",
              "3215               500              550         200                3   \n",
              "\n",
              "      rub_per_minute  over_cal  over_mes  over_int  user_month  \n",
              "0                  1         0         0         0        1950  \n",
              "1                  1         0         0         0        1950  \n",
              "2                  1         0         0         0        1950  \n",
              "3                  1         0         0         0        1950  \n",
              "4                  1         0         0         0        1950  \n",
              "...              ...       ...       ...       ...         ...  \n",
              "3211               3         0         0         2         950  \n",
              "3212               3         0         0         5        1550  \n",
              "3213               3         0         0         3        1150  \n",
              "3214               3         0         0         2         950  \n",
              "3215               3         0         0         0         550  \n",
              "\n",
              "[3216 rows x 19 columns]"
            ],
            "text/html": [
              "\n",
              "  <div id=\"df-63a87452-0622-4899-ad6e-29e863a0f5d9\">\n",
              "    <div class=\"colab-df-container\">\n",
              "      <div>\n",
              "<style scoped>\n",
              "    .dataframe tbody tr th:only-of-type {\n",
              "        vertical-align: middle;\n",
              "    }\n",
              "\n",
              "    .dataframe tbody tr th {\n",
              "        vertical-align: top;\n",
              "    }\n",
              "\n",
              "    .dataframe thead th {\n",
              "        text-align: right;\n",
              "    }\n",
              "</style>\n",
              "<table border=\"1\" class=\"dataframe\">\n",
              "  <thead>\n",
              "    <tr style=\"text-align: right;\">\n",
              "      <th></th>\n",
              "      <th>user_id</th>\n",
              "      <th>month</th>\n",
              "      <th>calls_count</th>\n",
              "      <th>calls_sum</th>\n",
              "      <th>messages</th>\n",
              "      <th>gb_used</th>\n",
              "      <th>city</th>\n",
              "      <th>tariff</th>\n",
              "      <th>messages_included</th>\n",
              "      <th>gb_per_month_included</th>\n",
              "      <th>minutes_included</th>\n",
              "      <th>rub_monthly_fee</th>\n",
              "      <th>rub_per_gb</th>\n",
              "      <th>rub_per_message</th>\n",
              "      <th>rub_per_minute</th>\n",
              "      <th>over_cal</th>\n",
              "      <th>over_mes</th>\n",
              "      <th>over_int</th>\n",
              "      <th>user_month</th>\n",
              "    </tr>\n",
              "  </thead>\n",
              "  <tbody>\n",
              "    <tr>\n",
              "      <th>0</th>\n",
              "      <td>1000</td>\n",
              "      <td>5</td>\n",
              "      <td>17</td>\n",
              "      <td>159</td>\n",
              "      <td>22</td>\n",
              "      <td>3</td>\n",
              "      <td>Краснодар</td>\n",
              "      <td>ultra</td>\n",
              "      <td>1000</td>\n",
              "      <td>30</td>\n",
              "      <td>3000</td>\n",
              "      <td>1950</td>\n",
              "      <td>150</td>\n",
              "      <td>1</td>\n",
              "      <td>1</td>\n",
              "      <td>0</td>\n",
              "      <td>0</td>\n",
              "      <td>0</td>\n",
              "      <td>1950</td>\n",
              "    </tr>\n",
              "    <tr>\n",
              "      <th>1</th>\n",
              "      <td>1000</td>\n",
              "      <td>6</td>\n",
              "      <td>28</td>\n",
              "      <td>172</td>\n",
              "      <td>60</td>\n",
              "      <td>23</td>\n",
              "      <td>Краснодар</td>\n",
              "      <td>ultra</td>\n",
              "      <td>1000</td>\n",
              "      <td>30</td>\n",
              "      <td>3000</td>\n",
              "      <td>1950</td>\n",
              "      <td>150</td>\n",
              "      <td>1</td>\n",
              "      <td>1</td>\n",
              "      <td>0</td>\n",
              "      <td>0</td>\n",
              "      <td>0</td>\n",
              "      <td>1950</td>\n",
              "    </tr>\n",
              "    <tr>\n",
              "      <th>2</th>\n",
              "      <td>1000</td>\n",
              "      <td>7</td>\n",
              "      <td>41</td>\n",
              "      <td>340</td>\n",
              "      <td>75</td>\n",
              "      <td>14</td>\n",
              "      <td>Краснодар</td>\n",
              "      <td>ultra</td>\n",
              "      <td>1000</td>\n",
              "      <td>30</td>\n",
              "      <td>3000</td>\n",
              "      <td>1950</td>\n",
              "      <td>150</td>\n",
              "      <td>1</td>\n",
              "      <td>1</td>\n",
              "      <td>0</td>\n",
              "      <td>0</td>\n",
              "      <td>0</td>\n",
              "      <td>1950</td>\n",
              "    </tr>\n",
              "    <tr>\n",
              "      <th>3</th>\n",
              "      <td>1000</td>\n",
              "      <td>8</td>\n",
              "      <td>42</td>\n",
              "      <td>408</td>\n",
              "      <td>81</td>\n",
              "      <td>14</td>\n",
              "      <td>Краснодар</td>\n",
              "      <td>ultra</td>\n",
              "      <td>1000</td>\n",
              "      <td>30</td>\n",
              "      <td>3000</td>\n",
              "      <td>1950</td>\n",
              "      <td>150</td>\n",
              "      <td>1</td>\n",
              "      <td>1</td>\n",
              "      <td>0</td>\n",
              "      <td>0</td>\n",
              "      <td>0</td>\n",
              "      <td>1950</td>\n",
              "    </tr>\n",
              "    <tr>\n",
              "      <th>4</th>\n",
              "      <td>1000</td>\n",
              "      <td>9</td>\n",
              "      <td>46</td>\n",
              "      <td>466</td>\n",
              "      <td>57</td>\n",
              "      <td>15</td>\n",
              "      <td>Краснодар</td>\n",
              "      <td>ultra</td>\n",
              "      <td>1000</td>\n",
              "      <td>30</td>\n",
              "      <td>3000</td>\n",
              "      <td>1950</td>\n",
              "      <td>150</td>\n",
              "      <td>1</td>\n",
              "      <td>1</td>\n",
              "      <td>0</td>\n",
              "      <td>0</td>\n",
              "      <td>0</td>\n",
              "      <td>1950</td>\n",
              "    </tr>\n",
              "    <tr>\n",
              "      <th>...</th>\n",
              "      <td>...</td>\n",
              "      <td>...</td>\n",
              "      <td>...</td>\n",
              "      <td>...</td>\n",
              "      <td>...</td>\n",
              "      <td>...</td>\n",
              "      <td>...</td>\n",
              "      <td>...</td>\n",
              "      <td>...</td>\n",
              "      <td>...</td>\n",
              "      <td>...</td>\n",
              "      <td>...</td>\n",
              "      <td>...</td>\n",
              "      <td>...</td>\n",
              "      <td>...</td>\n",
              "      <td>...</td>\n",
              "      <td>...</td>\n",
              "      <td>...</td>\n",
              "      <td>...</td>\n",
              "    </tr>\n",
              "    <tr>\n",
              "      <th>3211</th>\n",
              "      <td>1489</td>\n",
              "      <td>9</td>\n",
              "      <td>0</td>\n",
              "      <td>0</td>\n",
              "      <td>32</td>\n",
              "      <td>17</td>\n",
              "      <td>Санкт-Петербург</td>\n",
              "      <td>smart</td>\n",
              "      <td>50</td>\n",
              "      <td>15</td>\n",
              "      <td>500</td>\n",
              "      <td>550</td>\n",
              "      <td>200</td>\n",
              "      <td>3</td>\n",
              "      <td>3</td>\n",
              "      <td>0</td>\n",
              "      <td>0</td>\n",
              "      <td>2</td>\n",
              "      <td>950</td>\n",
              "    </tr>\n",
              "    <tr>\n",
              "      <th>3212</th>\n",
              "      <td>1489</td>\n",
              "      <td>10</td>\n",
              "      <td>0</td>\n",
              "      <td>0</td>\n",
              "      <td>21</td>\n",
              "      <td>20</td>\n",
              "      <td>Санкт-Петербург</td>\n",
              "      <td>smart</td>\n",
              "      <td>50</td>\n",
              "      <td>15</td>\n",
              "      <td>500</td>\n",
              "      <td>550</td>\n",
              "      <td>200</td>\n",
              "      <td>3</td>\n",
              "      <td>3</td>\n",
              "      <td>0</td>\n",
              "      <td>0</td>\n",
              "      <td>5</td>\n",
              "      <td>1550</td>\n",
              "    </tr>\n",
              "    <tr>\n",
              "      <th>3213</th>\n",
              "      <td>1489</td>\n",
              "      <td>11</td>\n",
              "      <td>0</td>\n",
              "      <td>0</td>\n",
              "      <td>20</td>\n",
              "      <td>18</td>\n",
              "      <td>Санкт-Петербург</td>\n",
              "      <td>smart</td>\n",
              "      <td>50</td>\n",
              "      <td>15</td>\n",
              "      <td>500</td>\n",
              "      <td>550</td>\n",
              "      <td>200</td>\n",
              "      <td>3</td>\n",
              "      <td>3</td>\n",
              "      <td>0</td>\n",
              "      <td>0</td>\n",
              "      <td>3</td>\n",
              "      <td>1150</td>\n",
              "    </tr>\n",
              "    <tr>\n",
              "      <th>3214</th>\n",
              "      <td>1489</td>\n",
              "      <td>12</td>\n",
              "      <td>0</td>\n",
              "      <td>0</td>\n",
              "      <td>35</td>\n",
              "      <td>17</td>\n",
              "      <td>Санкт-Петербург</td>\n",
              "      <td>smart</td>\n",
              "      <td>50</td>\n",
              "      <td>15</td>\n",
              "      <td>500</td>\n",
              "      <td>550</td>\n",
              "      <td>200</td>\n",
              "      <td>3</td>\n",
              "      <td>3</td>\n",
              "      <td>0</td>\n",
              "      <td>0</td>\n",
              "      <td>2</td>\n",
              "      <td>950</td>\n",
              "    </tr>\n",
              "    <tr>\n",
              "      <th>3215</th>\n",
              "      <td>1371</td>\n",
              "      <td>12</td>\n",
              "      <td>0</td>\n",
              "      <td>0</td>\n",
              "      <td>0</td>\n",
              "      <td>0</td>\n",
              "      <td>Омск</td>\n",
              "      <td>smart</td>\n",
              "      <td>50</td>\n",
              "      <td>15</td>\n",
              "      <td>500</td>\n",
              "      <td>550</td>\n",
              "      <td>200</td>\n",
              "      <td>3</td>\n",
              "      <td>3</td>\n",
              "      <td>0</td>\n",
              "      <td>0</td>\n",
              "      <td>0</td>\n",
              "      <td>550</td>\n",
              "    </tr>\n",
              "  </tbody>\n",
              "</table>\n",
              "<p>3216 rows × 19 columns</p>\n",
              "</div>\n",
              "      <button class=\"colab-df-convert\" onclick=\"convertToInteractive('df-63a87452-0622-4899-ad6e-29e863a0f5d9')\"\n",
              "              title=\"Convert this dataframe to an interactive table.\"\n",
              "              style=\"display:none;\">\n",
              "        \n",
              "  <svg xmlns=\"http://www.w3.org/2000/svg\" height=\"24px\"viewBox=\"0 0 24 24\"\n",
              "       width=\"24px\">\n",
              "    <path d=\"M0 0h24v24H0V0z\" fill=\"none\"/>\n",
              "    <path d=\"M18.56 5.44l.94 2.06.94-2.06 2.06-.94-2.06-.94-.94-2.06-.94 2.06-2.06.94zm-11 1L8.5 8.5l.94-2.06 2.06-.94-2.06-.94L8.5 2.5l-.94 2.06-2.06.94zm10 10l.94 2.06.94-2.06 2.06-.94-2.06-.94-.94-2.06-.94 2.06-2.06.94z\"/><path d=\"M17.41 7.96l-1.37-1.37c-.4-.4-.92-.59-1.43-.59-.52 0-1.04.2-1.43.59L10.3 9.45l-7.72 7.72c-.78.78-.78 2.05 0 2.83L4 21.41c.39.39.9.59 1.41.59.51 0 1.02-.2 1.41-.59l7.78-7.78 2.81-2.81c.8-.78.8-2.07 0-2.86zM5.41 20L4 18.59l7.72-7.72 1.47 1.35L5.41 20z\"/>\n",
              "  </svg>\n",
              "      </button>\n",
              "      \n",
              "  <style>\n",
              "    .colab-df-container {\n",
              "      display:flex;\n",
              "      flex-wrap:wrap;\n",
              "      gap: 12px;\n",
              "    }\n",
              "\n",
              "    .colab-df-convert {\n",
              "      background-color: #E8F0FE;\n",
              "      border: none;\n",
              "      border-radius: 50%;\n",
              "      cursor: pointer;\n",
              "      display: none;\n",
              "      fill: #1967D2;\n",
              "      height: 32px;\n",
              "      padding: 0 0 0 0;\n",
              "      width: 32px;\n",
              "    }\n",
              "\n",
              "    .colab-df-convert:hover {\n",
              "      background-color: #E2EBFA;\n",
              "      box-shadow: 0px 1px 2px rgba(60, 64, 67, 0.3), 0px 1px 3px 1px rgba(60, 64, 67, 0.15);\n",
              "      fill: #174EA6;\n",
              "    }\n",
              "\n",
              "    [theme=dark] .colab-df-convert {\n",
              "      background-color: #3B4455;\n",
              "      fill: #D2E3FC;\n",
              "    }\n",
              "\n",
              "    [theme=dark] .colab-df-convert:hover {\n",
              "      background-color: #434B5C;\n",
              "      box-shadow: 0px 1px 3px 1px rgba(0, 0, 0, 0.15);\n",
              "      filter: drop-shadow(0px 1px 2px rgba(0, 0, 0, 0.3));\n",
              "      fill: #FFFFFF;\n",
              "    }\n",
              "  </style>\n",
              "\n",
              "      <script>\n",
              "        const buttonEl =\n",
              "          document.querySelector('#df-63a87452-0622-4899-ad6e-29e863a0f5d9 button.colab-df-convert');\n",
              "        buttonEl.style.display =\n",
              "          google.colab.kernel.accessAllowed ? 'block' : 'none';\n",
              "\n",
              "        async function convertToInteractive(key) {\n",
              "          const element = document.querySelector('#df-63a87452-0622-4899-ad6e-29e863a0f5d9');\n",
              "          const dataTable =\n",
              "            await google.colab.kernel.invokeFunction('convertToInteractive',\n",
              "                                                     [key], {});\n",
              "          if (!dataTable) return;\n",
              "\n",
              "          const docLinkHtml = 'Like what you see? Visit the ' +\n",
              "            '<a target=\"_blank\" href=https://colab.research.google.com/notebooks/data_table.ipynb>data table notebook</a>'\n",
              "            + ' to learn more about interactive tables.';\n",
              "          element.innerHTML = '';\n",
              "          dataTable['output_type'] = 'display_data';\n",
              "          await google.colab.output.renderOutput(dataTable, element);\n",
              "          const docLink = document.createElement('div');\n",
              "          docLink.innerHTML = docLinkHtml;\n",
              "          element.appendChild(docLink);\n",
              "        }\n",
              "      </script>\n",
              "    </div>\n",
              "  </div>\n",
              "  "
            ]
          },
          "metadata": {},
          "execution_count": 50
        }
      ],
      "source": [
        "# помесячная выручка\n",
        "# вычту включенные в тариф минуты из фактически использованных для каждого пользователя\n",
        "# обнулю месяцы в которых не было превышения\n",
        "data['over_cal'] = data['calls_sum'] - data['minutes_included']\n",
        "data.loc[data['over_cal'] < 0, 'over_cal'] = 0\n",
        "# вычту включенные в тариф сообщения из фактически использованных для каждого пользователя\n",
        "# обнулю месяцы в которых не было превышения\n",
        "data['over_mes'] = data['messages'] - data['messages_included']\n",
        "data.loc[data['over_mes'] < 0, 'over_mes'] = 0\n",
        "# вычту включенные в тариф гигабайты из фактически использованных для каждого пользователя\n",
        "# обнулю месяцы в которых не было превышения\n",
        "data['over_int'] = data['gb_used'] - data['gb_per_month_included']\n",
        "data.loc[data['over_int'] < 0, 'over_int'] = 0\n",
        "# помесячные расходы пользователей\n",
        "data['user_month'] = data['rub_monthly_fee'] \\\n",
        "                    + data['over_cal'] * data['rub_per_minute'] \\\n",
        "                    + data['over_mes'] * data['rub_per_message'] \\\n",
        "                    + data['over_int'] * data['rub_per_gb']                  \n",
        "data"
      ]
    },
    {
      "cell_type": "code",
      "execution_count": 51,
      "metadata": {
        "colab": {
          "base_uri": "https://localhost:8080/"
        },
        "id": "twK3qzgy5Dpx",
        "outputId": "8789ccdf-d8bc-4e30-b7fa-5d6f8e6aaa46"
      },
      "outputs": [
        {
          "output_type": "execute_result",
          "data": {
            "text/plain": [
              "4916951"
            ]
          },
          "metadata": {},
          "execution_count": 51
        }
      ],
      "source": [
        "# суммарная выручка всех абонентов за год.\n",
        "data['user_month'].sum()"
      ]
    },
    {
      "cell_type": "markdown",
      "metadata": {
        "id": "tHDzXAhN5Dpz"
      },
      "source": [
        "## Анализ расходов клиентов\n",
        "Посмотрю, сколько минут разговора, сколько сообщений и какой объём интернет-трафика требуется пользователям каждого тарифа в месяц? Посчитаю среднее количество, дисперсию и стандартное отклонение. Построю гистограммы. Опишу распределения."
      ]
    },
    {
      "cell_type": "code",
      "execution_count": 52,
      "metadata": {
        "id": "1oa7JUdb5Dp0"
      },
      "outputs": [],
      "source": [
        "# функция statistica печатает поясняющие заголовки, среднее, дисперсию и стандартное отклонение \n",
        "# для переданных заголовков и серии\n",
        "def statistica (head_1, head_2, my_ser):\n",
        "    print(head_1)\n",
        "    print(head_2)\n",
        "    print('    Среднее:', np.mean(my_ser))\n",
        "    print('    Диспер.:', np.var(my_ser))\n",
        "    print('    Ст.отк.:', np.std(my_ser))\n",
        "    print()"
      ]
    },
    {
      "cell_type": "code",
      "execution_count": 53,
      "metadata": {
        "id": "b2PTyKt05Dp0"
      },
      "outputs": [],
      "source": [
        "# разделение клиентов по тарифам\n",
        "data_smart = data[data['tariff'] == \"smart\"]\n",
        "data_ultra = data[data['tariff'] == \"ultra\"]"
      ]
    },
    {
      "cell_type": "markdown",
      "source": [
        "### Звонки"
      ],
      "metadata": {
        "id": "ElyfM0S_n4Gi"
      }
    },
    {
      "cell_type": "code",
      "execution_count": 54,
      "metadata": {
        "scrolled": true,
        "colab": {
          "base_uri": "https://localhost:8080/"
        },
        "id": "Ir3vhDuL5Dp1",
        "outputId": "fb0d65fa-227b-4c9f-dfbe-ea4e0d2a6adf"
      },
      "outputs": [
        {
          "output_type": "stream",
          "name": "stdout",
          "text": [
            "Тариф «Смарт»\n",
            "Звонки:\n",
            "    Среднее: 417.747533632287\n",
            "    Диспер.: 36265.12415310985\n",
            "    Ст.отк.: 190.4340414765959\n",
            "\n",
            "Тариф «Ультра»\n",
            "Звонки:\n",
            "    Среднее: 526.0892494929006\n",
            "    Диспер.: 100950.00623331098\n",
            "    Ст.отк.: 317.7263071155912\n",
            "\n"
          ]
        }
      ],
      "source": [
        "# среднее, дисперсия и стандартное отклонение суммы звонков в месяц по тарифам\n",
        "statistica('Тариф «Смарт»', 'Звонки:', data_smart['calls_sum'])\n",
        "statistica('Тариф «Ультра»', 'Звонки:', data_ultra['calls_sum'])"
      ]
    },
    {
      "cell_type": "code",
      "execution_count": 55,
      "metadata": {
        "colab": {
          "base_uri": "https://localhost:8080/",
          "height": 571
        },
        "id": "e2vAG2bO5Dp2",
        "outputId": "d19e8913-e20a-4488-e5a7-8666b715d4bb"
      },
      "outputs": [
        {
          "output_type": "display_data",
          "data": {
            "text/plain": [
              "<Figure size 864x648 with 1 Axes>"
            ],
            "image/png": "[encoded data removed]"
          },
          "metadata": {
            "needs_background": "light"
          }
        }
      ],
      "source": [
        "# гистограмма длительности звонков в месяц по тарифам\n",
        "plt.figure(figsize=(12,9))\n",
        "plt.hist(data_smart['calls_sum'], bins=100, alpha=0.5, label=\"smart\", density=True)\n",
        "plt.hist(data_ultra['calls_sum'], bins=100, alpha=0.5, label=\"ultra\", density=True)\n",
        "plt.xlabel(\"Минут звонков в месяц\", size=14)\n",
        "plt.ylabel(\"Частота значений\", size=14)\n",
        "plt.legend(loc='upper right')\n",
        "plt.title(\"Распределение длительности звонков по тарифам\")\n",
        "plt.show()"
      ]
    },
    {
      "cell_type": "markdown",
      "metadata": {
        "id": "88igV_J85Dp2"
      },
      "source": [
        "**Вывод**\n",
        "\n",
        "Длительность звонков абонентов тарифа \"Смарт\" распределена вокруг включенных в тариф 500 минут: +- 300 минут. Абоненты не часто превышают включенные в тариф минуты. Среди абонентов мало тех, кто почти не звонит. \n",
        "\n",
        "Абоненты тарифа \"Ультра\" никогда полностью не используют включенные в тариф 3000 минут. Частота расхода минут тарифа \"Ультра\" рапределена в диапазоне от 200 до 1000 минут. Среди абонентов тарифа \"Ультра\" много таких, кто почти не звонит.\n",
        "### Сообщения"
      ]
    },
    {
      "cell_type": "code",
      "execution_count": 56,
      "metadata": {
        "colab": {
          "base_uri": "https://localhost:8080/"
        },
        "id": "TB48xTcK5Dp3",
        "outputId": "5f9309d7-2ab1-4f36-a914-1d9fc60603d9"
      },
      "outputs": [
        {
          "output_type": "stream",
          "name": "stdout",
          "text": [
            "Тариф «Смарт»\n",
            "Сообщения:\n",
            "    Среднее: 33.36905829596412\n",
            "    Диспер.: 796.5978766916688\n",
            "    Ст.отк.: 28.224065559229217\n",
            "\n",
            "Тариф «Ультра»\n",
            "Сообщения:\n",
            "    Среднее: 49.31338742393509\n",
            "    Диспер.: 2283.0995570851965\n",
            "    Ст.отк.: 47.781791061922284\n",
            "\n"
          ]
        }
      ],
      "source": [
        "# среднее, дисперсия и стандартное отклонение числа сообщений в месяц по тарифам\n",
        "statistica('Тариф «Смарт»', 'Сообщения:', data_smart['messages'])\n",
        "statistica('Тариф «Ультра»', 'Сообщения:', data_ultra['messages'])"
      ]
    },
    {
      "cell_type": "code",
      "execution_count": 57,
      "metadata": {
        "colab": {
          "base_uri": "https://localhost:8080/",
          "height": 571
        },
        "id": "-xjxVoW75Dp4",
        "outputId": "9ef6b2ec-41b7-4538-ae0d-5218c5086aaf"
      },
      "outputs": [
        {
          "output_type": "display_data",
          "data": {
            "text/plain": [
              "<Figure size 864x648 with 1 Axes>"
            ],
            "image/png": "[encoded data removed]"
          },
          "metadata": {
            "needs_background": "light"
          }
        }
      ],
      "source": [
        "# гистограмма количества ообщений по тарифам\n",
        "plt.figure(figsize=(12,9))\n",
        "plt.hist(data_smart['messages'], bins=100, alpha=0.5, label=\"smart\", density=True)\n",
        "plt.hist(data_ultra['messages'], bins=100, alpha=0.5, label=\"ultra\", density=True)\n",
        "plt.xlabel(\"Сообщений в месяц\", size=14)\n",
        "plt.ylabel(\"Частота значений\", size=14)\n",
        "plt.legend(loc='upper right')\n",
        "plt.title(\"Распределение количества сообщений по тарифам\")\n",
        "plt.show()"
      ]
    },
    {
      "cell_type": "markdown",
      "metadata": {
        "id": "Ve9anOqI5Dp4"
      },
      "source": [
        "**Вывод**\n",
        "\n",
        "Большая часть абонентов тарифа \"Смарт\" используют до 50 сообщений в месяц. Меньшая - до 100. Незначительная часть - до 150 сообщений в месяц. Среди абонентов тарифа \"Смарт\" много тех, кто не отправляет сообщений. \n",
        "\n",
        "Абоненты тарифа \"Ультра\" никогда полностью не используют включенные в тариф 1000 сообщений. Их потребность полностью покрывают 200 сообщений в месяц. Среди абонентов тарифа \"Ультра\" много тех, кто не отправляет сообщений.\n",
        "### Интернет"
      ]
    },
    {
      "cell_type": "code",
      "execution_count": 58,
      "metadata": {
        "colab": {
          "base_uri": "https://localhost:8080/"
        },
        "id": "Wum2TRk45Dp5",
        "outputId": "00739c31-ef65-4be0-8722-c5ec20d0d8b9"
      },
      "outputs": [
        {
          "output_type": "stream",
          "name": "stdout",
          "text": [
            "Тариф «Смарт»\n",
            "Интернет трафик:\n",
            "    Среднее: 16.32152466367713\n",
            "    Диспер.: 33.11859498481772\n",
            "    Ст.отк.: 5.754875757548352\n",
            "\n",
            "Тариф «Ультра»\n",
            "Интернет трафик:\n",
            "    Среднее: 19.474645030425965\n",
            "    Диспер.: 97.27978308900676\n",
            "    Ст.отк.: 9.863051408616238\n",
            "\n"
          ]
        }
      ],
      "source": [
        "# среднее, дисперсия и стандартное отклонение интернет трафика в месяц по тарифам\n",
        "statistica('Тариф «Смарт»', 'Интернет трафик:', data_smart['gb_used'])\n",
        "statistica('Тариф «Ультра»', 'Интернет трафик:', data_ultra['gb_used'])"
      ]
    },
    {
      "cell_type": "code",
      "execution_count": 59,
      "metadata": {
        "scrolled": true,
        "colab": {
          "base_uri": "https://localhost:8080/",
          "height": 571
        },
        "id": "f7delVfb5Dp6",
        "outputId": "c62db3dd-1106-4ab0-edd7-67916582a903"
      },
      "outputs": [
        {
          "output_type": "display_data",
          "data": {
            "text/plain": [
              "<Figure size 864x648 with 1 Axes>"
            ],
            "image/png": "[encoded data removed]"
          },
          "metadata": {
            "needs_background": "light"
          }
        }
      ],
      "source": [
        "# гистограмма интернет-трафика по тарифам\n",
        "plt.figure(figsize=(12,9))\n",
        "plt.hist(data_smart['gb_used'], bins=100, alpha=0.5, label=\"smart\", density=True)\n",
        "plt.hist(data_ultra['gb_used'], bins=100, alpha=0.5, label=\"ultra\", density=True)\n",
        "plt.xlabel(\"Гигабайт в месяц\", size=14)\n",
        "plt.ylabel(\"Частота значений\", size=14)\n",
        "plt.legend(loc='upper right')\n",
        "plt.title(\"Распределение интернет-трафика по тарифам\")\n",
        "plt.show()"
      ]
    },
    {
      "cell_type": "markdown",
      "metadata": {
        "id": "pxZJeoe55Dp7"
      },
      "source": [
        "**Вывод**\n",
        "\n",
        "Абоненты тарифа \"Смарт\" в среднем расходуют больше включенных в тариф 15Гб интернет-трафика. Их потребность почти полностью покрывают 30Гб. Все абоненты этого тарифа используют мобильный интернет. \n",
        "\n",
        "Абоненты тарифа \"Ультра\" в среднем расходуют меньше включенных в тариф 30Гб интернет-трафика. Но среди них велика доля тех, кто расходует от 30 до 40Гб. Среди абонентов тарифа \"Ультра\" есть такие, кто почти не использует мобильный интернет."
      ]
    },
    {
      "cell_type": "markdown",
      "metadata": {
        "id": "Dns4jbAg5Dp9"
      },
      "source": [
        "## Проверка гипотез\n",
        "### Гипотеза 1. Средняя выручка пользователей тарифов «Ультра» и «Смарт» различаются.\n",
        "\n",
        "Cформулирую нулевую гипотезу H₀: средняя выручка пользователей тарифов «Ультра» и «Смарт» равны. \n",
        "Альтернативная гипотеза H₁: средняя выручка пользователей тарифов «Ультра» и «Смарт» различаются.\n",
        "\n",
        "У нас есть две независимых выборки выручки абонентов с разными тарифами за 2018 год. Нужно сравнить средние двух генеральных совокупностей выручек абонентов компании между собой. На основании имеющихся случайных выборок сделать вывод о том, считать ли средние выручки за эти периоды одинаковыми или нет.\n",
        "Воспользуюсь методом для проверки гипотезы о равенстве среднего двух генеральных совокупностей по взятым из них выборкам: scipy.stats.ttest_ind.\n",
        "Пороговое значение alpha задам 0.05.\n"
      ]
    },
    {
      "cell_type": "code",
      "execution_count": 60,
      "metadata": {
        "colab": {
          "base_uri": "https://localhost:8080/"
        },
        "id": "9d3N0RAu5Dp-",
        "outputId": "a5bf5e42-f7a5-4b32-a91a-fc6ca3f7c297"
      },
      "outputs": [
        {
          "output_type": "execute_result",
          "data": {
            "text/plain": [
              "4916951"
            ]
          },
          "metadata": {},
          "execution_count": 60
        }
      ],
      "source": [
        "# суммарная выручка всех абонентов за год.\n",
        "data['user_month'].sum()"
      ]
    },
    {
      "cell_type": "code",
      "execution_count": 61,
      "metadata": {
        "colab": {
          "base_uri": "https://localhost:8080/"
        },
        "id": "d-9bpHFm5Dp_",
        "outputId": "67804583-801d-4c87-a2bf-db4bf9340893"
      },
      "outputs": [
        {
          "output_type": "stream",
          "name": "stdout",
          "text": [
            "Всего абонентов тарифа «Смарт»: 351\n",
            "Выручка всех абонентов тарифа за год: 2875901\n",
            "Тариф «Смарт»\n",
            "Выручка:\n",
            "    Среднее: 1289.6417040358745\n",
            "    Диспер.: 669430.4361979931\n",
            "    Ст.отк.: 818.187286749185\n",
            "\n",
            "Всего абонентов тарифа «Ультра»: 149\n",
            "Выручка всех абонентов тарифа за год: 2041050\n",
            "Тариф «Ультра»\n",
            "Выручка:\n",
            "    Среднее: 2070.030425963489\n",
            "    Диспер.: 141244.31956107615\n",
            "    Ст.отк.: 375.8248522398115\n",
            "\n"
          ]
        }
      ],
      "source": [
        "# среднее, дисперсия и стандартное отклонение выручки от пользователей в месяц по тарифам\n",
        "print('Всего абонентов тарифа «Смарт»:', len(data_smart['user_id'].unique()))\n",
        "print('Выручка всех абонентов тарифа за год:', data_smart['user_month'].sum())\n",
        "statistica('Тариф «Смарт»', 'Выручка:', data_smart['user_month'])\n",
        "print('Всего абонентов тарифа «Ультра»:', len(data_ultra['user_id'].unique()))\n",
        "print('Выручка всех абонентов тарифа за год:', data_ultra['user_month'].sum())\n",
        "statistica('Тариф «Ультра»', 'Выручка:', data_ultra['user_month'])"
      ]
    },
    {
      "cell_type": "code",
      "execution_count": 62,
      "metadata": {
        "colab": {
          "base_uri": "https://localhost:8080/"
        },
        "id": "CAI-jY-Q5DqA",
        "outputId": "625317ac-c888-4e42-e99d-dd4348711cf6"
      },
      "outputs": [
        {
          "output_type": "stream",
          "name": "stdout",
          "text": [
            "Гипотеза H₀: средняя выручка пользователей тарифов «Ультра» и «Смарт» равны.\n",
            "p-значение: 1.927011394420941e-250\n",
            "Отвергаем нулевую гипотезу\n"
          ]
        }
      ],
      "source": [
        "# проверка гипотезы о равенстве средних двух независимых совокупностей\n",
        "# критический уровень статистической значимости\n",
        "alpha = 0.05 \n",
        "# если p-value окажется меньше него - отвегнем гипотезу\n",
        "\n",
        "results = st.ttest_ind(\n",
        "    data_smart['user_month'], \n",
        "    data_ultra['user_month'],\n",
        "    equal_var = False,  # дисперсии не равны\n",
        "    nan_policy='omit') # игнорировать NaN\n",
        "\n",
        "print('Гипотеза H₀: средняя выручка пользователей тарифов «Ультра» и «Смарт» равны.')\n",
        "print('p-значение:', results.pvalue)\n",
        "\n",
        "if results.pvalue < alpha:\n",
        "    print(\"Отвергаем нулевую гипотезу\")\n",
        "else:\n",
        "    print(\"Не получилось отвергнуть нулевую гипотезу\") "
      ]
    },
    {
      "cell_type": "markdown",
      "metadata": {
        "id": "QenkZB4j5DqA"
      },
      "source": [
        "p-value - это вероятность получить наблюдаемую разницу в средней выручке пользователей разных тарифов совершенно случайно при условии, что нулевая гипотеза верна. Полученная вероянтость крайне мала (близка к нулю). Поэтому предположение о равенстве средней выручки пользователей тарифов «Ультра» и «Смарт» отвергнуто."
      ]
    },
    {
      "cell_type": "code",
      "execution_count": 63,
      "metadata": {
        "colab": {
          "base_uri": "https://localhost:8080/",
          "height": 571
        },
        "id": "1Q266rGL5DqB",
        "outputId": "7a286b59-d782-46a1-d8e3-5dea0f8995e5"
      },
      "outputs": [
        {
          "output_type": "display_data",
          "data": {
            "text/plain": [
              "<Figure size 864x648 with 1 Axes>"
            ],
            "image/png": "[encoded data removed]"
          },
          "metadata": {
            "needs_background": "light"
          }
        }
      ],
      "source": [
        "# гистограмма ежемесячной выручки по тарифам\n",
        "plt.figure(figsize=(12,9))\n",
        "plt.hist(data_smart['user_month'], bins=100, alpha=0.5, label=\"smart\", density=True)\n",
        "plt.hist(data_ultra['user_month'], bins=100, alpha=0.5, label=\"ultra\", density=True)\n",
        "plt.xlabel(\"Месячная выручка с абонента\", size=14)\n",
        "plt.ylabel(\"Частота значений\", size=14)\n",
        "plt.legend(loc='upper right')\n",
        "plt.title(\"Распределение ежемесячной выручки по тарифам\")\n",
        "plt.show()"
      ]
    },
    {
      "cell_type": "markdown",
      "metadata": {
        "id": "NTO8qAYQ5DqB"
      },
      "source": [
        "### Гипотеза 2. Средняя выручка пользователей из Москвы отличается от выручки пользователей из других регионов.\n",
        "\n",
        "Cформулирую нулевую гипотезу H₀: средняя выручка пользователей из Москвы и других регионов равны. \n",
        "Альтернативная гипотеза H₁: средняя выручка пользователей из Москвы и других регионов различаются.\n",
        "\n",
        "У нас есть две независимых выборки выручки абонентов из Москвы и других регионов за 2018 год. Нужно сравнить средние двух генеральных совокупностей выручек абонентов компании между собой. На основании имеющихся случайных выборок сделать вывод о том, считать ли средние выручки за эти периоды одинаковыми или нет.\n",
        "Воспользуюсь методом для проверки гипотезы о равенстве среднего двух генеральных совокупностей по взятым из них выборкам: scipy.stats.ttest_ind.\n",
        "Пороговое значение alpha задам 0.05."
      ]
    },
    {
      "cell_type": "code",
      "execution_count": 64,
      "metadata": {
        "colab": {
          "base_uri": "https://localhost:8080/"
        },
        "id": "3f2QlASa5DqC",
        "outputId": "ab3bbbff-5c5a-4745-e1cd-fe897cb4e334"
      },
      "outputs": [
        {
          "output_type": "stream",
          "name": "stdout",
          "text": [
            "Абоненты из Москвы\n",
            "Выручка:\n",
            "    Среднее: 1546.7135842880523\n",
            "    Диспер.: 564710.7117467273\n",
            "    Ст.отк.: 751.4723625967407\n",
            "\n",
            "Абоненты из других регионов\n",
            "Выручка:\n",
            "    Среднее: 1524.7251439539348\n",
            "    Диспер.: 653818.4925923498\n",
            "    Ст.отк.: 808.5904356300226\n",
            "\n"
          ]
        }
      ],
      "source": [
        "# разделю всех абонентов на две группы: из Москвы и из регионов\n",
        "data_moscow = data[data['city'] == \"Москва\"]\n",
        "data_region = data[data['city'] != \"Москва\"]\n",
        "\n",
        "# среднее, дисперсия и стандартное отклонение выручки от абонентов в месяц по регионам\n",
        "statistica('Абоненты из Москвы', 'Выручка:', data_moscow['user_month'])\n",
        "statistica('Абоненты из других регионов', 'Выручка:', data_region['user_month'])"
      ]
    },
    {
      "cell_type": "code",
      "execution_count": 65,
      "metadata": {
        "colab": {
          "base_uri": "https://localhost:8080/"
        },
        "id": "7DMcoF8m5DqD",
        "outputId": "0d85b5f9-cf87-4c86-c76f-2d2bb815262b"
      },
      "outputs": [
        {
          "output_type": "stream",
          "name": "stdout",
          "text": [
            "Гипотеза H₀: средняя выручка пользователей из Москвы и других регионов равны.\n",
            "p-значение: 0.5216952110000278\n",
            "Не получилось отвергнуть нулевую гипотезу\n"
          ]
        }
      ],
      "source": [
        "# проверка гипотезы о равенстве средних двух независимых совокупностей\n",
        "# критический уровень статистической значимости\n",
        "alpha = 0.05 \n",
        "# если p-value окажется меньше него - отвегнем гипотезу\n",
        "\n",
        "results = st.ttest_ind(\n",
        "    data_moscow['user_month'], \n",
        "    data_region['user_month'],\n",
        "    equal_var = False,  # дисперсии не равны\n",
        "    nan_policy='omit') # игнорировать NaN\n",
        "\n",
        "print('Гипотеза H₀: средняя выручка пользователей из Москвы и других регионов равны.')\n",
        "print('p-значение:', results.pvalue)\n",
        "\n",
        "if results.pvalue < alpha:\n",
        "    print(\"Отвергаем нулевую гипотезу\")\n",
        "else:\n",
        "    print(\"Не получилось отвергнуть нулевую гипотезу\") "
      ]
    },
    {
      "cell_type": "markdown",
      "metadata": {
        "id": "U1IZ-JQ05DqD"
      },
      "source": [
        "p-value - это вероятность получить наблюдаемую разницу в средней выручке пользователей разных регионов совершенно случайно при условии, что нулевая гипотеза верна. Полученная вероятность очень велика. Поэтому предположение о равенстве средней выручки пользователей разных регионов не отвергнуто."
      ]
    },
    {
      "cell_type": "code",
      "execution_count": 66,
      "metadata": {
        "colab": {
          "base_uri": "https://localhost:8080/",
          "height": 571
        },
        "id": "wQBshH2d5DqF",
        "outputId": "63676552-6c0d-467d-90be-966d84940756"
      },
      "outputs": [
        {
          "output_type": "display_data",
          "data": {
            "text/plain": [
              "<Figure size 864x648 with 1 Axes>"
            ],
            "image/png": "[encoded data removed]"
          },
          "metadata": {
            "needs_background": "light"
          }
        }
      ],
      "source": [
        "# гистограмма ежемесячной выручки по городам\n",
        "plt.figure(figsize=(12,9))\n",
        "plt.hist(data_moscow['user_month'], bins=100, alpha=0.5, label=\"Москва\", density=True)\n",
        "plt.hist(data_region['user_month'], bins=100, alpha=0.5, label=\"Регионы\", density=True)\n",
        "plt.xlabel(\"Месячная выручка с абонента\", size=14)\n",
        "plt.ylabel(\"Частота значений\", size=14)\n",
        "plt.legend(loc='upper right')\n",
        "plt.title(\"Распределение ежемесячной выручки по городам\")\n",
        "plt.show()"
      ]
    },
    {
      "cell_type": "markdown",
      "metadata": {
        "id": "NIk9glDl5DqG"
      },
      "source": [
        "## Вывод\n",
        "\n",
        "В проведенном исследовании открыла и изучила файлы с данными. Исследовала их на пропуски и дубликаты. Изменила тип данных. \n",
        "Построила сводные таблицы и расчитала для каждого пользователя:\n",
        "количество сделанных звонков и израсходованных минут разговора по месяцам;\n",
        "количество отправленных сообщений по месяцам;\n",
        "объем израсходованного интернет-трафика по месяцам;\n",
        "помесячную выручку с каждого пользователя с учетом бесплатного лимита звонков, сообщений и интернет-трафика, тарифного плана и неполных месяцев использования тарифа.\n",
        "\n",
        "**Пользователи тарифа «Смарт»** в среднем в месяц используют: 453 минуты звонков\n",
        "36 сообщений и \n",
        "18 Гб интернет-трафика\n",
        "Средняя выручка абонента в месяц 1410 рублей.\n",
        "За 2018 год суммарная выручка всех абонентов тарифа \"Смарт\" составила 2776294.99 рублей\n",
        "\n",
        "Длительность звонков абонентов тарифа \"Смарт\" распределена вокруг включенных в тариф 500 минут: +- 300 минут. Абоненты не часто превышают включенные в тариф минуты. Среди абонентов не много тех, кто почти не звонит.\n",
        "\n",
        "**Пользователи тарифа «Ультра»** в среднем в месяц используют: 572 минуты звонков\n",
        "53 сообщения и \n",
        "21 Гб интернет-трафика\n",
        "Средняя выручка абонента в месяц 2102 рублей.\n",
        "За 2018 год суммарная выручка всех абонентов тарифа «Ультра» составила 1876405.0 рублей.\n",
        "\n",
        "Абоненты тарифа \"Ультра\" никогда полностью не используют включенные в тариф 3000 минут, 1000 сообщений, 30 Гб интернет-трафика. Частота расхода минут тарифа \"Ультра\" рапределена в диапазоне от 200 до 1000 минут. Среди абонентов тарифа \"Ультра\" много таких, кто почти не звонит.\n",
        "\n",
        "**Проверила следующие гипотезы:**\n",
        "1. Средняя выручка пользователей тарифов «Ультра» и «Смарт» равны. Гипотеза отвергнута в пользу гипотезы \"Средняя выручка пользователей тарифов «Ультра» и «Смарт» различаются\".\n",
        "2. Средняя выручка пользователей из Москвы из других регионов равны. Не получилось отвергнуть эту гипотезу.  \n",
        "\n",
        "**Итог:** Средняя выручка пользователей тарифов «Ультра» и «Смарт» различаются. Средняя выручка абонента тарифа \"Ультра\" составляет 2102 рублей в месяц, абонента тарифа \"Смарт\" - 1410 рублей. Но так как тариф \"Смарт\" дешевле \"Ультра\", а потому популярнее (351 пользователей против 149) , то в 2018 году на выборке 500 пользователей тариф \"Смарт\" принес компании больше денег (2776294 рублей против 1876405). Средняя выручка пользователей из Москвы и из других регионов одинаковы. "
      ]
    }
  ],
  "metadata": {
    "ExecuteTimeLog": [
      {
        "duration": 2313,
        "start_time": "2022-04-17T15:20:06.520Z"
      },
      {
        "duration": 8,
        "start_time": "2022-04-17T15:20:08.837Z"
      },
      {
        "duration": 854,
        "start_time": "2022-04-17T15:20:08.848Z"
      },
      {
        "duration": 11,
        "start_time": "2022-04-17T15:24:59.491Z"
      },
      {
        "duration": 4,
        "start_time": "2022-04-17T15:46:32.827Z"
      },
      {
        "duration": 22,
        "start_time": "2022-04-17T15:46:32.834Z"
      },
      {
        "duration": 125,
        "start_time": "2022-04-17T15:46:32.859Z"
      },
      {
        "duration": 0,
        "start_time": "2022-04-17T15:46:32.986Z"
      },
      {
        "duration": 0,
        "start_time": "2022-04-17T15:46:32.988Z"
      },
      {
        "duration": 0,
        "start_time": "2022-04-17T15:46:32.990Z"
      },
      {
        "duration": 0,
        "start_time": "2022-04-17T15:46:32.991Z"
      },
      {
        "duration": 0,
        "start_time": "2022-04-17T15:46:32.993Z"
      },
      {
        "duration": 0,
        "start_time": "2022-04-17T15:46:32.995Z"
      },
      {
        "duration": 0,
        "start_time": "2022-04-17T15:46:32.996Z"
      },
      {
        "duration": 0,
        "start_time": "2022-04-17T15:46:32.997Z"
      },
      {
        "duration": 10,
        "start_time": "2022-04-17T15:46:33.000Z"
      },
      {
        "duration": 11,
        "start_time": "2022-04-17T15:46:33.040Z"
      },
      {
        "duration": 0,
        "start_time": "2022-04-17T15:46:33.054Z"
      },
      {
        "duration": 0,
        "start_time": "2022-04-17T15:46:33.056Z"
      },
      {
        "duration": 14,
        "start_time": "2022-04-17T15:46:33.111Z"
      },
      {
        "duration": 0,
        "start_time": "2022-04-17T15:46:33.129Z"
      },
      {
        "duration": 0,
        "start_time": "2022-04-17T15:46:33.131Z"
      },
      {
        "duration": 10,
        "start_time": "2022-04-17T15:46:33.178Z"
      },
      {
        "duration": 10,
        "start_time": "2022-04-17T15:46:33.234Z"
      },
      {
        "duration": 11,
        "start_time": "2022-04-17T15:46:33.290Z"
      },
      {
        "duration": 0,
        "start_time": "2022-04-17T15:46:33.305Z"
      },
      {
        "duration": 13,
        "start_time": "2022-04-17T15:46:33.404Z"
      },
      {
        "duration": 0,
        "start_time": "2022-04-17T15:46:33.420Z"
      },
      {
        "duration": 0,
        "start_time": "2022-04-17T15:46:33.422Z"
      },
      {
        "duration": 10,
        "start_time": "2022-04-17T15:46:33.514Z"
      },
      {
        "duration": 10,
        "start_time": "2022-04-17T15:46:33.615Z"
      },
      {
        "duration": 21,
        "start_time": "2022-04-17T15:46:33.691Z"
      },
      {
        "duration": 0,
        "start_time": "2022-04-17T15:46:33.714Z"
      },
      {
        "duration": 0,
        "start_time": "2022-04-17T15:46:33.715Z"
      },
      {
        "duration": 12,
        "start_time": "2022-04-17T15:46:33.767Z"
      },
      {
        "duration": 0,
        "start_time": "2022-04-17T15:46:33.781Z"
      },
      {
        "duration": 0,
        "start_time": "2022-04-17T15:46:33.783Z"
      },
      {
        "duration": 0,
        "start_time": "2022-04-17T15:46:33.784Z"
      },
      {
        "duration": 13,
        "start_time": "2022-04-17T15:46:33.849Z"
      },
      {
        "duration": 0,
        "start_time": "2022-04-17T15:46:33.864Z"
      },
      {
        "duration": 0,
        "start_time": "2022-04-17T15:46:33.865Z"
      },
      {
        "duration": 0,
        "start_time": "2022-04-17T15:46:33.867Z"
      },
      {
        "duration": 12,
        "start_time": "2022-04-17T15:46:33.942Z"
      },
      {
        "duration": 0,
        "start_time": "2022-04-17T15:46:33.956Z"
      },
      {
        "duration": 0,
        "start_time": "2022-04-17T15:46:33.957Z"
      },
      {
        "duration": 0,
        "start_time": "2022-04-17T15:46:33.958Z"
      },
      {
        "duration": 11,
        "start_time": "2022-04-17T15:46:34.102Z"
      },
      {
        "duration": 0,
        "start_time": "2022-04-17T15:46:34.115Z"
      },
      {
        "duration": 0,
        "start_time": "2022-04-17T15:46:34.117Z"
      },
      {
        "duration": 0,
        "start_time": "2022-04-17T15:46:34.118Z"
      },
      {
        "duration": 0,
        "start_time": "2022-04-17T15:46:34.120Z"
      },
      {
        "duration": 12,
        "start_time": "2022-04-17T15:46:34.198Z"
      },
      {
        "duration": 0,
        "start_time": "2022-04-17T15:46:34.213Z"
      },
      {
        "duration": 0,
        "start_time": "2022-04-17T15:46:34.214Z"
      },
      {
        "duration": 0,
        "start_time": "2022-04-17T15:46:34.216Z"
      },
      {
        "duration": 4,
        "start_time": "2022-04-17T15:47:02.346Z"
      },
      {
        "duration": 11,
        "start_time": "2022-04-17T15:47:02.353Z"
      },
      {
        "duration": 129,
        "start_time": "2022-04-17T15:47:02.367Z"
      },
      {
        "duration": 0,
        "start_time": "2022-04-17T15:47:02.500Z"
      },
      {
        "duration": 0,
        "start_time": "2022-04-17T15:47:02.501Z"
      },
      {
        "duration": 0,
        "start_time": "2022-04-17T15:47:02.503Z"
      },
      {
        "duration": 0,
        "start_time": "2022-04-17T15:47:02.504Z"
      },
      {
        "duration": 0,
        "start_time": "2022-04-17T15:47:02.505Z"
      },
      {
        "duration": 0,
        "start_time": "2022-04-17T15:47:02.506Z"
      },
      {
        "duration": 0,
        "start_time": "2022-04-17T15:47:02.507Z"
      },
      {
        "duration": 0,
        "start_time": "2022-04-17T15:47:02.509Z"
      },
      {
        "duration": 0,
        "start_time": "2022-04-17T15:47:02.510Z"
      },
      {
        "duration": 0,
        "start_time": "2022-04-17T15:47:02.512Z"
      },
      {
        "duration": 0,
        "start_time": "2022-04-17T15:47:02.513Z"
      },
      {
        "duration": 0,
        "start_time": "2022-04-17T15:47:02.514Z"
      },
      {
        "duration": 0,
        "start_time": "2022-04-17T15:47:02.515Z"
      },
      {
        "duration": 0,
        "start_time": "2022-04-17T15:47:02.516Z"
      },
      {
        "duration": 0,
        "start_time": "2022-04-17T15:47:02.518Z"
      },
      {
        "duration": 0,
        "start_time": "2022-04-17T15:47:02.519Z"
      },
      {
        "duration": 0,
        "start_time": "2022-04-17T15:47:02.520Z"
      },
      {
        "duration": 0,
        "start_time": "2022-04-17T15:47:02.522Z"
      },
      {
        "duration": 0,
        "start_time": "2022-04-17T15:47:02.523Z"
      },
      {
        "duration": 0,
        "start_time": "2022-04-17T15:47:02.524Z"
      },
      {
        "duration": 0,
        "start_time": "2022-04-17T15:47:02.525Z"
      },
      {
        "duration": 0,
        "start_time": "2022-04-17T15:47:02.527Z"
      },
      {
        "duration": 0,
        "start_time": "2022-04-17T15:47:02.528Z"
      },
      {
        "duration": 0,
        "start_time": "2022-04-17T15:47:02.529Z"
      },
      {
        "duration": 0,
        "start_time": "2022-04-17T15:47:02.531Z"
      },
      {
        "duration": 0,
        "start_time": "2022-04-17T15:47:02.532Z"
      },
      {
        "duration": 0,
        "start_time": "2022-04-17T15:47:02.533Z"
      },
      {
        "duration": 0,
        "start_time": "2022-04-17T15:47:02.593Z"
      },
      {
        "duration": 0,
        "start_time": "2022-04-17T15:47:02.595Z"
      },
      {
        "duration": 0,
        "start_time": "2022-04-17T15:47:02.596Z"
      },
      {
        "duration": 0,
        "start_time": "2022-04-17T15:47:02.597Z"
      },
      {
        "duration": 0,
        "start_time": "2022-04-17T15:47:02.599Z"
      },
      {
        "duration": 0,
        "start_time": "2022-04-17T15:47:02.600Z"
      },
      {
        "duration": 0,
        "start_time": "2022-04-17T15:47:02.601Z"
      },
      {
        "duration": 0,
        "start_time": "2022-04-17T15:47:02.602Z"
      },
      {
        "duration": 0,
        "start_time": "2022-04-17T15:47:02.604Z"
      },
      {
        "duration": 0,
        "start_time": "2022-04-17T15:47:02.605Z"
      },
      {
        "duration": 0,
        "start_time": "2022-04-17T15:47:02.606Z"
      },
      {
        "duration": 0,
        "start_time": "2022-04-17T15:47:02.607Z"
      },
      {
        "duration": 0,
        "start_time": "2022-04-17T15:47:02.608Z"
      },
      {
        "duration": 0,
        "start_time": "2022-04-17T15:47:02.610Z"
      },
      {
        "duration": 0,
        "start_time": "2022-04-17T15:47:02.611Z"
      },
      {
        "duration": 0,
        "start_time": "2022-04-17T15:47:02.612Z"
      },
      {
        "duration": 86,
        "start_time": "2022-04-17T15:47:02.616Z"
      },
      {
        "duration": 0,
        "start_time": "2022-04-17T15:47:02.705Z"
      },
      {
        "duration": 0,
        "start_time": "2022-04-17T15:47:02.707Z"
      },
      {
        "duration": 0,
        "start_time": "2022-04-17T15:47:02.709Z"
      },
      {
        "duration": 0,
        "start_time": "2022-04-17T15:47:02.711Z"
      },
      {
        "duration": 1229,
        "start_time": "2022-04-17T15:48:57.903Z"
      },
      {
        "duration": 1599,
        "start_time": "2022-04-17T15:49:29.497Z"
      },
      {
        "duration": 6,
        "start_time": "2022-04-17T15:49:31.100Z"
      },
      {
        "duration": 1195,
        "start_time": "2022-04-17T15:49:31.108Z"
      },
      {
        "duration": 16,
        "start_time": "2022-04-17T15:49:32.307Z"
      },
      {
        "duration": 71,
        "start_time": "2022-04-17T15:49:32.326Z"
      },
      {
        "duration": 34,
        "start_time": "2022-04-17T15:49:32.399Z"
      },
      {
        "duration": 73,
        "start_time": "2022-04-17T15:49:32.435Z"
      },
      {
        "duration": 33,
        "start_time": "2022-04-17T15:49:32.510Z"
      },
      {
        "duration": 12,
        "start_time": "2022-04-17T15:49:32.545Z"
      },
      {
        "duration": 32,
        "start_time": "2022-04-17T15:49:32.561Z"
      },
      {
        "duration": 40,
        "start_time": "2022-04-17T15:49:32.595Z"
      },
      {
        "duration": 15,
        "start_time": "2022-04-17T15:49:32.637Z"
      },
      {
        "duration": 64,
        "start_time": "2022-04-17T15:49:32.655Z"
      },
      {
        "duration": 20,
        "start_time": "2022-04-17T15:49:32.721Z"
      },
      {
        "duration": 87,
        "start_time": "2022-04-17T15:49:32.743Z"
      },
      {
        "duration": 17,
        "start_time": "2022-04-17T15:49:32.833Z"
      },
      {
        "duration": 13,
        "start_time": "2022-04-17T15:49:32.853Z"
      },
      {
        "duration": 66,
        "start_time": "2022-04-17T15:49:32.869Z"
      },
      {
        "duration": 28,
        "start_time": "2022-04-17T15:49:32.938Z"
      },
      {
        "duration": 57,
        "start_time": "2022-04-17T15:49:32.968Z"
      },
      {
        "duration": 25,
        "start_time": "2022-04-17T15:49:33.027Z"
      },
      {
        "duration": 77,
        "start_time": "2022-04-17T15:49:33.054Z"
      },
      {
        "duration": 13,
        "start_time": "2022-04-17T15:49:33.134Z"
      },
      {
        "duration": 11,
        "start_time": "2022-04-17T15:49:33.150Z"
      },
      {
        "duration": 55,
        "start_time": "2022-04-17T15:49:33.163Z"
      },
      {
        "duration": 20,
        "start_time": "2022-04-17T15:49:33.221Z"
      },
      {
        "duration": 50,
        "start_time": "2022-04-17T15:49:33.244Z"
      },
      {
        "duration": 307,
        "start_time": "2022-04-17T15:49:33.300Z"
      },
      {
        "duration": 9,
        "start_time": "2022-04-17T15:49:33.609Z"
      },
      {
        "duration": 44,
        "start_time": "2022-04-17T15:49:33.621Z"
      },
      {
        "duration": 29,
        "start_time": "2022-04-17T15:49:33.668Z"
      },
      {
        "duration": 10,
        "start_time": "2022-04-17T15:49:33.699Z"
      },
      {
        "duration": 13,
        "start_time": "2022-04-17T15:49:33.712Z"
      },
      {
        "duration": 723,
        "start_time": "2022-04-17T15:49:33.728Z"
      },
      {
        "duration": 11,
        "start_time": "2022-04-17T15:49:34.453Z"
      },
      {
        "duration": 30,
        "start_time": "2022-04-17T15:49:34.466Z"
      },
      {
        "duration": 9,
        "start_time": "2022-04-17T15:49:34.498Z"
      },
      {
        "duration": 899,
        "start_time": "2022-04-17T15:49:34.509Z"
      },
      {
        "duration": 15,
        "start_time": "2022-04-17T15:49:35.411Z"
      },
      {
        "duration": 22,
        "start_time": "2022-04-17T15:49:35.430Z"
      },
      {
        "duration": 20,
        "start_time": "2022-04-17T15:49:35.454Z"
      },
      {
        "duration": 707,
        "start_time": "2022-04-17T15:49:35.477Z"
      },
      {
        "duration": 11,
        "start_time": "2022-04-17T15:49:36.187Z"
      },
      {
        "duration": 29,
        "start_time": "2022-04-17T15:49:36.200Z"
      },
      {
        "duration": 14,
        "start_time": "2022-04-17T15:49:36.231Z"
      },
      {
        "duration": 13,
        "start_time": "2022-04-17T15:49:36.248Z"
      },
      {
        "duration": 866,
        "start_time": "2022-04-17T15:49:36.263Z"
      },
      {
        "duration": 9,
        "start_time": "2022-04-17T15:49:37.131Z"
      },
      {
        "duration": 30,
        "start_time": "2022-04-17T15:49:37.142Z"
      },
      {
        "duration": 23,
        "start_time": "2022-04-17T15:49:37.175Z"
      },
      {
        "duration": 708,
        "start_time": "2022-04-17T15:49:37.200Z"
      },
      {
        "duration": 115,
        "start_time": "2022-04-26T15:37:32.443Z"
      },
      {
        "duration": 42,
        "start_time": "2022-04-26T15:46:54.486Z"
      },
      {
        "duration": 105,
        "start_time": "2022-04-26T15:47:09.149Z"
      },
      {
        "duration": 1051,
        "start_time": "2022-04-26T15:47:47.421Z"
      },
      {
        "duration": 3,
        "start_time": "2022-04-26T15:47:48.474Z"
      },
      {
        "duration": 780,
        "start_time": "2022-04-26T15:47:48.479Z"
      },
      {
        "duration": 9,
        "start_time": "2022-04-26T15:47:49.261Z"
      },
      {
        "duration": 31,
        "start_time": "2022-04-26T15:47:49.273Z"
      },
      {
        "duration": 43,
        "start_time": "2022-04-26T15:47:49.306Z"
      },
      {
        "duration": 36,
        "start_time": "2022-04-26T15:47:49.351Z"
      },
      {
        "duration": 22,
        "start_time": "2022-04-26T15:47:49.389Z"
      },
      {
        "duration": 8,
        "start_time": "2022-04-26T15:47:49.413Z"
      },
      {
        "duration": 31,
        "start_time": "2022-04-26T15:47:49.423Z"
      },
      {
        "duration": 19,
        "start_time": "2022-04-26T15:47:49.456Z"
      },
      {
        "duration": 10,
        "start_time": "2022-04-26T15:47:49.476Z"
      },
      {
        "duration": 20,
        "start_time": "2022-04-26T15:47:49.487Z"
      },
      {
        "duration": 38,
        "start_time": "2022-04-26T15:47:49.509Z"
      },
      {
        "duration": 31,
        "start_time": "2022-04-26T15:47:49.549Z"
      },
      {
        "duration": 8,
        "start_time": "2022-04-26T15:47:49.581Z"
      },
      {
        "duration": 10,
        "start_time": "2022-04-26T15:47:49.591Z"
      },
      {
        "duration": 47,
        "start_time": "2022-04-26T15:47:49.603Z"
      },
      {
        "duration": 16,
        "start_time": "2022-04-26T15:47:49.652Z"
      },
      {
        "duration": 40,
        "start_time": "2022-04-26T15:47:49.670Z"
      },
      {
        "duration": 35,
        "start_time": "2022-04-26T15:47:49.712Z"
      },
      {
        "duration": 44,
        "start_time": "2022-04-26T15:47:49.750Z"
      },
      {
        "duration": 11,
        "start_time": "2022-04-26T15:47:49.796Z"
      },
      {
        "duration": 7,
        "start_time": "2022-04-26T15:47:49.808Z"
      },
      {
        "duration": 51,
        "start_time": "2022-04-26T15:47:49.817Z"
      },
      {
        "duration": 16,
        "start_time": "2022-04-26T15:47:49.870Z"
      },
      {
        "duration": 17,
        "start_time": "2022-04-26T15:47:49.888Z"
      },
      {
        "duration": 263,
        "start_time": "2022-04-26T15:47:49.907Z"
      },
      {
        "duration": 8,
        "start_time": "2022-04-26T15:47:50.172Z"
      },
      {
        "duration": 37,
        "start_time": "2022-04-26T15:47:50.182Z"
      },
      {
        "duration": 27,
        "start_time": "2022-04-26T15:47:50.221Z"
      },
      {
        "duration": 8,
        "start_time": "2022-04-26T15:47:50.250Z"
      },
      {
        "duration": 7,
        "start_time": "2022-04-26T15:47:50.260Z"
      },
      {
        "duration": 616,
        "start_time": "2022-04-26T15:47:50.269Z"
      },
      {
        "duration": 9,
        "start_time": "2022-04-26T15:47:50.887Z"
      },
      {
        "duration": 10,
        "start_time": "2022-04-26T15:47:50.898Z"
      },
      {
        "duration": 8,
        "start_time": "2022-04-26T15:47:50.910Z"
      },
      {
        "duration": 577,
        "start_time": "2022-04-26T15:47:50.921Z"
      },
      {
        "duration": 7,
        "start_time": "2022-04-26T15:47:51.500Z"
      },
      {
        "duration": 10,
        "start_time": "2022-04-26T15:47:51.508Z"
      },
      {
        "duration": 6,
        "start_time": "2022-04-26T15:47:51.523Z"
      },
      {
        "duration": 357,
        "start_time": "2022-04-26T15:47:51.548Z"
      },
      {
        "duration": 5,
        "start_time": "2022-04-26T15:47:51.907Z"
      },
      {
        "duration": 12,
        "start_time": "2022-04-26T15:47:51.914Z"
      },
      {
        "duration": 10,
        "start_time": "2022-04-26T15:47:51.947Z"
      },
      {
        "duration": 7,
        "start_time": "2022-04-26T15:47:51.958Z"
      },
      {
        "duration": 454,
        "start_time": "2022-04-26T15:47:51.967Z"
      },
      {
        "duration": 7,
        "start_time": "2022-04-26T15:47:52.423Z"
      },
      {
        "duration": 20,
        "start_time": "2022-04-26T15:47:52.432Z"
      },
      {
        "duration": 6,
        "start_time": "2022-04-26T15:47:52.454Z"
      },
      {
        "duration": 370,
        "start_time": "2022-04-26T15:47:52.462Z"
      },
      {
        "duration": 11,
        "start_time": "2022-04-26T16:13:00.906Z"
      },
      {
        "duration": 30,
        "start_time": "2022-04-26T16:23:13.025Z"
      },
      {
        "duration": 104,
        "start_time": "2022-04-26T16:25:20.646Z"
      },
      {
        "duration": 9,
        "start_time": "2022-04-26T16:29:41.824Z"
      },
      {
        "duration": 6,
        "start_time": "2022-04-26T16:34:59.171Z"
      },
      {
        "duration": 5,
        "start_time": "2022-04-26T16:35:07.476Z"
      },
      {
        "duration": 9,
        "start_time": "2022-04-26T16:39:52.816Z"
      },
      {
        "duration": 17,
        "start_time": "2022-04-26T16:39:53.646Z"
      },
      {
        "duration": 17,
        "start_time": "2022-04-26T16:40:16.383Z"
      },
      {
        "duration": 5,
        "start_time": "2022-04-26T16:42:22.147Z"
      },
      {
        "duration": 4,
        "start_time": "2022-04-26T16:43:53.311Z"
      },
      {
        "duration": 4,
        "start_time": "2022-04-26T16:44:09.494Z"
      },
      {
        "duration": 86,
        "start_time": "2022-04-26T16:44:24.352Z"
      },
      {
        "duration": 125,
        "start_time": "2022-04-26T16:44:55.898Z"
      },
      {
        "duration": 4,
        "start_time": "2022-04-26T16:46:47.733Z"
      },
      {
        "duration": 19,
        "start_time": "2022-04-26T16:47:36.648Z"
      },
      {
        "duration": 7,
        "start_time": "2022-04-26T16:47:57.424Z"
      },
      {
        "duration": 6,
        "start_time": "2022-04-26T16:48:04.008Z"
      },
      {
        "duration": 6,
        "start_time": "2022-04-26T16:48:49.530Z"
      },
      {
        "duration": 6,
        "start_time": "2022-04-26T16:50:20.736Z"
      },
      {
        "duration": 4,
        "start_time": "2022-04-26T16:50:26.821Z"
      },
      {
        "duration": 4,
        "start_time": "2022-04-26T16:50:32.567Z"
      },
      {
        "duration": 4,
        "start_time": "2022-04-26T16:50:42.350Z"
      },
      {
        "duration": 4,
        "start_time": "2022-04-26T16:50:58.478Z"
      },
      {
        "duration": 7,
        "start_time": "2022-04-26T17:34:44.148Z"
      },
      {
        "duration": 10,
        "start_time": "2022-04-26T17:34:56.365Z"
      },
      {
        "duration": 6,
        "start_time": "2022-04-26T17:35:01.506Z"
      },
      {
        "duration": 5,
        "start_time": "2022-04-26T17:35:23.828Z"
      },
      {
        "duration": 5,
        "start_time": "2022-04-26T17:35:56.779Z"
      },
      {
        "duration": 6,
        "start_time": "2022-04-26T17:36:03.996Z"
      },
      {
        "duration": 6,
        "start_time": "2022-04-26T17:36:22.100Z"
      },
      {
        "duration": 6,
        "start_time": "2022-04-26T17:36:42.261Z"
      },
      {
        "duration": 11,
        "start_time": "2022-04-26T17:38:25.649Z"
      },
      {
        "duration": 7,
        "start_time": "2022-04-26T17:38:32.961Z"
      },
      {
        "duration": 8,
        "start_time": "2022-04-26T17:38:44.289Z"
      },
      {
        "duration": 146,
        "start_time": "2022-04-26T22:18:55.284Z"
      },
      {
        "duration": 43,
        "start_time": "2022-04-26T22:39:35.540Z"
      },
      {
        "duration": 1238,
        "start_time": "2022-04-26T22:40:32.623Z"
      },
      {
        "duration": 4,
        "start_time": "2022-04-26T22:40:33.863Z"
      },
      {
        "duration": 924,
        "start_time": "2022-04-26T22:40:33.868Z"
      },
      {
        "duration": 11,
        "start_time": "2022-04-26T22:40:34.793Z"
      },
      {
        "duration": 46,
        "start_time": "2022-04-26T22:40:34.805Z"
      },
      {
        "duration": 23,
        "start_time": "2022-04-26T22:40:34.854Z"
      },
      {
        "duration": 43,
        "start_time": "2022-04-26T22:40:34.879Z"
      },
      {
        "duration": 37,
        "start_time": "2022-04-26T22:40:34.924Z"
      },
      {
        "duration": 9,
        "start_time": "2022-04-26T22:40:34.962Z"
      },
      {
        "duration": 8,
        "start_time": "2022-04-26T22:40:34.973Z"
      },
      {
        "duration": 24,
        "start_time": "2022-04-26T22:40:34.982Z"
      },
      {
        "duration": 11,
        "start_time": "2022-04-26T22:40:35.008Z"
      },
      {
        "duration": 41,
        "start_time": "2022-04-26T22:40:35.021Z"
      },
      {
        "duration": 14,
        "start_time": "2022-04-26T22:40:35.064Z"
      },
      {
        "duration": 34,
        "start_time": "2022-04-26T22:40:35.080Z"
      },
      {
        "duration": 9,
        "start_time": "2022-04-26T22:40:35.115Z"
      },
      {
        "duration": 29,
        "start_time": "2022-04-26T22:40:35.125Z"
      },
      {
        "duration": 20,
        "start_time": "2022-04-26T22:40:35.156Z"
      },
      {
        "duration": 15,
        "start_time": "2022-04-26T22:40:35.178Z"
      },
      {
        "duration": 24,
        "start_time": "2022-04-26T22:40:35.195Z"
      },
      {
        "duration": 33,
        "start_time": "2022-04-26T22:40:35.221Z"
      },
      {
        "duration": 34,
        "start_time": "2022-04-26T22:40:35.256Z"
      },
      {
        "duration": 8,
        "start_time": "2022-04-26T22:40:35.291Z"
      },
      {
        "duration": 8,
        "start_time": "2022-04-26T22:40:35.300Z"
      },
      {
        "duration": 21,
        "start_time": "2022-04-26T22:40:35.310Z"
      },
      {
        "duration": 29,
        "start_time": "2022-04-26T22:40:35.332Z"
      },
      {
        "duration": 16,
        "start_time": "2022-04-26T22:40:35.363Z"
      },
      {
        "duration": 167,
        "start_time": "2022-04-26T22:40:35.383Z"
      },
      {
        "duration": 7,
        "start_time": "2022-04-26T22:40:35.552Z"
      },
      {
        "duration": 33,
        "start_time": "2022-04-26T22:40:35.560Z"
      },
      {
        "duration": 5,
        "start_time": "2022-04-26T22:40:35.596Z"
      },
      {
        "duration": 29,
        "start_time": "2022-04-26T22:40:35.603Z"
      },
      {
        "duration": 26,
        "start_time": "2022-04-26T22:40:35.634Z"
      },
      {
        "duration": 22,
        "start_time": "2022-04-26T22:40:35.662Z"
      },
      {
        "duration": 389,
        "start_time": "2022-04-26T22:40:35.686Z"
      },
      {
        "duration": 9,
        "start_time": "2022-04-26T22:40:36.077Z"
      },
      {
        "duration": 19,
        "start_time": "2022-04-26T22:40:36.088Z"
      },
      {
        "duration": 9,
        "start_time": "2022-04-26T22:40:36.109Z"
      },
      {
        "duration": 359,
        "start_time": "2022-04-26T22:40:36.119Z"
      },
      {
        "duration": 8,
        "start_time": "2022-04-26T22:40:36.480Z"
      },
      {
        "duration": 12,
        "start_time": "2022-04-26T22:40:36.490Z"
      },
      {
        "duration": 9,
        "start_time": "2022-04-26T22:40:36.504Z"
      },
      {
        "duration": 386,
        "start_time": "2022-04-26T22:40:36.515Z"
      },
      {
        "duration": 5,
        "start_time": "2022-04-26T22:40:36.903Z"
      },
      {
        "duration": 14,
        "start_time": "2022-04-26T22:40:36.910Z"
      },
      {
        "duration": 30,
        "start_time": "2022-04-26T22:40:36.925Z"
      },
      {
        "duration": 9,
        "start_time": "2022-04-26T22:40:36.957Z"
      },
      {
        "duration": 11,
        "start_time": "2022-04-26T22:40:36.968Z"
      },
      {
        "duration": 474,
        "start_time": "2022-04-26T22:40:36.980Z"
      },
      {
        "duration": 7,
        "start_time": "2022-04-26T22:40:37.456Z"
      },
      {
        "duration": 12,
        "start_time": "2022-04-26T22:40:37.464Z"
      },
      {
        "duration": 7,
        "start_time": "2022-04-26T22:40:37.477Z"
      },
      {
        "duration": 377,
        "start_time": "2022-04-26T22:40:37.485Z"
      },
      {
        "duration": 2291,
        "start_time": "2022-04-26T22:49:06.132Z"
      },
      {
        "duration": 12,
        "start_time": "2022-04-26T22:49:25.980Z"
      },
      {
        "duration": 13,
        "start_time": "2022-04-26T22:49:51.558Z"
      },
      {
        "duration": 14,
        "start_time": "2022-04-26T22:50:31.624Z"
      },
      {
        "duration": 1268,
        "start_time": "2022-04-30T13:41:41.611Z"
      },
      {
        "duration": 4,
        "start_time": "2022-04-30T13:41:42.881Z"
      },
      {
        "duration": 791,
        "start_time": "2022-04-30T13:41:42.887Z"
      },
      {
        "duration": 198,
        "start_time": "2022-04-30T13:41:49.696Z"
      },
      {
        "duration": 102,
        "start_time": "2022-04-30T13:56:57.267Z"
      },
      {
        "duration": 3,
        "start_time": "2022-04-30T13:57:11.681Z"
      },
      {
        "duration": 6,
        "start_time": "2022-04-30T13:57:11.687Z"
      },
      {
        "duration": 748,
        "start_time": "2022-04-30T13:57:11.698Z"
      },
      {
        "duration": 244,
        "start_time": "2022-04-30T13:57:12.448Z"
      },
      {
        "duration": 13,
        "start_time": "2022-04-30T13:57:12.694Z"
      },
      {
        "duration": 36,
        "start_time": "2022-04-30T13:57:12.709Z"
      },
      {
        "duration": 47,
        "start_time": "2022-04-30T13:57:12.747Z"
      },
      {
        "duration": 36,
        "start_time": "2022-04-30T13:57:12.796Z"
      },
      {
        "duration": 17,
        "start_time": "2022-04-30T13:57:12.834Z"
      },
      {
        "duration": 44,
        "start_time": "2022-04-30T13:57:12.853Z"
      },
      {
        "duration": 13,
        "start_time": "2022-04-30T13:57:12.899Z"
      },
      {
        "duration": 21,
        "start_time": "2022-04-30T13:57:12.915Z"
      },
      {
        "duration": 15,
        "start_time": "2022-04-30T13:57:12.938Z"
      },
      {
        "duration": 14,
        "start_time": "2022-04-30T13:57:16.573Z"
      },
      {
        "duration": 26,
        "start_time": "2022-04-30T13:57:29.658Z"
      },
      {
        "duration": 18,
        "start_time": "2022-04-30T13:57:36.392Z"
      },
      {
        "duration": 3,
        "start_time": "2022-04-30T14:21:09.122Z"
      },
      {
        "duration": 9,
        "start_time": "2022-04-30T14:21:09.127Z"
      },
      {
        "duration": 711,
        "start_time": "2022-04-30T14:21:09.139Z"
      },
      {
        "duration": 198,
        "start_time": "2022-04-30T14:21:09.852Z"
      },
      {
        "duration": 11,
        "start_time": "2022-04-30T14:21:10.053Z"
      },
      {
        "duration": 50,
        "start_time": "2022-04-30T14:21:10.066Z"
      },
      {
        "duration": 24,
        "start_time": "2022-04-30T14:21:10.118Z"
      },
      {
        "duration": 28,
        "start_time": "2022-04-30T14:21:10.144Z"
      },
      {
        "duration": 30,
        "start_time": "2022-04-30T14:21:10.174Z"
      },
      {
        "duration": 14,
        "start_time": "2022-04-30T14:21:10.205Z"
      },
      {
        "duration": 8,
        "start_time": "2022-04-30T14:21:10.221Z"
      },
      {
        "duration": 22,
        "start_time": "2022-04-30T14:21:10.230Z"
      },
      {
        "duration": 46,
        "start_time": "2022-04-30T14:21:10.253Z"
      },
      {
        "duration": 15,
        "start_time": "2022-04-30T14:21:10.301Z"
      },
      {
        "duration": 12,
        "start_time": "2022-04-30T14:21:10.318Z"
      },
      {
        "duration": 11,
        "start_time": "2022-04-30T14:21:10.332Z"
      },
      {
        "duration": 53,
        "start_time": "2022-04-30T14:21:10.345Z"
      },
      {
        "duration": 19,
        "start_time": "2022-04-30T14:21:10.400Z"
      },
      {
        "duration": 15,
        "start_time": "2022-04-30T14:21:15.655Z"
      },
      {
        "duration": 3,
        "start_time": "2022-04-30T15:09:01.255Z"
      },
      {
        "duration": 13,
        "start_time": "2022-04-30T15:09:01.259Z"
      },
      {
        "duration": 748,
        "start_time": "2022-04-30T15:09:01.274Z"
      },
      {
        "duration": 209,
        "start_time": "2022-04-30T15:09:02.023Z"
      },
      {
        "duration": 11,
        "start_time": "2022-04-30T15:09:02.234Z"
      },
      {
        "duration": 48,
        "start_time": "2022-04-30T15:09:02.246Z"
      },
      {
        "duration": 24,
        "start_time": "2022-04-30T15:09:02.295Z"
      },
      {
        "duration": 28,
        "start_time": "2022-04-30T15:09:02.321Z"
      },
      {
        "duration": 15,
        "start_time": "2022-04-30T15:09:02.350Z"
      },
      {
        "duration": 38,
        "start_time": "2022-04-30T15:09:02.367Z"
      },
      {
        "duration": 10,
        "start_time": "2022-04-30T15:09:02.406Z"
      },
      {
        "duration": 22,
        "start_time": "2022-04-30T15:09:02.417Z"
      },
      {
        "duration": 22,
        "start_time": "2022-04-30T15:09:02.441Z"
      },
      {
        "duration": 36,
        "start_time": "2022-04-30T15:09:02.465Z"
      },
      {
        "duration": 12,
        "start_time": "2022-04-30T15:09:02.503Z"
      },
      {
        "duration": 13,
        "start_time": "2022-04-30T15:09:02.517Z"
      },
      {
        "duration": 26,
        "start_time": "2022-04-30T15:09:02.531Z"
      },
      {
        "duration": 38,
        "start_time": "2022-04-30T15:09:02.559Z"
      },
      {
        "duration": 15,
        "start_time": "2022-04-30T15:09:02.598Z"
      },
      {
        "duration": 15,
        "start_time": "2022-04-30T15:09:02.614Z"
      },
      {
        "duration": 9,
        "start_time": "2022-04-30T15:09:02.631Z"
      },
      {
        "duration": 15,
        "start_time": "2022-04-30T15:09:02.642Z"
      },
      {
        "duration": 43,
        "start_time": "2022-04-30T15:09:02.659Z"
      },
      {
        "duration": 7,
        "start_time": "2022-04-30T15:09:02.704Z"
      },
      {
        "duration": 9,
        "start_time": "2022-04-30T15:09:02.713Z"
      },
      {
        "duration": 26,
        "start_time": "2022-04-30T15:09:02.724Z"
      },
      {
        "duration": 48,
        "start_time": "2022-04-30T15:09:02.752Z"
      },
      {
        "duration": 21,
        "start_time": "2022-04-30T15:12:24.033Z"
      },
      {
        "duration": 3,
        "start_time": "2022-04-30T15:12:35.041Z"
      },
      {
        "duration": 4,
        "start_time": "2022-04-30T15:12:35.048Z"
      },
      {
        "duration": 709,
        "start_time": "2022-04-30T15:12:35.054Z"
      },
      {
        "duration": 192,
        "start_time": "2022-04-30T15:12:35.765Z"
      },
      {
        "duration": 11,
        "start_time": "2022-04-30T15:12:35.959Z"
      },
      {
        "duration": 48,
        "start_time": "2022-04-30T15:12:35.973Z"
      },
      {
        "duration": 25,
        "start_time": "2022-04-30T15:12:36.023Z"
      },
      {
        "duration": 28,
        "start_time": "2022-04-30T15:12:36.049Z"
      },
      {
        "duration": 15,
        "start_time": "2022-04-30T15:12:36.093Z"
      },
      {
        "duration": 15,
        "start_time": "2022-04-30T15:12:36.110Z"
      },
      {
        "duration": 9,
        "start_time": "2022-04-30T15:12:36.126Z"
      },
      {
        "duration": 21,
        "start_time": "2022-04-30T15:12:36.137Z"
      },
      {
        "duration": 52,
        "start_time": "2022-04-30T15:12:36.160Z"
      },
      {
        "duration": 16,
        "start_time": "2022-04-30T15:12:36.214Z"
      },
      {
        "duration": 12,
        "start_time": "2022-04-30T15:12:36.232Z"
      },
      {
        "duration": 11,
        "start_time": "2022-04-30T15:12:36.246Z"
      },
      {
        "duration": 52,
        "start_time": "2022-04-30T15:12:36.259Z"
      },
      {
        "duration": 18,
        "start_time": "2022-04-30T15:12:36.313Z"
      },
      {
        "duration": 14,
        "start_time": "2022-04-30T15:12:36.332Z"
      },
      {
        "duration": 13,
        "start_time": "2022-04-30T15:12:36.348Z"
      },
      {
        "duration": 39,
        "start_time": "2022-04-30T15:12:36.362Z"
      },
      {
        "duration": 12,
        "start_time": "2022-04-30T15:12:36.402Z"
      },
      {
        "duration": 16,
        "start_time": "2022-04-30T15:12:36.416Z"
      },
      {
        "duration": 6,
        "start_time": "2022-04-30T15:12:36.434Z"
      },
      {
        "duration": 9,
        "start_time": "2022-04-30T15:12:36.441Z"
      },
      {
        "duration": 20,
        "start_time": "2022-04-30T15:12:36.452Z"
      },
      {
        "duration": 21,
        "start_time": "2022-04-30T15:12:50.681Z"
      },
      {
        "duration": 13,
        "start_time": "2022-04-30T15:13:32.464Z"
      },
      {
        "duration": 2259,
        "start_time": "2022-04-30T15:15:12.355Z"
      },
      {
        "duration": 31,
        "start_time": "2022-04-30T15:16:00.769Z"
      },
      {
        "duration": 14,
        "start_time": "2022-04-30T15:17:21.132Z"
      },
      {
        "duration": 10,
        "start_time": "2022-04-30T15:18:11.258Z"
      },
      {
        "duration": 14,
        "start_time": "2022-04-30T15:18:52.034Z"
      },
      {
        "duration": 3,
        "start_time": "2022-04-30T15:30:12.187Z"
      },
      {
        "duration": 6,
        "start_time": "2022-04-30T15:30:15.382Z"
      },
      {
        "duration": 8,
        "start_time": "2022-04-30T15:30:18.035Z"
      },
      {
        "duration": 462,
        "start_time": "2022-04-30T15:30:45.572Z"
      },
      {
        "duration": 6,
        "start_time": "2022-04-30T15:32:30.061Z"
      },
      {
        "duration": 365,
        "start_time": "2022-04-30T15:32:58.401Z"
      },
      {
        "duration": 8,
        "start_time": "2022-04-30T15:33:39.238Z"
      },
      {
        "duration": 380,
        "start_time": "2022-04-30T15:34:08.990Z"
      },
      {
        "duration": 465,
        "start_time": "2022-04-30T15:34:44.721Z"
      },
      {
        "duration": 357,
        "start_time": "2022-04-30T15:34:53.865Z"
      },
      {
        "duration": 10,
        "start_time": "2022-04-30T15:36:01.147Z"
      },
      {
        "duration": 5,
        "start_time": "2022-04-30T15:38:01.711Z"
      },
      {
        "duration": 7,
        "start_time": "2022-04-30T15:39:36.406Z"
      },
      {
        "duration": 377,
        "start_time": "2022-04-30T15:40:21.370Z"
      },
      {
        "duration": 11,
        "start_time": "2022-04-30T15:47:48.482Z"
      },
      {
        "duration": 7,
        "start_time": "2022-04-30T15:48:24.838Z"
      },
      {
        "duration": 465,
        "start_time": "2022-04-30T15:52:24.987Z"
      },
      {
        "duration": 3,
        "start_time": "2022-04-30T15:57:40.680Z"
      },
      {
        "duration": 3,
        "start_time": "2022-04-30T15:57:43.493Z"
      },
      {
        "duration": 739,
        "start_time": "2022-04-30T15:57:45.037Z"
      },
      {
        "duration": 172,
        "start_time": "2022-04-30T15:58:02.949Z"
      },
      {
        "duration": 12,
        "start_time": "2022-04-30T15:58:33.563Z"
      },
      {
        "duration": 52,
        "start_time": "2022-04-30T16:02:00.143Z"
      },
      {
        "duration": 33,
        "start_time": "2022-04-30T16:02:43.032Z"
      },
      {
        "duration": 21,
        "start_time": "2022-04-30T16:06:19.014Z"
      },
      {
        "duration": 23,
        "start_time": "2022-04-30T16:06:59.891Z"
      },
      {
        "duration": 3,
        "start_time": "2022-04-30T16:07:07.629Z"
      },
      {
        "duration": 4,
        "start_time": "2022-04-30T16:07:07.636Z"
      },
      {
        "duration": 830,
        "start_time": "2022-04-30T16:07:07.673Z"
      },
      {
        "duration": 170,
        "start_time": "2022-04-30T16:07:08.505Z"
      },
      {
        "duration": 16,
        "start_time": "2022-04-30T16:07:08.677Z"
      },
      {
        "duration": 33,
        "start_time": "2022-04-30T16:07:08.695Z"
      },
      {
        "duration": 24,
        "start_time": "2022-04-30T16:07:08.730Z"
      },
      {
        "duration": 44,
        "start_time": "2022-04-30T16:07:08.756Z"
      },
      {
        "duration": 15,
        "start_time": "2022-04-30T16:07:08.802Z"
      },
      {
        "duration": 15,
        "start_time": "2022-04-30T16:07:08.819Z"
      },
      {
        "duration": 8,
        "start_time": "2022-04-30T16:07:08.835Z"
      },
      {
        "duration": 47,
        "start_time": "2022-04-30T16:07:08.845Z"
      },
      {
        "duration": 22,
        "start_time": "2022-04-30T16:07:08.894Z"
      },
      {
        "duration": 17,
        "start_time": "2022-04-30T16:07:08.918Z"
      },
      {
        "duration": 12,
        "start_time": "2022-04-30T16:07:08.937Z"
      },
      {
        "duration": 11,
        "start_time": "2022-04-30T16:07:08.950Z"
      },
      {
        "duration": 50,
        "start_time": "2022-04-30T16:07:08.963Z"
      },
      {
        "duration": 18,
        "start_time": "2022-04-30T16:07:09.015Z"
      },
      {
        "duration": 15,
        "start_time": "2022-04-30T16:07:09.035Z"
      },
      {
        "duration": 15,
        "start_time": "2022-04-30T16:07:09.051Z"
      },
      {
        "duration": 10,
        "start_time": "2022-04-30T16:07:09.092Z"
      },
      {
        "duration": 13,
        "start_time": "2022-04-30T16:07:09.104Z"
      },
      {
        "duration": 20,
        "start_time": "2022-04-30T16:07:09.119Z"
      },
      {
        "duration": 17,
        "start_time": "2022-04-30T16:07:18.872Z"
      },
      {
        "duration": 3,
        "start_time": "2022-04-30T16:07:38.626Z"
      },
      {
        "duration": 6,
        "start_time": "2022-04-30T16:07:38.633Z"
      },
      {
        "duration": 735,
        "start_time": "2022-04-30T16:07:38.642Z"
      },
      {
        "duration": 174,
        "start_time": "2022-04-30T16:07:39.379Z"
      },
      {
        "duration": 12,
        "start_time": "2022-04-30T16:07:39.554Z"
      },
      {
        "duration": 46,
        "start_time": "2022-04-30T16:07:39.568Z"
      },
      {
        "duration": 24,
        "start_time": "2022-04-30T16:07:39.616Z"
      },
      {
        "duration": 29,
        "start_time": "2022-04-30T16:07:39.642Z"
      },
      {
        "duration": 32,
        "start_time": "2022-04-30T16:07:39.672Z"
      },
      {
        "duration": 15,
        "start_time": "2022-04-30T16:07:39.706Z"
      },
      {
        "duration": 9,
        "start_time": "2022-04-30T16:07:39.723Z"
      },
      {
        "duration": 26,
        "start_time": "2022-04-30T16:07:39.735Z"
      },
      {
        "duration": 43,
        "start_time": "2022-04-30T16:07:39.763Z"
      },
      {
        "duration": 16,
        "start_time": "2022-04-30T16:07:39.807Z"
      },
      {
        "duration": 12,
        "start_time": "2022-04-30T16:07:39.824Z"
      },
      {
        "duration": 11,
        "start_time": "2022-04-30T16:07:39.838Z"
      },
      {
        "duration": 54,
        "start_time": "2022-04-30T16:07:39.850Z"
      },
      {
        "duration": 18,
        "start_time": "2022-04-30T16:07:39.906Z"
      },
      {
        "duration": 15,
        "start_time": "2022-04-30T16:07:39.926Z"
      },
      {
        "duration": 14,
        "start_time": "2022-04-30T16:07:39.942Z"
      },
      {
        "duration": 38,
        "start_time": "2022-04-30T16:07:39.958Z"
      },
      {
        "duration": 13,
        "start_time": "2022-04-30T16:07:39.998Z"
      },
      {
        "duration": 17,
        "start_time": "2022-04-30T16:07:40.012Z"
      },
      {
        "duration": 7,
        "start_time": "2022-04-30T16:07:40.030Z"
      },
      {
        "duration": 12,
        "start_time": "2022-04-30T16:07:40.039Z"
      },
      {
        "duration": 41,
        "start_time": "2022-04-30T16:07:40.053Z"
      },
      {
        "duration": 14,
        "start_time": "2022-04-30T16:07:40.096Z"
      },
      {
        "duration": 17,
        "start_time": "2022-04-30T16:07:40.111Z"
      },
      {
        "duration": 27,
        "start_time": "2022-04-30T16:07:40.129Z"
      },
      {
        "duration": 34,
        "start_time": "2022-04-30T16:07:40.159Z"
      },
      {
        "duration": 10,
        "start_time": "2022-04-30T16:07:40.195Z"
      },
      {
        "duration": 13,
        "start_time": "2022-04-30T16:07:40.206Z"
      },
      {
        "duration": 3,
        "start_time": "2022-04-30T16:07:40.221Z"
      },
      {
        "duration": 9,
        "start_time": "2022-04-30T16:07:40.226Z"
      },
      {
        "duration": 8,
        "start_time": "2022-04-30T16:07:40.237Z"
      },
      {
        "duration": 11,
        "start_time": "2022-04-30T16:07:40.247Z"
      },
      {
        "duration": 380,
        "start_time": "2022-04-30T16:07:40.259Z"
      },
      {
        "duration": 6,
        "start_time": "2022-04-30T16:07:40.641Z"
      },
      {
        "duration": 356,
        "start_time": "2022-04-30T16:07:40.649Z"
      },
      {
        "duration": 6,
        "start_time": "2022-04-30T16:07:41.006Z"
      },
      {
        "duration": 430,
        "start_time": "2022-04-30T16:07:41.014Z"
      },
      {
        "duration": 4,
        "start_time": "2022-04-30T16:07:41.446Z"
      },
      {
        "duration": 9,
        "start_time": "2022-04-30T16:07:41.451Z"
      },
      {
        "duration": 4,
        "start_time": "2022-04-30T16:07:41.462Z"
      },
      {
        "duration": 401,
        "start_time": "2022-04-30T16:07:41.468Z"
      },
      {
        "duration": 10,
        "start_time": "2022-04-30T16:07:41.870Z"
      },
      {
        "duration": 6,
        "start_time": "2022-04-30T16:07:41.892Z"
      },
      {
        "duration": 368,
        "start_time": "2022-04-30T16:07:41.899Z"
      },
      {
        "duration": 4,
        "start_time": "2022-04-30T16:11:45.931Z"
      },
      {
        "duration": 6,
        "start_time": "2022-04-30T16:11:45.938Z"
      },
      {
        "duration": 696,
        "start_time": "2022-04-30T16:11:45.946Z"
      },
      {
        "duration": 184,
        "start_time": "2022-04-30T16:11:46.644Z"
      },
      {
        "duration": 11,
        "start_time": "2022-04-30T16:11:46.830Z"
      },
      {
        "duration": 51,
        "start_time": "2022-04-30T16:11:46.843Z"
      },
      {
        "duration": 24,
        "start_time": "2022-04-30T16:11:46.896Z"
      },
      {
        "duration": 29,
        "start_time": "2022-04-30T16:11:46.921Z"
      },
      {
        "duration": 14,
        "start_time": "2022-04-30T16:11:46.952Z"
      },
      {
        "duration": 37,
        "start_time": "2022-04-30T16:11:46.969Z"
      },
      {
        "duration": 10,
        "start_time": "2022-04-30T16:11:47.008Z"
      },
      {
        "duration": 20,
        "start_time": "2022-04-30T16:11:47.020Z"
      },
      {
        "duration": 51,
        "start_time": "2022-04-30T16:11:47.042Z"
      },
      {
        "duration": 18,
        "start_time": "2022-04-30T16:11:47.094Z"
      },
      {
        "duration": 14,
        "start_time": "2022-04-30T16:11:47.114Z"
      },
      {
        "duration": 12,
        "start_time": "2022-04-30T16:11:47.130Z"
      },
      {
        "duration": 54,
        "start_time": "2022-04-30T16:11:47.144Z"
      },
      {
        "duration": 18,
        "start_time": "2022-04-30T16:11:47.200Z"
      },
      {
        "duration": 15,
        "start_time": "2022-04-30T16:11:47.220Z"
      },
      {
        "duration": 15,
        "start_time": "2022-04-30T16:11:47.237Z"
      },
      {
        "duration": 40,
        "start_time": "2022-04-30T16:11:47.254Z"
      },
      {
        "duration": 13,
        "start_time": "2022-04-30T16:11:47.296Z"
      },
      {
        "duration": 16,
        "start_time": "2022-04-30T16:11:47.311Z"
      },
      {
        "duration": 7,
        "start_time": "2022-04-30T16:11:47.328Z"
      },
      {
        "duration": 8,
        "start_time": "2022-04-30T16:11:47.340Z"
      },
      {
        "duration": 55,
        "start_time": "2022-04-30T16:11:47.350Z"
      },
      {
        "duration": 15,
        "start_time": "2022-04-30T16:11:47.407Z"
      },
      {
        "duration": 14,
        "start_time": "2022-04-30T16:11:47.424Z"
      },
      {
        "duration": 11,
        "start_time": "2022-04-30T16:11:47.439Z"
      },
      {
        "duration": 10,
        "start_time": "2022-04-30T16:11:47.451Z"
      },
      {
        "duration": 42,
        "start_time": "2022-04-30T16:11:47.463Z"
      },
      {
        "duration": 24,
        "start_time": "2022-04-30T16:11:47.507Z"
      },
      {
        "duration": 3,
        "start_time": "2022-04-30T16:11:47.533Z"
      },
      {
        "duration": 3,
        "start_time": "2022-04-30T16:11:47.538Z"
      },
      {
        "duration": 13,
        "start_time": "2022-04-30T16:11:47.543Z"
      },
      {
        "duration": 18,
        "start_time": "2022-04-30T16:11:47.558Z"
      },
      {
        "duration": 467,
        "start_time": "2022-04-30T16:11:47.593Z"
      },
      {
        "duration": 7,
        "start_time": "2022-04-30T16:11:48.062Z"
      },
      {
        "duration": 361,
        "start_time": "2022-04-30T16:11:48.070Z"
      },
      {
        "duration": 6,
        "start_time": "2022-04-30T16:11:48.433Z"
      },
      {
        "duration": 344,
        "start_time": "2022-04-30T16:11:48.441Z"
      },
      {
        "duration": 6,
        "start_time": "2022-04-30T16:11:48.787Z"
      },
      {
        "duration": 12,
        "start_time": "2022-04-30T16:11:48.794Z"
      },
      {
        "duration": 5,
        "start_time": "2022-04-30T16:11:48.807Z"
      },
      {
        "duration": 384,
        "start_time": "2022-04-30T16:11:48.814Z"
      },
      {
        "duration": 10,
        "start_time": "2022-04-30T16:11:49.200Z"
      },
      {
        "duration": 8,
        "start_time": "2022-04-30T16:11:49.212Z"
      },
      {
        "duration": 494,
        "start_time": "2022-04-30T16:11:49.222Z"
      },
      {
        "duration": 1034,
        "start_time": "2022-04-30T16:27:51.296Z"
      },
      {
        "duration": 3,
        "start_time": "2022-04-30T16:27:52.332Z"
      },
      {
        "duration": 796,
        "start_time": "2022-04-30T16:27:52.337Z"
      },
      {
        "duration": 206,
        "start_time": "2022-04-30T16:27:53.135Z"
      },
      {
        "duration": 16,
        "start_time": "2022-04-30T16:27:53.343Z"
      },
      {
        "duration": 61,
        "start_time": "2022-04-30T16:27:53.361Z"
      },
      {
        "duration": 29,
        "start_time": "2022-04-30T16:27:53.424Z"
      },
      {
        "duration": 56,
        "start_time": "2022-04-30T16:27:53.456Z"
      },
      {
        "duration": 25,
        "start_time": "2022-04-30T16:27:53.514Z"
      },
      {
        "duration": 16,
        "start_time": "2022-04-30T16:27:53.543Z"
      },
      {
        "duration": 31,
        "start_time": "2022-04-30T16:27:53.561Z"
      },
      {
        "duration": 21,
        "start_time": "2022-04-30T16:27:53.594Z"
      },
      {
        "duration": 22,
        "start_time": "2022-04-30T16:27:53.617Z"
      },
      {
        "duration": 17,
        "start_time": "2022-04-30T16:27:53.641Z"
      },
      {
        "duration": 43,
        "start_time": "2022-04-30T16:27:53.660Z"
      },
      {
        "duration": 11,
        "start_time": "2022-04-30T16:27:53.704Z"
      },
      {
        "duration": 29,
        "start_time": "2022-04-30T16:27:53.717Z"
      },
      {
        "duration": 18,
        "start_time": "2022-04-30T16:27:53.747Z"
      },
      {
        "duration": 40,
        "start_time": "2022-04-30T16:27:53.767Z"
      },
      {
        "duration": 22,
        "start_time": "2022-04-30T16:27:53.809Z"
      },
      {
        "duration": 14,
        "start_time": "2022-04-30T16:27:53.833Z"
      },
      {
        "duration": 13,
        "start_time": "2022-04-30T16:27:53.848Z"
      },
      {
        "duration": 44,
        "start_time": "2022-04-30T16:27:53.863Z"
      },
      {
        "duration": 7,
        "start_time": "2022-04-30T16:27:53.909Z"
      },
      {
        "duration": 9,
        "start_time": "2022-04-30T16:27:53.918Z"
      },
      {
        "duration": 20,
        "start_time": "2022-04-30T16:27:53.929Z"
      },
      {
        "duration": 15,
        "start_time": "2022-04-30T16:27:53.951Z"
      },
      {
        "duration": 13,
        "start_time": "2022-04-30T16:27:53.992Z"
      },
      {
        "duration": 12,
        "start_time": "2022-04-30T16:27:54.006Z"
      },
      {
        "duration": 10,
        "start_time": "2022-04-30T16:27:54.020Z"
      },
      {
        "duration": 18,
        "start_time": "2022-04-30T16:27:54.032Z"
      },
      {
        "duration": 52,
        "start_time": "2022-04-30T16:27:54.052Z"
      },
      {
        "duration": 4,
        "start_time": "2022-04-30T16:27:54.106Z"
      },
      {
        "duration": 5,
        "start_time": "2022-04-30T16:27:54.112Z"
      },
      {
        "duration": 8,
        "start_time": "2022-04-30T16:27:54.118Z"
      },
      {
        "duration": 11,
        "start_time": "2022-04-30T16:27:54.127Z"
      },
      {
        "duration": 405,
        "start_time": "2022-04-30T16:27:54.140Z"
      },
      {
        "duration": 7,
        "start_time": "2022-04-30T16:27:54.546Z"
      },
      {
        "duration": 380,
        "start_time": "2022-04-30T16:27:54.555Z"
      },
      {
        "duration": 6,
        "start_time": "2022-04-30T16:27:54.937Z"
      },
      {
        "duration": 454,
        "start_time": "2022-04-30T16:27:54.945Z"
      },
      {
        "duration": 5,
        "start_time": "2022-04-30T16:27:55.400Z"
      },
      {
        "duration": 9,
        "start_time": "2022-04-30T16:27:55.406Z"
      },
      {
        "duration": 5,
        "start_time": "2022-04-30T16:27:55.417Z"
      },
      {
        "duration": 421,
        "start_time": "2022-04-30T16:27:55.424Z"
      },
      {
        "duration": 11,
        "start_time": "2022-04-30T16:27:55.848Z"
      },
      {
        "duration": 6,
        "start_time": "2022-04-30T16:27:55.861Z"
      },
      {
        "duration": 430,
        "start_time": "2022-04-30T16:27:55.870Z"
      },
      {
        "duration": 140,
        "start_time": "2022-05-01T09:36:33.483Z"
      },
      {
        "duration": 42,
        "start_time": "2022-05-01T09:45:49.768Z"
      },
      {
        "duration": 1124,
        "start_time": "2022-05-01T09:45:58.566Z"
      },
      {
        "duration": 4,
        "start_time": "2022-05-01T09:45:59.693Z"
      },
      {
        "duration": 876,
        "start_time": "2022-05-01T09:45:59.699Z"
      },
      {
        "duration": 325,
        "start_time": "2022-05-01T09:46:00.579Z"
      },
      {
        "duration": 19,
        "start_time": "2022-05-01T09:46:00.907Z"
      },
      {
        "duration": 50,
        "start_time": "2022-05-01T09:46:00.928Z"
      },
      {
        "duration": 25,
        "start_time": "2022-05-01T09:46:00.980Z"
      },
      {
        "duration": 53,
        "start_time": "2022-05-01T09:46:01.007Z"
      },
      {
        "duration": 23,
        "start_time": "2022-05-01T09:46:01.061Z"
      },
      {
        "duration": 17,
        "start_time": "2022-05-01T09:46:01.087Z"
      },
      {
        "duration": 11,
        "start_time": "2022-05-01T09:46:01.106Z"
      },
      {
        "duration": 52,
        "start_time": "2022-05-01T09:46:01.118Z"
      },
      {
        "duration": 24,
        "start_time": "2022-05-01T09:46:01.172Z"
      },
      {
        "duration": 21,
        "start_time": "2022-05-01T09:46:01.198Z"
      },
      {
        "duration": 44,
        "start_time": "2022-05-01T09:46:01.221Z"
      },
      {
        "duration": 15,
        "start_time": "2022-05-01T09:46:01.267Z"
      },
      {
        "duration": 31,
        "start_time": "2022-05-01T09:46:01.283Z"
      },
      {
        "duration": 43,
        "start_time": "2022-05-01T09:46:01.316Z"
      },
      {
        "duration": 16,
        "start_time": "2022-05-01T09:46:01.361Z"
      },
      {
        "duration": 17,
        "start_time": "2022-05-01T09:46:01.380Z"
      },
      {
        "duration": 13,
        "start_time": "2022-05-01T09:46:01.400Z"
      },
      {
        "duration": 43,
        "start_time": "2022-05-01T09:46:01.414Z"
      },
      {
        "duration": 31,
        "start_time": "2022-05-01T09:46:01.459Z"
      },
      {
        "duration": 18,
        "start_time": "2022-05-01T09:46:01.492Z"
      },
      {
        "duration": 23,
        "start_time": "2022-05-01T09:46:01.512Z"
      },
      {
        "duration": 32,
        "start_time": "2022-05-01T09:46:01.537Z"
      },
      {
        "duration": 15,
        "start_time": "2022-05-01T09:46:01.571Z"
      },
      {
        "duration": 18,
        "start_time": "2022-05-01T09:46:01.590Z"
      },
      {
        "duration": 59,
        "start_time": "2022-05-01T09:46:01.610Z"
      },
      {
        "duration": 20,
        "start_time": "2022-05-01T09:46:01.671Z"
      },
      {
        "duration": 19,
        "start_time": "2022-05-01T09:46:01.694Z"
      },
      {
        "duration": 27,
        "start_time": "2022-05-01T09:46:01.715Z"
      },
      {
        "duration": 14,
        "start_time": "2022-05-01T09:46:01.744Z"
      },
      {
        "duration": 11,
        "start_time": "2022-05-01T09:46:01.760Z"
      },
      {
        "duration": 15,
        "start_time": "2022-05-01T09:46:01.772Z"
      },
      {
        "duration": 124,
        "start_time": "2022-05-01T09:46:01.790Z"
      },
      {
        "duration": 711,
        "start_time": "2022-05-01T09:46:01.916Z"
      },
      {
        "duration": 7,
        "start_time": "2022-05-01T09:46:02.629Z"
      },
      {
        "duration": 375,
        "start_time": "2022-05-01T09:46:02.638Z"
      },
      {
        "duration": 7,
        "start_time": "2022-05-01T09:46:03.015Z"
      },
      {
        "duration": 467,
        "start_time": "2022-05-01T09:46:03.024Z"
      },
      {
        "duration": 6,
        "start_time": "2022-05-01T09:46:03.493Z"
      },
      {
        "duration": 13,
        "start_time": "2022-05-01T09:46:03.500Z"
      },
      {
        "duration": 6,
        "start_time": "2022-05-01T09:46:03.515Z"
      },
      {
        "duration": 397,
        "start_time": "2022-05-01T09:46:03.523Z"
      },
      {
        "duration": 9,
        "start_time": "2022-05-01T09:46:03.923Z"
      },
      {
        "duration": 22,
        "start_time": "2022-05-01T09:46:03.934Z"
      },
      {
        "duration": 379,
        "start_time": "2022-05-01T09:46:03.958Z"
      },
      {
        "duration": 26,
        "start_time": "2022-05-01T09:46:04.338Z"
      },
      {
        "duration": 4,
        "start_time": "2022-05-01T09:46:16.327Z"
      },
      {
        "duration": 6,
        "start_time": "2022-05-01T09:46:27.511Z"
      },
      {
        "duration": 288,
        "start_time": "2022-05-01T09:49:07.870Z"
      },
      {
        "duration": 169,
        "start_time": "2022-05-01T09:49:40.085Z"
      },
      {
        "duration": 153,
        "start_time": "2022-05-01T09:49:57.064Z"
      },
      {
        "duration": 150,
        "start_time": "2022-05-01T09:50:28.055Z"
      },
      {
        "duration": 177,
        "start_time": "2022-05-01T09:50:31.024Z"
      },
      {
        "duration": 1369,
        "start_time": "2022-05-01T09:50:32.022Z"
      },
      {
        "duration": 1147,
        "start_time": "2022-05-01T09:52:20.310Z"
      },
      {
        "duration": 5,
        "start_time": "2022-05-01T09:52:21.459Z"
      },
      {
        "duration": 927,
        "start_time": "2022-05-01T09:52:21.467Z"
      },
      {
        "duration": 305,
        "start_time": "2022-05-01T09:52:22.397Z"
      },
      {
        "duration": 12,
        "start_time": "2022-05-01T09:52:22.704Z"
      },
      {
        "duration": 68,
        "start_time": "2022-05-01T09:52:22.718Z"
      },
      {
        "duration": 36,
        "start_time": "2022-05-01T09:52:22.788Z"
      },
      {
        "duration": 62,
        "start_time": "2022-05-01T09:52:22.826Z"
      },
      {
        "duration": 30,
        "start_time": "2022-05-01T09:52:22.891Z"
      },
      {
        "duration": 41,
        "start_time": "2022-05-01T09:52:22.924Z"
      },
      {
        "duration": 14,
        "start_time": "2022-05-01T09:52:22.967Z"
      },
      {
        "duration": 28,
        "start_time": "2022-05-01T09:52:22.983Z"
      },
      {
        "duration": 52,
        "start_time": "2022-05-01T09:52:23.012Z"
      },
      {
        "duration": 29,
        "start_time": "2022-05-01T09:52:23.065Z"
      },
      {
        "duration": 20,
        "start_time": "2022-05-01T09:52:23.096Z"
      },
      {
        "duration": 51,
        "start_time": "2022-05-01T09:52:23.118Z"
      },
      {
        "duration": 40,
        "start_time": "2022-05-01T09:52:23.171Z"
      },
      {
        "duration": 45,
        "start_time": "2022-05-01T09:52:23.213Z"
      },
      {
        "duration": 24,
        "start_time": "2022-05-01T09:52:23.261Z"
      },
      {
        "duration": 22,
        "start_time": "2022-05-01T09:52:23.288Z"
      },
      {
        "duration": 15,
        "start_time": "2022-05-01T09:52:23.312Z"
      },
      {
        "duration": 22,
        "start_time": "2022-05-01T09:52:23.354Z"
      },
      {
        "duration": 31,
        "start_time": "2022-05-01T09:52:23.379Z"
      },
      {
        "duration": 10,
        "start_time": "2022-05-01T09:52:23.413Z"
      },
      {
        "duration": 50,
        "start_time": "2022-05-01T09:52:23.425Z"
      },
      {
        "duration": 28,
        "start_time": "2022-05-01T09:52:23.478Z"
      },
      {
        "duration": 17,
        "start_time": "2022-05-01T09:52:23.508Z"
      },
      {
        "duration": 22,
        "start_time": "2022-05-01T09:52:23.556Z"
      },
      {
        "duration": 14,
        "start_time": "2022-05-01T09:52:23.580Z"
      },
      {
        "duration": 13,
        "start_time": "2022-05-01T09:52:23.596Z"
      },
      {
        "duration": 45,
        "start_time": "2022-05-01T09:52:23.611Z"
      },
      {
        "duration": 32,
        "start_time": "2022-05-01T09:52:23.658Z"
      },
      {
        "duration": 12,
        "start_time": "2022-05-01T09:52:23.692Z"
      },
      {
        "duration": 6,
        "start_time": "2022-05-01T09:52:23.707Z"
      },
      {
        "duration": 10,
        "start_time": "2022-05-01T09:52:23.715Z"
      },
      {
        "duration": 32,
        "start_time": "2022-05-01T09:52:23.728Z"
      },
      {
        "duration": 805,
        "start_time": "2022-05-01T09:52:23.762Z"
      },
      {
        "duration": 10,
        "start_time": "2022-05-01T09:52:24.570Z"
      },
      {
        "duration": 606,
        "start_time": "2022-05-01T09:52:24.582Z"
      },
      {
        "duration": 9,
        "start_time": "2022-05-01T09:52:25.190Z"
      },
      {
        "duration": 612,
        "start_time": "2022-05-01T09:52:25.201Z"
      },
      {
        "duration": 4,
        "start_time": "2022-05-01T09:52:25.815Z"
      },
      {
        "duration": 14,
        "start_time": "2022-05-01T09:52:25.820Z"
      },
      {
        "duration": 24,
        "start_time": "2022-05-01T09:52:25.836Z"
      },
      {
        "duration": 383,
        "start_time": "2022-05-01T09:52:25.862Z"
      },
      {
        "duration": 16,
        "start_time": "2022-05-01T09:52:26.248Z"
      },
      {
        "duration": 29,
        "start_time": "2022-05-01T09:52:26.265Z"
      },
      {
        "duration": 716,
        "start_time": "2022-05-01T09:52:26.296Z"
      },
      {
        "duration": 6,
        "start_time": "2022-05-01T09:52:27.014Z"
      },
      {
        "duration": 118,
        "start_time": "2022-05-01T09:52:27.023Z"
      },
      {
        "duration": 1794,
        "start_time": "2022-05-01T09:52:27.144Z"
      },
      {
        "duration": 479,
        "start_time": "2022-05-01T09:52:28.941Z"
      },
      {
        "duration": 180,
        "start_time": "2022-05-01T09:52:29.422Z"
      },
      {
        "duration": 167,
        "start_time": "2022-05-01T09:52:29.603Z"
      },
      {
        "duration": 31,
        "start_time": "2022-05-01T09:52:29.772Z"
      }
    ],
    "kernelspec": {
      "display_name": "Python 3 (ipykernel)",
      "language": "python",
      "name": "python3"
    },
    "language_info": {
      "codemirror_mode": {
        "name": "ipython",
        "version": 3
      },
      "file_extension": ".py",
      "mimetype": "text/x-python",
      "name": "python",
      "nbconvert_exporter": "python",
      "pygments_lexer": "ipython3",
      "version": "3.9.5"
    },
    "toc": {
      "base_numbering": 1,
      "nav_menu": {},
      "number_sections": true,
      "sideBar": true,
      "skip_h1_title": true,
      "title_cell": "Table of Contents",
      "title_sidebar": "Contents",
      "toc_cell": false,
      "toc_position": {
        "height": "calc(100% - 180px)",
        "left": "10px",
        "top": "150px",
        "width": "165px"
      },
      "toc_section_display": true,
      "toc_window_display": true
    },
    "colab": {
      "provenance": [],
      "collapsed_sections": [],
      "include_colab_link": true
    }
  },
  "nbformat": 4,
  "nbformat_minor": 0
}